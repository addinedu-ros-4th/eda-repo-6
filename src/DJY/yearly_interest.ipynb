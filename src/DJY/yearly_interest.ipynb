{
 "cells": [
  {
   "cell_type": "code",
   "execution_count": 1,
   "metadata": {},
   "outputs": [
    {
     "name": "stderr",
     "output_type": "stream",
     "text": [
      "/tmp/ipykernel_15198/1306082646.py:8: DeprecationWarning: ssl.PROTOCOL_TLSv1_2 is deprecated\n",
      "  context = ssl.SSLContext(ssl.PROTOCOL_TLSv1_2)\n"
     ]
    }
   ],
   "source": [
    "\n",
    "from bs4 import BeautifulSoup\n",
    "import urllib\n",
    "from urllib.request import Request,urlopen\n",
    "import user_agent\n",
    "import ssl\n",
    "import requests\n",
    "import urllib.request\n",
    "context = ssl.SSLContext(ssl.PROTOCOL_TLSv1_2)\n"
   ]
  },
  {
   "cell_type": "code",
   "execution_count": 4,
   "metadata": {},
   "outputs": [
    {
     "name": "stdout",
     "output_type": "stream",
     "text": [
      "Page Title:  | 한국은행 기준금리 추이(목록) | 통화정책방향 | 통화정책 |  한국은행 홈페이지\n"
     ]
    }
   ],
   "source": [
    "from selenium import webdriver\n",
    "from selenium.webdriver.chrome.service import Service as ChromeService\n",
    "from selenium.webdriver.common.by import By\n",
    "from selenium.webdriver.chrome.options import Options\n",
    "from bs4 import BeautifulSoup\n",
    "\n",
    "# Set up the Selenium WebDriver\n",
    "chrome_options = Options()\n",
    "chrome_options.add_argument('--headless')  # Run Chrome in headless mode (no GUI)\n",
    "chrome_options.add_argument('--disable-gpu')  # Disable GPU acceleration\n",
    "\n",
    "chrome_service = ChromeService(\"../eda/driver/chromedriver-linux64/chromedriver\")  # Set the path to your chromedriver executable\n",
    "driver = webdriver.Chrome(service=chrome_service, options=chrome_options)\n",
    "\n",
    "# Load the page\n",
    "url = \"https://www.bok.or.kr/portal/singl/baseRate/list.do?dataSeCd=01&menuNo=200643\"\n",
    "driver.get(url)\n",
    "\n",
    "# Wait for the page to load (adjust the time accordingly)\n",
    "driver.implicitly_wait(5)\n",
    "\n",
    "# Get the page source\n",
    "page_source = driver.page_source\n",
    "\n",
    "# Close the WebDriver\n",
    "driver.quit()\n",
    "\n",
    "# Parse the page source with BeautifulSoup\n",
    "soup = BeautifulSoup(page_source, \"html.parser\")\n",
    "\n",
    "# Now you can use BeautifulSoup to extract the information you need\n",
    "# For example, let's print the title of the page\n",
    "title = soup.find(\"title\").text\n",
    "print(f\"Page Title: {title}\")\n",
    "\n"
   ]
  },
  {
   "cell_type": "code",
   "execution_count": 5,
   "metadata": {},
   "outputs": [],
   "source": [
    "interest_table = soup.find(\"tbody\")"
   ]
  },
  {
   "cell_type": "code",
   "execution_count": 38,
   "metadata": {},
   "outputs": [
    {
     "data": {
      "text/plain": [
       "<tr>\n",
       "<td class=\"fb\">2023</td>\n",
       "<td>01월 13일</td>\n",
       "<td>3.50</td>\n",
       "</tr>"
      ]
     },
     "execution_count": 38,
     "metadata": {},
     "output_type": "execute_result"
    }
   ],
   "source": [
    "interest_table_data = interest_table.find_all(\"tr\")\n",
    "interest_table_data[0]"
   ]
  },
  {
   "cell_type": "code",
   "execution_count": 45,
   "metadata": {},
   "outputs": [],
   "source": [
    "interest_year_list =[]\n",
    "interest_list  = []\n",
    "interest_table_data\n",
    "\n",
    "for i in interest_table_data:\n",
    "    tt = i.find_all(\"td\")\n",
    "    interest_year_list.append(tt[0].string)\n",
    "    interest_list.append(tt[2].string)"
   ]
  },
  {
   "cell_type": "code",
   "execution_count": 47,
   "metadata": {},
   "outputs": [],
   "source": [
    "import pandas as pd\n",
    "interest_df = pd.DataFrame({\"년도\":interest_year_list,\"기준금리\":interest_list})"
   ]
  },
  {
   "cell_type": "code",
   "execution_count": 49,
   "metadata": {},
   "outputs": [],
   "source": [
    "interest_df.to_csv(\"년도별 금리.csv\")"
   ]
  },
  {
   "cell_type": "code",
   "execution_count": 4,
   "metadata": {},
   "outputs": [],
   "source": [
    "import pandas as pd\n",
    "\n",
    "interest_df = pd.read_csv(\"년도별 금리.csv\",encoding=\"utf-8\")"
   ]
  },
  {
   "cell_type": "code",
   "execution_count": 5,
   "metadata": {},
   "outputs": [],
   "source": [
    "import matplotlib.pyplot as plt\n",
    "import koreanize_matplotlib\n",
    "import seaborn as sns"
   ]
  },
  {
   "cell_type": "code",
   "execution_count": 11,
   "metadata": {},
   "outputs": [],
   "source": [
    "interest_df.reset_index(drop=True,inplace=True)"
   ]
  },
  {
   "cell_type": "code",
   "execution_count": 12,
   "metadata": {},
   "outputs": [
    {
     "name": "stdout",
     "output_type": "stream",
     "text": [
      "<class 'pandas.core.frame.DataFrame'>\n",
      "RangeIndex: 55 entries, 0 to 54\n",
      "Data columns (total 3 columns):\n",
      " #   Column      Non-Null Count  Dtype  \n",
      "---  ------      --------------  -----  \n",
      " 0   Unnamed: 0  55 non-null     int64  \n",
      " 1   년도          55 non-null     int64  \n",
      " 2   기준금리        55 non-null     float64\n",
      "dtypes: float64(1), int64(2)\n",
      "memory usage: 1.4 KB\n"
     ]
    }
   ],
   "source": [
    "interest_df.info()"
   ]
  },
  {
   "cell_type": "code",
   "execution_count": 15,
   "metadata": {},
   "outputs": [
    {
     "data": {
      "image/png": "[encoded data removed]",
      "text/plain": [
       "<Figure size 640x480 with 1 Axes>"
      ]
     },
     "metadata": {},
     "output_type": "display_data"
    }
   ],
   "source": [
    "plt.step(x=interest_df[\"년도\"],y =interest_df[\"기준금리\"] , where='post', label='금리')\n",
    "\n",
    "# 그래프 제목 및 축 레이블 설정\n",
    "plt.title('년도 별 금리 변동')\n",
    "plt.xlabel('년도s')\n",
    "plt.ylabel('금리')\n",
    "\n",
    "# 범례 표시\n",
    "plt.legend()\n",
    "\n",
    "# 그래프 보여주기\n",
    "plt.show()"
   ]
  }
 ],
 "metadata": {
  "kernelspec": {
   "display_name": "eda_venv",
   "language": "python",
   "name": "python3"
  },
  "language_info": {
   "codemirror_mode": {
    "name": "ipython",
    "version": 3
   },
   "file_extension": ".py",
   "mimetype": "text/x-python",
   "name": "python",
   "nbconvert_exporter": "python",
   "pygments_lexer": "ipython3",
   "version": "3.10.12"
  }
 },
 "nbformat": 4,
 "nbformat_minor": 2
}
