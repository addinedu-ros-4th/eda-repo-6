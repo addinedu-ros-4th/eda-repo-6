{
 "cells": [
  {
   "cell_type": "code",
   "execution_count": 99,
   "metadata": {},
   "outputs": [
    {
     "data": {
      "text/html": [
       "<div>\n",
       "<style scoped>\n",
       "    .dataframe tbody tr th:only-of-type {\n",
       "        vertical-align: middle;\n",
       "    }\n",
       "\n",
       "    .dataframe tbody tr th {\n",
       "        vertical-align: top;\n",
       "    }\n",
       "\n",
       "    .dataframe thead th {\n",
       "        text-align: right;\n",
       "    }\n",
       "</style>\n",
       "<table border=\"1\" class=\"dataframe\">\n",
       "  <thead>\n",
       "    <tr style=\"text-align: right;\">\n",
       "      <th></th>\n",
       "      <th>지 역</th>\n",
       "      <th>Unnamed: 1</th>\n",
       "      <th>2006년</th>\n",
       "      <th>2007년</th>\n",
       "      <th>2008년</th>\n",
       "      <th>2009년</th>\n",
       "      <th>2010년</th>\n",
       "      <th>2011년</th>\n",
       "      <th>2012년</th>\n",
       "      <th>2013년</th>\n",
       "      <th>2014년</th>\n",
       "      <th>2015년</th>\n",
       "      <th>2016년</th>\n",
       "      <th>2017년</th>\n",
       "      <th>2018년</th>\n",
       "      <th>2019년</th>\n",
       "      <th>2020년</th>\n",
       "      <th>2021년</th>\n",
       "      <th>2022년</th>\n",
       "      <th>2023년</th>\n",
       "    </tr>\n",
       "  </thead>\n",
       "  <tbody>\n",
       "    <tr>\n",
       "      <th>0</th>\n",
       "      <td>서울</td>\n",
       "      <td>NaN</td>\n",
       "      <td>182299</td>\n",
       "      <td>88448</td>\n",
       "      <td>88171</td>\n",
       "      <td>104452</td>\n",
       "      <td>66301</td>\n",
       "      <td>80537</td>\n",
       "      <td>60840</td>\n",
       "      <td>91017</td>\n",
       "      <td>124778</td>\n",
       "      <td>156337</td>\n",
       "      <td>155052</td>\n",
       "      <td>165213</td>\n",
       "      <td>161086</td>\n",
       "      <td>129610</td>\n",
       "      <td>166847</td>\n",
       "      <td>93648</td>\n",
       "      <td>41207</td>\n",
       "      <td>77917</td>\n",
       "    </tr>\n",
       "    <tr>\n",
       "      <th>1</th>\n",
       "      <td>NaN</td>\n",
       "      <td>종로구</td>\n",
       "      <td>1297</td>\n",
       "      <td>953</td>\n",
       "      <td>1517</td>\n",
       "      <td>829</td>\n",
       "      <td>498</td>\n",
       "      <td>680</td>\n",
       "      <td>628</td>\n",
       "      <td>1108</td>\n",
       "      <td>1042</td>\n",
       "      <td>1447</td>\n",
       "      <td>1336</td>\n",
       "      <td>2562</td>\n",
       "      <td>1240</td>\n",
       "      <td>966</td>\n",
       "      <td>1181</td>\n",
       "      <td>838</td>\n",
       "      <td>345</td>\n",
       "      <td>369</td>\n",
       "    </tr>\n",
       "    <tr>\n",
       "      <th>2</th>\n",
       "      <td>NaN</td>\n",
       "      <td>중구</td>\n",
       "      <td>2004</td>\n",
       "      <td>996</td>\n",
       "      <td>824</td>\n",
       "      <td>2045</td>\n",
       "      <td>1696</td>\n",
       "      <td>1274</td>\n",
       "      <td>1689</td>\n",
       "      <td>1085</td>\n",
       "      <td>1711</td>\n",
       "      <td>2483</td>\n",
       "      <td>2493</td>\n",
       "      <td>2257</td>\n",
       "      <td>2107</td>\n",
       "      <td>1400</td>\n",
       "      <td>2134</td>\n",
       "      <td>1654</td>\n",
       "      <td>1096</td>\n",
       "      <td>669</td>\n",
       "    </tr>\n",
       "    <tr>\n",
       "      <th>3</th>\n",
       "      <td>NaN</td>\n",
       "      <td>용산구</td>\n",
       "      <td>3869</td>\n",
       "      <td>2955</td>\n",
       "      <td>1426</td>\n",
       "      <td>2123</td>\n",
       "      <td>1691</td>\n",
       "      <td>1480</td>\n",
       "      <td>945</td>\n",
       "      <td>1574</td>\n",
       "      <td>2373</td>\n",
       "      <td>2810</td>\n",
       "      <td>3960</td>\n",
       "      <td>5022</td>\n",
       "      <td>4557</td>\n",
       "      <td>2119</td>\n",
       "      <td>4103</td>\n",
       "      <td>1744</td>\n",
       "      <td>780</td>\n",
       "      <td>822</td>\n",
       "    </tr>\n",
       "    <tr>\n",
       "      <th>4</th>\n",
       "      <td>NaN</td>\n",
       "      <td>성동구</td>\n",
       "      <td>5994</td>\n",
       "      <td>1889</td>\n",
       "      <td>2328</td>\n",
       "      <td>3730</td>\n",
       "      <td>1785</td>\n",
       "      <td>2615</td>\n",
       "      <td>1726</td>\n",
       "      <td>3020</td>\n",
       "      <td>5271</td>\n",
       "      <td>8479</td>\n",
       "      <td>6814</td>\n",
       "      <td>7036</td>\n",
       "      <td>4740</td>\n",
       "      <td>3883</td>\n",
       "      <td>4906</td>\n",
       "      <td>2632</td>\n",
       "      <td>1724</td>\n",
       "      <td>2948</td>\n",
       "    </tr>\n",
       "  </tbody>\n",
       "</table>\n",
       "</div>"
      ],
      "text/plain": [
       "   지 역 Unnamed: 1   2006년  2007년  2008년   2009년  2010년  2011년  2012년  2013년  \\\n",
       "0   서울        NaN  182299  88448  88171  104452  66301  80537  60840  91017   \n",
       "1  NaN        종로구    1297    953   1517     829    498    680    628   1108   \n",
       "2  NaN         중구    2004    996    824    2045   1696   1274   1689   1085   \n",
       "3  NaN        용산구    3869   2955   1426    2123   1691   1480    945   1574   \n",
       "4  NaN        성동구    5994   1889   2328    3730   1785   2615   1726   3020   \n",
       "\n",
       "    2014년   2015년   2016년   2017년   2018년   2019년   2020년  2021년  2022년  2023년  \n",
       "0  124778  156337  155052  165213  161086  129610  166847  93648  41207  77917  \n",
       "1    1042    1447    1336    2562    1240     966    1181    838    345    369  \n",
       "2    1711    2483    2493    2257    2107    1400    2134   1654   1096    669  \n",
       "3    2373    2810    3960    5022    4557    2119    4103   1744    780    822  \n",
       "4    5271    8479    6814    7036    4740    3883    4906   2632   1724   2948  "
      ]
     },
     "execution_count": 99,
     "metadata": {},
     "output_type": "execute_result"
    }
   ],
   "source": [
    "import pandas as pd\n",
    "\n",
    "volume = pd.read_excel(\"../data/서울_아파트거래량_연도별.xlsx\", engine='openpyxl', header=10)\n",
    "volume.head()"
   ]
  },
  {
   "cell_type": "code",
   "execution_count": 100,
   "metadata": {},
   "outputs": [
    {
     "data": {
      "text/html": [
       "<div>\n",
       "<style scoped>\n",
       "    .dataframe tbody tr th:only-of-type {\n",
       "        vertical-align: middle;\n",
       "    }\n",
       "\n",
       "    .dataframe tbody tr th {\n",
       "        vertical-align: top;\n",
       "    }\n",
       "\n",
       "    .dataframe thead th {\n",
       "        text-align: right;\n",
       "    }\n",
       "</style>\n",
       "<table border=\"1\" class=\"dataframe\">\n",
       "  <thead>\n",
       "    <tr style=\"text-align: right;\">\n",
       "      <th></th>\n",
       "      <th>2011년</th>\n",
       "      <th>2012년</th>\n",
       "      <th>2013년</th>\n",
       "      <th>2014년</th>\n",
       "      <th>2015년</th>\n",
       "      <th>2016년</th>\n",
       "      <th>2017년</th>\n",
       "      <th>2018년</th>\n",
       "      <th>2019년</th>\n",
       "      <th>2020년</th>\n",
       "      <th>2021년</th>\n",
       "      <th>2022년</th>\n",
       "      <th>2023년</th>\n",
       "    </tr>\n",
       "    <tr>\n",
       "      <th>구별</th>\n",
       "      <th></th>\n",
       "      <th></th>\n",
       "      <th></th>\n",
       "      <th></th>\n",
       "      <th></th>\n",
       "      <th></th>\n",
       "      <th></th>\n",
       "      <th></th>\n",
       "      <th></th>\n",
       "      <th></th>\n",
       "      <th></th>\n",
       "      <th></th>\n",
       "      <th></th>\n",
       "    </tr>\n",
       "  </thead>\n",
       "  <tbody>\n",
       "    <tr>\n",
       "      <th>종로구</th>\n",
       "      <td>680</td>\n",
       "      <td>628</td>\n",
       "      <td>1108</td>\n",
       "      <td>1042</td>\n",
       "      <td>1447</td>\n",
       "      <td>1336</td>\n",
       "      <td>2562</td>\n",
       "      <td>1240</td>\n",
       "      <td>966</td>\n",
       "      <td>1181</td>\n",
       "      <td>838</td>\n",
       "      <td>345</td>\n",
       "      <td>369</td>\n",
       "    </tr>\n",
       "    <tr>\n",
       "      <th>중구</th>\n",
       "      <td>1274</td>\n",
       "      <td>1689</td>\n",
       "      <td>1085</td>\n",
       "      <td>1711</td>\n",
       "      <td>2483</td>\n",
       "      <td>2493</td>\n",
       "      <td>2257</td>\n",
       "      <td>2107</td>\n",
       "      <td>1400</td>\n",
       "      <td>2134</td>\n",
       "      <td>1654</td>\n",
       "      <td>1096</td>\n",
       "      <td>669</td>\n",
       "    </tr>\n",
       "    <tr>\n",
       "      <th>용산구</th>\n",
       "      <td>1480</td>\n",
       "      <td>945</td>\n",
       "      <td>1574</td>\n",
       "      <td>2373</td>\n",
       "      <td>2810</td>\n",
       "      <td>3960</td>\n",
       "      <td>5022</td>\n",
       "      <td>4557</td>\n",
       "      <td>2119</td>\n",
       "      <td>4103</td>\n",
       "      <td>1744</td>\n",
       "      <td>780</td>\n",
       "      <td>822</td>\n",
       "    </tr>\n",
       "    <tr>\n",
       "      <th>성동구</th>\n",
       "      <td>2615</td>\n",
       "      <td>1726</td>\n",
       "      <td>3020</td>\n",
       "      <td>5271</td>\n",
       "      <td>8479</td>\n",
       "      <td>6814</td>\n",
       "      <td>7036</td>\n",
       "      <td>4740</td>\n",
       "      <td>3883</td>\n",
       "      <td>4906</td>\n",
       "      <td>2632</td>\n",
       "      <td>1724</td>\n",
       "      <td>2948</td>\n",
       "    </tr>\n",
       "    <tr>\n",
       "      <th>광진구</th>\n",
       "      <td>1615</td>\n",
       "      <td>1369</td>\n",
       "      <td>1338</td>\n",
       "      <td>2258</td>\n",
       "      <td>2535</td>\n",
       "      <td>2630</td>\n",
       "      <td>3049</td>\n",
       "      <td>2560</td>\n",
       "      <td>2957</td>\n",
       "      <td>2886</td>\n",
       "      <td>1266</td>\n",
       "      <td>805</td>\n",
       "      <td>1788</td>\n",
       "    </tr>\n",
       "  </tbody>\n",
       "</table>\n",
       "</div>"
      ],
      "text/plain": [
       "     2011년  2012년  2013년  2014년  2015년  2016년  2017년  2018년  2019년  2020년  \\\n",
       "구별                                                                          \n",
       "종로구    680    628   1108   1042   1447   1336   2562   1240    966   1181   \n",
       "중구    1274   1689   1085   1711   2483   2493   2257   2107   1400   2134   \n",
       "용산구   1480    945   1574   2373   2810   3960   5022   4557   2119   4103   \n",
       "성동구   2615   1726   3020   5271   8479   6814   7036   4740   3883   4906   \n",
       "광진구   1615   1369   1338   2258   2535   2630   3049   2560   2957   2886   \n",
       "\n",
       "     2021년  2022년  2023년  \n",
       "구별                        \n",
       "종로구    838    345    369  \n",
       "중구    1654   1096    669  \n",
       "용산구   1744    780    822  \n",
       "성동구   2632   1724   2948  \n",
       "광진구   1266    805   1788  "
      ]
     },
     "execution_count": 100,
     "metadata": {},
     "output_type": "execute_result"
    }
   ],
   "source": [
    "volume.drop(index=0, inplace=True)\n",
    "volume.drop(columns=['지 역'], inplace=True)\n",
    "volume.drop(columns=volume.columns[1:6], inplace=True)\n",
    "volume.set_index('Unnamed: 1', inplace=True)\n",
    "volume.rename_axis('구별', inplace=True)\n",
    "#volume.rename(columns={'Unnamed: 1' : '연도별'}, inplace=True)\n",
    "#volume.index\n",
    "volume.head()"
   ]
  },
  {
   "cell_type": "code",
   "execution_count": 101,
   "metadata": {},
   "outputs": [
    {
     "data": {
      "text/html": [
       "<div>\n",
       "<style scoped>\n",
       "    .dataframe tbody tr th:only-of-type {\n",
       "        vertical-align: middle;\n",
       "    }\n",
       "\n",
       "    .dataframe tbody tr th {\n",
       "        vertical-align: top;\n",
       "    }\n",
       "\n",
       "    .dataframe thead th {\n",
       "        text-align: right;\n",
       "    }\n",
       "</style>\n",
       "<table border=\"1\" class=\"dataframe\">\n",
       "  <thead>\n",
       "    <tr style=\"text-align: right;\">\n",
       "      <th>구별</th>\n",
       "      <th>종로구</th>\n",
       "      <th>중구</th>\n",
       "      <th>용산구</th>\n",
       "      <th>성동구</th>\n",
       "      <th>광진구</th>\n",
       "      <th>동대문구</th>\n",
       "      <th>중랑구</th>\n",
       "      <th>성북구</th>\n",
       "      <th>강북구</th>\n",
       "      <th>도봉구</th>\n",
       "      <th>...</th>\n",
       "      <th>강서구</th>\n",
       "      <th>구로구</th>\n",
       "      <th>금천구</th>\n",
       "      <th>영등포구</th>\n",
       "      <th>동작구</th>\n",
       "      <th>관악구</th>\n",
       "      <th>서초구</th>\n",
       "      <th>강남구</th>\n",
       "      <th>송파구</th>\n",
       "      <th>강동구</th>\n",
       "    </tr>\n",
       "  </thead>\n",
       "  <tbody>\n",
       "    <tr>\n",
       "      <th>2011년</th>\n",
       "      <td>680</td>\n",
       "      <td>1274</td>\n",
       "      <td>1480</td>\n",
       "      <td>2615</td>\n",
       "      <td>1615</td>\n",
       "      <td>3326</td>\n",
       "      <td>2547</td>\n",
       "      <td>4671</td>\n",
       "      <td>1595</td>\n",
       "      <td>3169</td>\n",
       "      <td>...</td>\n",
       "      <td>4029</td>\n",
       "      <td>5163</td>\n",
       "      <td>1049</td>\n",
       "      <td>2763</td>\n",
       "      <td>3298</td>\n",
       "      <td>2270</td>\n",
       "      <td>3908</td>\n",
       "      <td>5610</td>\n",
       "      <td>5443</td>\n",
       "      <td>4919</td>\n",
       "    </tr>\n",
       "    <tr>\n",
       "      <th>2012년</th>\n",
       "      <td>628</td>\n",
       "      <td>1689</td>\n",
       "      <td>945</td>\n",
       "      <td>1726</td>\n",
       "      <td>1369</td>\n",
       "      <td>2556</td>\n",
       "      <td>2016</td>\n",
       "      <td>2934</td>\n",
       "      <td>1089</td>\n",
       "      <td>2247</td>\n",
       "      <td>...</td>\n",
       "      <td>2536</td>\n",
       "      <td>2725</td>\n",
       "      <td>1006</td>\n",
       "      <td>2746</td>\n",
       "      <td>2782</td>\n",
       "      <td>2052</td>\n",
       "      <td>3538</td>\n",
       "      <td>5026</td>\n",
       "      <td>4648</td>\n",
       "      <td>3357</td>\n",
       "    </tr>\n",
       "    <tr>\n",
       "      <th>2013년</th>\n",
       "      <td>1108</td>\n",
       "      <td>1085</td>\n",
       "      <td>1574</td>\n",
       "      <td>3020</td>\n",
       "      <td>1338</td>\n",
       "      <td>3784</td>\n",
       "      <td>2894</td>\n",
       "      <td>4157</td>\n",
       "      <td>1459</td>\n",
       "      <td>3745</td>\n",
       "      <td>...</td>\n",
       "      <td>4774</td>\n",
       "      <td>3931</td>\n",
       "      <td>1702</td>\n",
       "      <td>3784</td>\n",
       "      <td>3943</td>\n",
       "      <td>2588</td>\n",
       "      <td>5949</td>\n",
       "      <td>6535</td>\n",
       "      <td>10234</td>\n",
       "      <td>4234</td>\n",
       "    </tr>\n",
       "    <tr>\n",
       "      <th>2014년</th>\n",
       "      <td>1042</td>\n",
       "      <td>1711</td>\n",
       "      <td>2373</td>\n",
       "      <td>5271</td>\n",
       "      <td>2258</td>\n",
       "      <td>5573</td>\n",
       "      <td>5370</td>\n",
       "      <td>5299</td>\n",
       "      <td>2022</td>\n",
       "      <td>4011</td>\n",
       "      <td>...</td>\n",
       "      <td>9107</td>\n",
       "      <td>6272</td>\n",
       "      <td>2433</td>\n",
       "      <td>5137</td>\n",
       "      <td>3763</td>\n",
       "      <td>3487</td>\n",
       "      <td>9391</td>\n",
       "      <td>10870</td>\n",
       "      <td>8387</td>\n",
       "      <td>5540</td>\n",
       "    </tr>\n",
       "    <tr>\n",
       "      <th>2015년</th>\n",
       "      <td>1447</td>\n",
       "      <td>2483</td>\n",
       "      <td>2810</td>\n",
       "      <td>8479</td>\n",
       "      <td>2535</td>\n",
       "      <td>6405</td>\n",
       "      <td>4662</td>\n",
       "      <td>7585</td>\n",
       "      <td>2952</td>\n",
       "      <td>5569</td>\n",
       "      <td>...</td>\n",
       "      <td>9902</td>\n",
       "      <td>6928</td>\n",
       "      <td>3348</td>\n",
       "      <td>6709</td>\n",
       "      <td>5824</td>\n",
       "      <td>4621</td>\n",
       "      <td>7744</td>\n",
       "      <td>9765</td>\n",
       "      <td>9783</td>\n",
       "      <td>8052</td>\n",
       "    </tr>\n",
       "  </tbody>\n",
       "</table>\n",
       "<p>5 rows × 25 columns</p>\n",
       "</div>"
      ],
      "text/plain": [
       "구별      종로구    중구   용산구   성동구   광진구  동대문구   중랑구   성북구   강북구   도봉구  ...   강서구  \\\n",
       "2011년   680  1274  1480  2615  1615  3326  2547  4671  1595  3169  ...  4029   \n",
       "2012년   628  1689   945  1726  1369  2556  2016  2934  1089  2247  ...  2536   \n",
       "2013년  1108  1085  1574  3020  1338  3784  2894  4157  1459  3745  ...  4774   \n",
       "2014년  1042  1711  2373  5271  2258  5573  5370  5299  2022  4011  ...  9107   \n",
       "2015년  1447  2483  2810  8479  2535  6405  4662  7585  2952  5569  ...  9902   \n",
       "\n",
       "구별      구로구   금천구  영등포구   동작구   관악구   서초구    강남구    송파구   강동구  \n",
       "2011년  5163  1049  2763  3298  2270  3908   5610   5443  4919  \n",
       "2012년  2725  1006  2746  2782  2052  3538   5026   4648  3357  \n",
       "2013년  3931  1702  3784  3943  2588  5949   6535  10234  4234  \n",
       "2014년  6272  2433  5137  3763  3487  9391  10870   8387  5540  \n",
       "2015년  6928  3348  6709  5824  4621  7744   9765   9783  8052  \n",
       "\n",
       "[5 rows x 25 columns]"
      ]
     },
     "execution_count": 101,
     "metadata": {},
     "output_type": "execute_result"
    }
   ],
   "source": [
    "volume = volume.transpose()\n",
    "volume.head()"
   ]
  },
  {
   "cell_type": "code",
   "execution_count": 102,
   "metadata": {},
   "outputs": [
    {
     "data": {
      "text/plain": [
       "Index(['종로구', '중구', '용산구', '성동구', '광진구', '동대문구', '중랑구', '성북구', '강북구', '도봉구',\n",
       "       '노원구', '은평구', '서대문구', '마포구', '양천구', '강서구', '구로구', '금천구', '영등포구', '동작구',\n",
       "       '관악구', '서초구', '강남구', '송파구', '강동구'],\n",
       "      dtype='object', name='구별')"
      ]
     },
     "execution_count": 102,
     "metadata": {},
     "output_type": "execute_result"
    }
   ],
   "source": [
    "volume.columns"
   ]
  },
  {
   "cell_type": "code",
   "execution_count": 103,
   "metadata": {},
   "outputs": [
    {
     "data": {
      "application/vnd.plotly.v1+json": {
       "config": {
        "plotlyServerURL": "https://plot.ly"
       },
       "data": [
        {
         "hovertemplate": "구별=종로구<br>index=%{x}<br>value=%{y}<extra></extra>",
         "legendgroup": "종로구",
         "line": {
          "color": "#636efa",
          "dash": "solid"
         },
         "marker": {
          "symbol": "circle"
         },
         "mode": "lines",
         "name": "종로구",
         "orientation": "v",
         "showlegend": true,
         "type": "scatter",
         "x": [
          "2011년",
          "2012년",
          "2013년",
          "2014년",
          "2015년",
          "2016년",
          "2017년",
          "2018년",
          "2019년",
          "2020년",
          "2021년",
          "2022년",
          "2023년"
         ],
         "xaxis": "x",
         "y": [
          680,
          628,
          1108,
          1042,
          1447,
          1336,
          2562,
          1240,
          966,
          1181,
          838,
          345,
          369
         ],
         "yaxis": "y"
        },
        {
         "hovertemplate": "구별=중구<br>index=%{x}<br>value=%{y}<extra></extra>",
         "legendgroup": "중구",
         "line": {
          "color": "#EF553B",
          "dash": "solid"
         },
         "marker": {
          "symbol": "circle"
         },
         "mode": "lines",
         "name": "중구",
         "orientation": "v",
         "showlegend": true,
         "type": "scatter",
         "x": [
          "2011년",
          "2012년",
          "2013년",
          "2014년",
          "2015년",
          "2016년",
          "2017년",
          "2018년",
          "2019년",
          "2020년",
          "2021년",
          "2022년",
          "2023년"
         ],
         "xaxis": "x",
         "y": [
          1274,
          1689,
          1085,
          1711,
          2483,
          2493,
          2257,
          2107,
          1400,
          2134,
          1654,
          1096,
          669
         ],
         "yaxis": "y"
        },
        {
         "hovertemplate": "구별=용산구<br>index=%{x}<br>value=%{y}<extra></extra>",
         "legendgroup": "용산구",
         "line": {
          "color": "#00cc96",
          "dash": "solid"
         },
         "marker": {
          "symbol": "circle"
         },
         "mode": "lines",
         "name": "용산구",
         "orientation": "v",
         "showlegend": true,
         "type": "scatter",
         "x": [
          "2011년",
          "2012년",
          "2013년",
          "2014년",
          "2015년",
          "2016년",
          "2017년",
          "2018년",
          "2019년",
          "2020년",
          "2021년",
          "2022년",
          "2023년"
         ],
         "xaxis": "x",
         "y": [
          1480,
          945,
          1574,
          2373,
          2810,
          3960,
          5022,
          4557,
          2119,
          4103,
          1744,
          780,
          822
         ],
         "yaxis": "y"
        },
        {
         "hovertemplate": "구별=성동구<br>index=%{x}<br>value=%{y}<extra></extra>",
         "legendgroup": "성동구",
         "line": {
          "color": "#ab63fa",
          "dash": "solid"
         },
         "marker": {
          "symbol": "circle"
         },
         "mode": "lines",
         "name": "성동구",
         "orientation": "v",
         "showlegend": true,
         "type": "scatter",
         "x": [
          "2011년",
          "2012년",
          "2013년",
          "2014년",
          "2015년",
          "2016년",
          "2017년",
          "2018년",
          "2019년",
          "2020년",
          "2021년",
          "2022년",
          "2023년"
         ],
         "xaxis": "x",
         "y": [
          2615,
          1726,
          3020,
          5271,
          8479,
          6814,
          7036,
          4740,
          3883,
          4906,
          2632,
          1724,
          2948
         ],
         "yaxis": "y"
        },
        {
         "hovertemplate": "구별=광진구<br>index=%{x}<br>value=%{y}<extra></extra>",
         "legendgroup": "광진구",
         "line": {
          "color": "#FFA15A",
          "dash": "solid"
         },
         "marker": {
          "symbol": "circle"
         },
         "mode": "lines",
         "name": "광진구",
         "orientation": "v",
         "showlegend": true,
         "type": "scatter",
         "x": [
          "2011년",
          "2012년",
          "2013년",
          "2014년",
          "2015년",
          "2016년",
          "2017년",
          "2018년",
          "2019년",
          "2020년",
          "2021년",
          "2022년",
          "2023년"
         ],
         "xaxis": "x",
         "y": [
          1615,
          1369,
          1338,
          2258,
          2535,
          2630,
          3049,
          2560,
          2957,
          2886,
          1266,
          805,
          1788
         ],
         "yaxis": "y"
        },
        {
         "hovertemplate": "구별=동대문구<br>index=%{x}<br>value=%{y}<extra></extra>",
         "legendgroup": "동대문구",
         "line": {
          "color": "#19d3f3",
          "dash": "solid"
         },
         "marker": {
          "symbol": "circle"
         },
         "mode": "lines",
         "name": "동대문구",
         "orientation": "v",
         "showlegend": true,
         "type": "scatter",
         "x": [
          "2011년",
          "2012년",
          "2013년",
          "2014년",
          "2015년",
          "2016년",
          "2017년",
          "2018년",
          "2019년",
          "2020년",
          "2021년",
          "2022년",
          "2023년"
         ],
         "xaxis": "x",
         "y": [
          3326,
          2556,
          3784,
          5573,
          6405,
          7011,
          5782,
          6096,
          9157,
          6329,
          3213,
          3304,
          9185
         ],
         "yaxis": "y"
        },
        {
         "hovertemplate": "구별=중랑구<br>index=%{x}<br>value=%{y}<extra></extra>",
         "legendgroup": "중랑구",
         "line": {
          "color": "#FF6692",
          "dash": "solid"
         },
         "marker": {
          "symbol": "circle"
         },
         "mode": "lines",
         "name": "중랑구",
         "orientation": "v",
         "showlegend": true,
         "type": "scatter",
         "x": [
          "2011년",
          "2012년",
          "2013년",
          "2014년",
          "2015년",
          "2016년",
          "2017년",
          "2018년",
          "2019년",
          "2020년",
          "2021년",
          "2022년",
          "2023년"
         ],
         "xaxis": "x",
         "y": [
          2547,
          2016,
          2894,
          5370,
          4662,
          4031,
          4820,
          5329,
          3944,
          4128,
          2378,
          1387,
          1783
         ],
         "yaxis": "y"
        },
        {
         "hovertemplate": "구별=성북구<br>index=%{x}<br>value=%{y}<extra></extra>",
         "legendgroup": "성북구",
         "line": {
          "color": "#B6E880",
          "dash": "solid"
         },
         "marker": {
          "symbol": "circle"
         },
         "mode": "lines",
         "name": "성북구",
         "orientation": "v",
         "showlegend": true,
         "type": "scatter",
         "x": [
          "2011년",
          "2012년",
          "2013년",
          "2014년",
          "2015년",
          "2016년",
          "2017년",
          "2018년",
          "2019년",
          "2020년",
          "2021년",
          "2022년",
          "2023년"
         ],
         "xaxis": "x",
         "y": [
          4671,
          2934,
          4157,
          5299,
          7585,
          6471,
          7874,
          9181,
          10024,
          6826,
          4317,
          1887,
          5399
         ],
         "yaxis": "y"
        },
        {
         "hovertemplate": "구별=강북구<br>index=%{x}<br>value=%{y}<extra></extra>",
         "legendgroup": "강북구",
         "line": {
          "color": "#FF97FF",
          "dash": "solid"
         },
         "marker": {
          "symbol": "circle"
         },
         "mode": "lines",
         "name": "강북구",
         "orientation": "v",
         "showlegend": true,
         "type": "scatter",
         "x": [
          "2011년",
          "2012년",
          "2013년",
          "2014년",
          "2015년",
          "2016년",
          "2017년",
          "2018년",
          "2019년",
          "2020년",
          "2021년",
          "2022년",
          "2023년"
         ],
         "xaxis": "x",
         "y": [
          1595,
          1089,
          1459,
          2022,
          2952,
          2225,
          3060,
          2381,
          1493,
          2836,
          1392,
          1895,
          1357
         ],
         "yaxis": "y"
        },
        {
         "hovertemplate": "구별=도봉구<br>index=%{x}<br>value=%{y}<extra></extra>",
         "legendgroup": "도봉구",
         "line": {
          "color": "#FECB52",
          "dash": "solid"
         },
         "marker": {
          "symbol": "circle"
         },
         "mode": "lines",
         "name": "도봉구",
         "orientation": "v",
         "showlegend": true,
         "type": "scatter",
         "x": [
          "2011년",
          "2012년",
          "2013년",
          "2014년",
          "2015년",
          "2016년",
          "2017년",
          "2018년",
          "2019년",
          "2020년",
          "2021년",
          "2022년",
          "2023년"
         ],
         "xaxis": "x",
         "y": [
          3169,
          2247,
          3745,
          4011,
          5569,
          5133,
          4519,
          4806,
          2988,
          5515,
          2736,
          675,
          1288
         ],
         "yaxis": "y"
        },
        {
         "hovertemplate": "구별=노원구<br>index=%{x}<br>value=%{y}<extra></extra>",
         "legendgroup": "노원구",
         "line": {
          "color": "#636efa",
          "dash": "solid"
         },
         "marker": {
          "symbol": "circle"
         },
         "mode": "lines",
         "name": "노원구",
         "orientation": "v",
         "showlegend": true,
         "type": "scatter",
         "x": [
          "2011년",
          "2012년",
          "2013년",
          "2014년",
          "2015년",
          "2016년",
          "2017년",
          "2018년",
          "2019년",
          "2020년",
          "2021년",
          "2022년",
          "2023년"
         ],
         "xaxis": "x",
         "y": [
          6397,
          4841,
          7249,
          9458,
          13017,
          13346,
          12576,
          11480,
          8917,
          13162,
          5682,
          1493,
          2834
         ],
         "yaxis": "y"
        },
        {
         "hovertemplate": "구별=은평구<br>index=%{x}<br>value=%{y}<extra></extra>",
         "legendgroup": "은평구",
         "line": {
          "color": "#EF553B",
          "dash": "solid"
         },
         "marker": {
          "symbol": "circle"
         },
         "mode": "lines",
         "name": "은평구",
         "orientation": "v",
         "showlegend": true,
         "type": "scatter",
         "x": [
          "2011년",
          "2012년",
          "2013년",
          "2014년",
          "2015년",
          "2016년",
          "2017년",
          "2018년",
          "2019년",
          "2020년",
          "2021년",
          "2022년",
          "2023년"
         ],
         "xaxis": "x",
         "y": [
          3242,
          2098,
          2965,
          3382,
          4824,
          5087,
          6279,
          8782,
          6531,
          9233,
          5731,
          1120,
          3582
         ],
         "yaxis": "y"
        },
        {
         "hovertemplate": "구별=서대문구<br>index=%{x}<br>value=%{y}<extra></extra>",
         "legendgroup": "서대문구",
         "line": {
          "color": "#00cc96",
          "dash": "solid"
         },
         "marker": {
          "symbol": "circle"
         },
         "mode": "lines",
         "name": "서대문구",
         "orientation": "v",
         "showlegend": true,
         "type": "scatter",
         "x": [
          "2011년",
          "2012년",
          "2013년",
          "2014년",
          "2015년",
          "2016년",
          "2017년",
          "2018년",
          "2019년",
          "2020년",
          "2021년",
          "2022년",
          "2023년"
         ],
         "xaxis": "x",
         "y": [
          1990,
          1800,
          2260,
          3368,
          6076,
          5651,
          6557,
          6097,
          6214,
          7798,
          2254,
          898,
          2254
         ],
         "yaxis": "y"
        },
        {
         "hovertemplate": "구별=마포구<br>index=%{x}<br>value=%{y}<extra></extra>",
         "legendgroup": "마포구",
         "line": {
          "color": "#ab63fa",
          "dash": "solid"
         },
         "marker": {
          "symbol": "circle"
         },
         "mode": "lines",
         "name": "마포구",
         "orientation": "v",
         "showlegend": true,
         "type": "scatter",
         "x": [
          "2011년",
          "2012년",
          "2013년",
          "2014년",
          "2015년",
          "2016년",
          "2017년",
          "2018년",
          "2019년",
          "2020년",
          "2021년",
          "2022년",
          "2023년"
         ],
         "xaxis": "x",
         "y": [
          3471,
          2048,
          3345,
          4790,
          7601,
          6248,
          5804,
          7208,
          4223,
          7014,
          2629,
          1509,
          1981
         ],
         "yaxis": "y"
        },
        {
         "hovertemplate": "구별=양천구<br>index=%{x}<br>value=%{y}<extra></extra>",
         "legendgroup": "양천구",
         "line": {
          "color": "#FFA15A",
          "dash": "solid"
         },
         "marker": {
          "symbol": "circle"
         },
         "mode": "lines",
         "name": "양천구",
         "orientation": "v",
         "showlegend": true,
         "type": "scatter",
         "x": [
          "2011년",
          "2012년",
          "2013년",
          "2014년",
          "2015년",
          "2016년",
          "2017년",
          "2018년",
          "2019년",
          "2020년",
          "2021년",
          "2022년",
          "2023년"
         ],
         "xaxis": "x",
         "y": [
          4013,
          2438,
          3360,
          4463,
          7216,
          7545,
          5510,
          6393,
          5348,
          7075,
          2805,
          824,
          1727
         ],
         "yaxis": "y"
        },
        {
         "hovertemplate": "구별=강서구<br>index=%{x}<br>value=%{y}<extra></extra>",
         "legendgroup": "강서구",
         "line": {
          "color": "#19d3f3",
          "dash": "solid"
         },
         "marker": {
          "symbol": "circle"
         },
         "mode": "lines",
         "name": "강서구",
         "orientation": "v",
         "showlegend": true,
         "type": "scatter",
         "x": [
          "2011년",
          "2012년",
          "2013년",
          "2014년",
          "2015년",
          "2016년",
          "2017년",
          "2018년",
          "2019년",
          "2020년",
          "2021년",
          "2022년",
          "2023년"
         ],
         "xaxis": "x",
         "y": [
          4029,
          2536,
          4774,
          9107,
          9902,
          9766,
          8270,
          6676,
          4524,
          9083,
          4365,
          1729,
          2182
         ],
         "yaxis": "y"
        },
        {
         "hovertemplate": "구별=구로구<br>index=%{x}<br>value=%{y}<extra></extra>",
         "legendgroup": "구로구",
         "line": {
          "color": "#FF6692",
          "dash": "solid"
         },
         "marker": {
          "symbol": "circle"
         },
         "mode": "lines",
         "name": "구로구",
         "orientation": "v",
         "showlegend": true,
         "type": "scatter",
         "x": [
          "2011년",
          "2012년",
          "2013년",
          "2014년",
          "2015년",
          "2016년",
          "2017년",
          "2018년",
          "2019년",
          "2020년",
          "2021년",
          "2022년",
          "2023년"
         ],
         "xaxis": "x",
         "y": [
          5163,
          2725,
          3931,
          6272,
          6928,
          6884,
          6351,
          7483,
          5164,
          6271,
          3521,
          1567,
          1951
         ],
         "yaxis": "y"
        },
        {
         "hovertemplate": "구별=금천구<br>index=%{x}<br>value=%{y}<extra></extra>",
         "legendgroup": "금천구",
         "line": {
          "color": "#B6E880",
          "dash": "solid"
         },
         "marker": {
          "symbol": "circle"
         },
         "mode": "lines",
         "name": "금천구",
         "orientation": "v",
         "showlegend": true,
         "type": "scatter",
         "x": [
          "2011년",
          "2012년",
          "2013년",
          "2014년",
          "2015년",
          "2016년",
          "2017년",
          "2018년",
          "2019년",
          "2020년",
          "2021년",
          "2022년",
          "2023년"
         ],
         "xaxis": "x",
         "y": [
          1049,
          1006,
          1702,
          2433,
          3348,
          2999,
          3810,
          4327,
          2158,
          3143,
          2369,
          731,
          622
         ],
         "yaxis": "y"
        },
        {
         "hovertemplate": "구별=영등포구<br>index=%{x}<br>value=%{y}<extra></extra>",
         "legendgroup": "영등포구",
         "line": {
          "color": "#FF97FF",
          "dash": "solid"
         },
         "marker": {
          "symbol": "circle"
         },
         "mode": "lines",
         "name": "영등포구",
         "orientation": "v",
         "showlegend": true,
         "type": "scatter",
         "x": [
          "2011년",
          "2012년",
          "2013년",
          "2014년",
          "2015년",
          "2016년",
          "2017년",
          "2018년",
          "2019년",
          "2020년",
          "2021년",
          "2022년",
          "2023년"
         ],
         "xaxis": "x",
         "y": [
          2763,
          2746,
          3784,
          5137,
          6709,
          6499,
          8860,
          10770,
          4863,
          7876,
          3835,
          1595,
          3272
         ],
         "yaxis": "y"
        },
        {
         "hovertemplate": "구별=동작구<br>index=%{x}<br>value=%{y}<extra></extra>",
         "legendgroup": "동작구",
         "line": {
          "color": "#FECB52",
          "dash": "solid"
         },
         "marker": {
          "symbol": "circle"
         },
         "mode": "lines",
         "name": "동작구",
         "orientation": "v",
         "showlegend": true,
         "type": "scatter",
         "x": [
          "2011년",
          "2012년",
          "2013년",
          "2014년",
          "2015년",
          "2016년",
          "2017년",
          "2018년",
          "2019년",
          "2020년",
          "2021년",
          "2022년",
          "2023년"
         ],
         "xaxis": "x",
         "y": [
          3298,
          2782,
          3943,
          3763,
          5824,
          6060,
          6014,
          6449,
          4383,
          6694,
          2602,
          2751,
          2184
         ],
         "yaxis": "y"
        },
        {
         "hovertemplate": "구별=관악구<br>index=%{x}<br>value=%{y}<extra></extra>",
         "legendgroup": "관악구",
         "line": {
          "color": "#636efa",
          "dash": "solid"
         },
         "marker": {
          "symbol": "circle"
         },
         "mode": "lines",
         "name": "관악구",
         "orientation": "v",
         "showlegend": true,
         "type": "scatter",
         "x": [
          "2011년",
          "2012년",
          "2013년",
          "2014년",
          "2015년",
          "2016년",
          "2017년",
          "2018년",
          "2019년",
          "2020년",
          "2021년",
          "2022년",
          "2023년"
         ],
         "xaxis": "x",
         "y": [
          2270,
          2052,
          2588,
          3487,
          4621,
          3702,
          4355,
          3729,
          3342,
          4934,
          2284,
          1583,
          1950
         ],
         "yaxis": "y"
        },
        {
         "hovertemplate": "구별=서초구<br>index=%{x}<br>value=%{y}<extra></extra>",
         "legendgroup": "서초구",
         "line": {
          "color": "#EF553B",
          "dash": "solid"
         },
         "marker": {
          "symbol": "circle"
         },
         "mode": "lines",
         "name": "서초구",
         "orientation": "v",
         "showlegend": true,
         "type": "scatter",
         "x": [
          "2011년",
          "2012년",
          "2013년",
          "2014년",
          "2015년",
          "2016년",
          "2017년",
          "2018년",
          "2019년",
          "2020년",
          "2021년",
          "2022년",
          "2023년"
         ],
         "xaxis": "x",
         "y": [
          3908,
          3538,
          5949,
          9391,
          7744,
          7869,
          8191,
          8862,
          7944,
          7461,
          7533,
          2600,
          2978
         ],
         "yaxis": "y"
        },
        {
         "hovertemplate": "구별=강남구<br>index=%{x}<br>value=%{y}<extra></extra>",
         "legendgroup": "강남구",
         "line": {
          "color": "#00cc96",
          "dash": "solid"
         },
         "marker": {
          "symbol": "circle"
         },
         "mode": "lines",
         "name": "강남구",
         "orientation": "v",
         "showlegend": true,
         "type": "scatter",
         "x": [
          "2011년",
          "2012년",
          "2013년",
          "2014년",
          "2015년",
          "2016년",
          "2017년",
          "2018년",
          "2019년",
          "2020년",
          "2021년",
          "2022년",
          "2023년"
         ],
         "xaxis": "x",
         "y": [
          5610,
          5026,
          6535,
          10870,
          9765,
          9531,
          9157,
          11545,
          7652,
          13525,
          11533,
          4335,
          3443
         ],
         "yaxis": "y"
        },
        {
         "hovertemplate": "구별=송파구<br>index=%{x}<br>value=%{y}<extra></extra>",
         "legendgroup": "송파구",
         "line": {
          "color": "#ab63fa",
          "dash": "solid"
         },
         "marker": {
          "symbol": "circle"
         },
         "mode": "lines",
         "name": "송파구",
         "orientation": "v",
         "showlegend": true,
         "type": "scatter",
         "x": [
          "2011년",
          "2012년",
          "2013년",
          "2014년",
          "2015년",
          "2016년",
          "2017년",
          "2018년",
          "2019년",
          "2020년",
          "2021년",
          "2022년",
          "2023년"
         ],
         "xaxis": "x",
         "y": [
          5443,
          4648,
          10234,
          8387,
          9783,
          12757,
          12076,
          9457,
          11350,
          10934,
          8021,
          1845,
          3313
         ],
         "yaxis": "y"
        },
        {
         "hovertemplate": "구별=강동구<br>index=%{x}<br>value=%{y}<extra></extra>",
         "legendgroup": "강동구",
         "line": {
          "color": "#FFA15A",
          "dash": "solid"
         },
         "marker": {
          "symbol": "circle"
         },
         "mode": "lines",
         "name": "강동구",
         "orientation": "v",
         "showlegend": true,
         "type": "scatter",
         "x": [
          "2011년",
          "2012년",
          "2013년",
          "2014년",
          "2015년",
          "2016년",
          "2017년",
          "2018년",
          "2019년",
          "2020년",
          "2021년",
          "2022년",
          "2023년"
         ],
         "xaxis": "x",
         "y": [
          4919,
          3357,
          4234,
          5540,
          8052,
          9004,
          15422,
          8831,
          8066,
          11800,
          6314,
          2729,
          18036
         ],
         "yaxis": "y"
        }
       ],
       "layout": {
        "legend": {
         "title": {
          "text": "구별"
         },
         "tracegroupgap": 0
        },
        "margin": {
         "t": 60
        },
        "template": {
         "data": {
          "bar": [
           {
            "error_x": {
             "color": "#2a3f5f"
            },
            "error_y": {
             "color": "#2a3f5f"
            },
            "marker": {
             "line": {
              "color": "#E5ECF6",
              "width": 0.5
             },
             "pattern": {
              "fillmode": "overlay",
              "size": 10,
              "solidity": 0.2
             }
            },
            "type": "bar"
           }
          ],
          "barpolar": [
           {
            "marker": {
             "line": {
              "color": "#E5ECF6",
              "width": 0.5
             },
             "pattern": {
              "fillmode": "overlay",
              "size": 10,
              "solidity": 0.2
             }
            },
            "type": "barpolar"
           }
          ],
          "carpet": [
           {
            "aaxis": {
             "endlinecolor": "#2a3f5f",
             "gridcolor": "white",
             "linecolor": "white",
             "minorgridcolor": "white",
             "startlinecolor": "#2a3f5f"
            },
            "baxis": {
             "endlinecolor": "#2a3f5f",
             "gridcolor": "white",
             "linecolor": "white",
             "minorgridcolor": "white",
             "startlinecolor": "#2a3f5f"
            },
            "type": "carpet"
           }
          ],
          "choropleth": [
           {
            "colorbar": {
             "outlinewidth": 0,
             "ticks": ""
            },
            "type": "choropleth"
           }
          ],
          "contour": [
           {
            "colorbar": {
             "outlinewidth": 0,
             "ticks": ""
            },
            "colorscale": [
             [
              0,
              "#0d0887"
             ],
             [
              0.1111111111111111,
              "#46039f"
             ],
             [
              0.2222222222222222,
              "#7201a8"
             ],
             [
              0.3333333333333333,
              "#9c179e"
             ],
             [
              0.4444444444444444,
              "#bd3786"
             ],
             [
              0.5555555555555556,
              "#d8576b"
             ],
             [
              0.6666666666666666,
              "#ed7953"
             ],
             [
              0.7777777777777778,
              "#fb9f3a"
             ],
             [
              0.8888888888888888,
              "#fdca26"
             ],
             [
              1,
              "#f0f921"
             ]
            ],
            "type": "contour"
           }
          ],
          "contourcarpet": [
           {
            "colorbar": {
             "outlinewidth": 0,
             "ticks": ""
            },
            "type": "contourcarpet"
           }
          ],
          "heatmap": [
           {
            "colorbar": {
             "outlinewidth": 0,
             "ticks": ""
            },
            "colorscale": [
             [
              0,
              "#0d0887"
             ],
             [
              0.1111111111111111,
              "#46039f"
             ],
             [
              0.2222222222222222,
              "#7201a8"
             ],
             [
              0.3333333333333333,
              "#9c179e"
             ],
             [
              0.4444444444444444,
              "#bd3786"
             ],
             [
              0.5555555555555556,
              "#d8576b"
             ],
             [
              0.6666666666666666,
              "#ed7953"
             ],
             [
              0.7777777777777778,
              "#fb9f3a"
             ],
             [
              0.8888888888888888,
              "#fdca26"
             ],
             [
              1,
              "#f0f921"
             ]
            ],
            "type": "heatmap"
           }
          ],
          "heatmapgl": [
           {
            "colorbar": {
             "outlinewidth": 0,
             "ticks": ""
            },
            "colorscale": [
             [
              0,
              "#0d0887"
             ],
             [
              0.1111111111111111,
              "#46039f"
             ],
             [
              0.2222222222222222,
              "#7201a8"
             ],
             [
              0.3333333333333333,
              "#9c179e"
             ],
             [
              0.4444444444444444,
              "#bd3786"
             ],
             [
              0.5555555555555556,
              "#d8576b"
             ],
             [
              0.6666666666666666,
              "#ed7953"
             ],
             [
              0.7777777777777778,
              "#fb9f3a"
             ],
             [
              0.8888888888888888,
              "#fdca26"
             ],
             [
              1,
              "#f0f921"
             ]
            ],
            "type": "heatmapgl"
           }
          ],
          "histogram": [
           {
            "marker": {
             "pattern": {
              "fillmode": "overlay",
              "size": 10,
              "solidity": 0.2
             }
            },
            "type": "histogram"
           }
          ],
          "histogram2d": [
           {
            "colorbar": {
             "outlinewidth": 0,
             "ticks": ""
            },
            "colorscale": [
             [
              0,
              "#0d0887"
             ],
             [
              0.1111111111111111,
              "#46039f"
             ],
             [
              0.2222222222222222,
              "#7201a8"
             ],
             [
              0.3333333333333333,
              "#9c179e"
             ],
             [
              0.4444444444444444,
              "#bd3786"
             ],
             [
              0.5555555555555556,
              "#d8576b"
             ],
             [
              0.6666666666666666,
              "#ed7953"
             ],
             [
              0.7777777777777778,
              "#fb9f3a"
             ],
             [
              0.8888888888888888,
              "#fdca26"
             ],
             [
              1,
              "#f0f921"
             ]
            ],
            "type": "histogram2d"
           }
          ],
          "histogram2dcontour": [
           {
            "colorbar": {
             "outlinewidth": 0,
             "ticks": ""
            },
            "colorscale": [
             [
              0,
              "#0d0887"
             ],
             [
              0.1111111111111111,
              "#46039f"
             ],
             [
              0.2222222222222222,
              "#7201a8"
             ],
             [
              0.3333333333333333,
              "#9c179e"
             ],
             [
              0.4444444444444444,
              "#bd3786"
             ],
             [
              0.5555555555555556,
              "#d8576b"
             ],
             [
              0.6666666666666666,
              "#ed7953"
             ],
             [
              0.7777777777777778,
              "#fb9f3a"
             ],
             [
              0.8888888888888888,
              "#fdca26"
             ],
             [
              1,
              "#f0f921"
             ]
            ],
            "type": "histogram2dcontour"
           }
          ],
          "mesh3d": [
           {
            "colorbar": {
             "outlinewidth": 0,
             "ticks": ""
            },
            "type": "mesh3d"
           }
          ],
          "parcoords": [
           {
            "line": {
             "colorbar": {
              "outlinewidth": 0,
              "ticks": ""
             }
            },
            "type": "parcoords"
           }
          ],
          "pie": [
           {
            "automargin": true,
            "type": "pie"
           }
          ],
          "scatter": [
           {
            "fillpattern": {
             "fillmode": "overlay",
             "size": 10,
             "solidity": 0.2
            },
            "type": "scatter"
           }
          ],
          "scatter3d": [
           {
            "line": {
             "colorbar": {
              "outlinewidth": 0,
              "ticks": ""
             }
            },
            "marker": {
             "colorbar": {
              "outlinewidth": 0,
              "ticks": ""
             }
            },
            "type": "scatter3d"
           }
          ],
          "scattercarpet": [
           {
            "marker": {
             "colorbar": {
              "outlinewidth": 0,
              "ticks": ""
             }
            },
            "type": "scattercarpet"
           }
          ],
          "scattergeo": [
           {
            "marker": {
             "colorbar": {
              "outlinewidth": 0,
              "ticks": ""
             }
            },
            "type": "scattergeo"
           }
          ],
          "scattergl": [
           {
            "marker": {
             "colorbar": {
              "outlinewidth": 0,
              "ticks": ""
             }
            },
            "type": "scattergl"
           }
          ],
          "scattermapbox": [
           {
            "marker": {
             "colorbar": {
              "outlinewidth": 0,
              "ticks": ""
             }
            },
            "type": "scattermapbox"
           }
          ],
          "scatterpolar": [
           {
            "marker": {
             "colorbar": {
              "outlinewidth": 0,
              "ticks": ""
             }
            },
            "type": "scatterpolar"
           }
          ],
          "scatterpolargl": [
           {
            "marker": {
             "colorbar": {
              "outlinewidth": 0,
              "ticks": ""
             }
            },
            "type": "scatterpolargl"
           }
          ],
          "scatterternary": [
           {
            "marker": {
             "colorbar": {
              "outlinewidth": 0,
              "ticks": ""
             }
            },
            "type": "scatterternary"
           }
          ],
          "surface": [
           {
            "colorbar": {
             "outlinewidth": 0,
             "ticks": ""
            },
            "colorscale": [
             [
              0,
              "#0d0887"
             ],
             [
              0.1111111111111111,
              "#46039f"
             ],
             [
              0.2222222222222222,
              "#7201a8"
             ],
             [
              0.3333333333333333,
              "#9c179e"
             ],
             [
              0.4444444444444444,
              "#bd3786"
             ],
             [
              0.5555555555555556,
              "#d8576b"
             ],
             [
              0.6666666666666666,
              "#ed7953"
             ],
             [
              0.7777777777777778,
              "#fb9f3a"
             ],
             [
              0.8888888888888888,
              "#fdca26"
             ],
             [
              1,
              "#f0f921"
             ]
            ],
            "type": "surface"
           }
          ],
          "table": [
           {
            "cells": {
             "fill": {
              "color": "#EBF0F8"
             },
             "line": {
              "color": "white"
             }
            },
            "header": {
             "fill": {
              "color": "#C8D4E3"
             },
             "line": {
              "color": "white"
             }
            },
            "type": "table"
           }
          ]
         },
         "layout": {
          "annotationdefaults": {
           "arrowcolor": "#2a3f5f",
           "arrowhead": 0,
           "arrowwidth": 1
          },
          "autotypenumbers": "strict",
          "coloraxis": {
           "colorbar": {
            "outlinewidth": 0,
            "ticks": ""
           }
          },
          "colorscale": {
           "diverging": [
            [
             0,
             "#8e0152"
            ],
            [
             0.1,
             "#c51b7d"
            ],
            [
             0.2,
             "#de77ae"
            ],
            [
             0.3,
             "#f1b6da"
            ],
            [
             0.4,
             "#fde0ef"
            ],
            [
             0.5,
             "#f7f7f7"
            ],
            [
             0.6,
             "#e6f5d0"
            ],
            [
             0.7,
             "#b8e186"
            ],
            [
             0.8,
             "#7fbc41"
            ],
            [
             0.9,
             "#4d9221"
            ],
            [
             1,
             "#276419"
            ]
           ],
           "sequential": [
            [
             0,
             "#0d0887"
            ],
            [
             0.1111111111111111,
             "#46039f"
            ],
            [
             0.2222222222222222,
             "#7201a8"
            ],
            [
             0.3333333333333333,
             "#9c179e"
            ],
            [
             0.4444444444444444,
             "#bd3786"
            ],
            [
             0.5555555555555556,
             "#d8576b"
            ],
            [
             0.6666666666666666,
             "#ed7953"
            ],
            [
             0.7777777777777778,
             "#fb9f3a"
            ],
            [
             0.8888888888888888,
             "#fdca26"
            ],
            [
             1,
             "#f0f921"
            ]
           ],
           "sequentialminus": [
            [
             0,
             "#0d0887"
            ],
            [
             0.1111111111111111,
             "#46039f"
            ],
            [
             0.2222222222222222,
             "#7201a8"
            ],
            [
             0.3333333333333333,
             "#9c179e"
            ],
            [
             0.4444444444444444,
             "#bd3786"
            ],
            [
             0.5555555555555556,
             "#d8576b"
            ],
            [
             0.6666666666666666,
             "#ed7953"
            ],
            [
             0.7777777777777778,
             "#fb9f3a"
            ],
            [
             0.8888888888888888,
             "#fdca26"
            ],
            [
             1,
             "#f0f921"
            ]
           ]
          },
          "colorway": [
           "#636efa",
           "#EF553B",
           "#00cc96",
           "#ab63fa",
           "#FFA15A",
           "#19d3f3",
           "#FF6692",
           "#B6E880",
           "#FF97FF",
           "#FECB52"
          ],
          "font": {
           "color": "#2a3f5f"
          },
          "geo": {
           "bgcolor": "white",
           "lakecolor": "white",
           "landcolor": "#E5ECF6",
           "showlakes": true,
           "showland": true,
           "subunitcolor": "white"
          },
          "hoverlabel": {
           "align": "left"
          },
          "hovermode": "closest",
          "mapbox": {
           "style": "light"
          },
          "paper_bgcolor": "white",
          "plot_bgcolor": "#E5ECF6",
          "polar": {
           "angularaxis": {
            "gridcolor": "white",
            "linecolor": "white",
            "ticks": ""
           },
           "bgcolor": "#E5ECF6",
           "radialaxis": {
            "gridcolor": "white",
            "linecolor": "white",
            "ticks": ""
           }
          },
          "scene": {
           "xaxis": {
            "backgroundcolor": "#E5ECF6",
            "gridcolor": "white",
            "gridwidth": 2,
            "linecolor": "white",
            "showbackground": true,
            "ticks": "",
            "zerolinecolor": "white"
           },
           "yaxis": {
            "backgroundcolor": "#E5ECF6",
            "gridcolor": "white",
            "gridwidth": 2,
            "linecolor": "white",
            "showbackground": true,
            "ticks": "",
            "zerolinecolor": "white"
           },
           "zaxis": {
            "backgroundcolor": "#E5ECF6",
            "gridcolor": "white",
            "gridwidth": 2,
            "linecolor": "white",
            "showbackground": true,
            "ticks": "",
            "zerolinecolor": "white"
           }
          },
          "shapedefaults": {
           "line": {
            "color": "#2a3f5f"
           }
          },
          "ternary": {
           "aaxis": {
            "gridcolor": "white",
            "linecolor": "white",
            "ticks": ""
           },
           "baxis": {
            "gridcolor": "white",
            "linecolor": "white",
            "ticks": ""
           },
           "bgcolor": "#E5ECF6",
           "caxis": {
            "gridcolor": "white",
            "linecolor": "white",
            "ticks": ""
           }
          },
          "title": {
           "x": 0.05
          },
          "xaxis": {
           "automargin": true,
           "gridcolor": "white",
           "linecolor": "white",
           "ticks": "",
           "title": {
            "standoff": 15
           },
           "zerolinecolor": "white",
           "zerolinewidth": 2
          },
          "yaxis": {
           "automargin": true,
           "gridcolor": "white",
           "linecolor": "white",
           "ticks": "",
           "title": {
            "standoff": 15
           },
           "zerolinecolor": "white",
           "zerolinewidth": 2
          }
         }
        },
        "xaxis": {
         "anchor": "y",
         "domain": [
          0,
          1
         ],
         "title": {
          "text": "index"
         }
        },
        "yaxis": {
         "anchor": "x",
         "domain": [
          0,
          1
         ],
         "title": {
          "text": "value"
         }
        }
       }
      }
     },
     "metadata": {},
     "output_type": "display_data"
    }
   ],
   "source": [
    "import plotly.express as px\n",
    "\n",
    "px.line(volume)"
   ]
  },
  {
   "cell_type": "code",
   "execution_count": 104,
   "metadata": {},
   "outputs": [
    {
     "data": {
      "text/html": [
       "<div>\n",
       "<style scoped>\n",
       "    .dataframe tbody tr th:only-of-type {\n",
       "        vertical-align: middle;\n",
       "    }\n",
       "\n",
       "    .dataframe tbody tr th {\n",
       "        vertical-align: top;\n",
       "    }\n",
       "\n",
       "    .dataframe thead th {\n",
       "        text-align: right;\n",
       "    }\n",
       "</style>\n",
       "<table border=\"1\" class=\"dataframe\">\n",
       "  <thead>\n",
       "    <tr style=\"text-align: right;\">\n",
       "      <th>구별</th>\n",
       "      <th>종로구</th>\n",
       "      <th>중구</th>\n",
       "      <th>용산구</th>\n",
       "      <th>성동구</th>\n",
       "      <th>광진구</th>\n",
       "      <th>동대문구</th>\n",
       "      <th>중랑구</th>\n",
       "      <th>성북구</th>\n",
       "      <th>강북구</th>\n",
       "      <th>도봉구</th>\n",
       "      <th>...</th>\n",
       "      <th>강서구</th>\n",
       "      <th>구로구</th>\n",
       "      <th>금천구</th>\n",
       "      <th>영등포구</th>\n",
       "      <th>동작구</th>\n",
       "      <th>관악구</th>\n",
       "      <th>서초구</th>\n",
       "      <th>강남구</th>\n",
       "      <th>송파구</th>\n",
       "      <th>강동구</th>\n",
       "    </tr>\n",
       "  </thead>\n",
       "  <tbody>\n",
       "    <tr>\n",
       "      <th>2011년</th>\n",
       "      <td>680</td>\n",
       "      <td>1274</td>\n",
       "      <td>1480</td>\n",
       "      <td>2615</td>\n",
       "      <td>1615</td>\n",
       "      <td>3326</td>\n",
       "      <td>2547</td>\n",
       "      <td>4671</td>\n",
       "      <td>1595</td>\n",
       "      <td>3169</td>\n",
       "      <td>...</td>\n",
       "      <td>4029</td>\n",
       "      <td>5163</td>\n",
       "      <td>1049</td>\n",
       "      <td>2763</td>\n",
       "      <td>3298</td>\n",
       "      <td>2270</td>\n",
       "      <td>3908</td>\n",
       "      <td>5610</td>\n",
       "      <td>5443</td>\n",
       "      <td>4919</td>\n",
       "    </tr>\n",
       "    <tr>\n",
       "      <th>2012년</th>\n",
       "      <td>628</td>\n",
       "      <td>1689</td>\n",
       "      <td>945</td>\n",
       "      <td>1726</td>\n",
       "      <td>1369</td>\n",
       "      <td>2556</td>\n",
       "      <td>2016</td>\n",
       "      <td>2934</td>\n",
       "      <td>1089</td>\n",
       "      <td>2247</td>\n",
       "      <td>...</td>\n",
       "      <td>2536</td>\n",
       "      <td>2725</td>\n",
       "      <td>1006</td>\n",
       "      <td>2746</td>\n",
       "      <td>2782</td>\n",
       "      <td>2052</td>\n",
       "      <td>3538</td>\n",
       "      <td>5026</td>\n",
       "      <td>4648</td>\n",
       "      <td>3357</td>\n",
       "    </tr>\n",
       "    <tr>\n",
       "      <th>2013년</th>\n",
       "      <td>1108</td>\n",
       "      <td>1085</td>\n",
       "      <td>1574</td>\n",
       "      <td>3020</td>\n",
       "      <td>1338</td>\n",
       "      <td>3784</td>\n",
       "      <td>2894</td>\n",
       "      <td>4157</td>\n",
       "      <td>1459</td>\n",
       "      <td>3745</td>\n",
       "      <td>...</td>\n",
       "      <td>4774</td>\n",
       "      <td>3931</td>\n",
       "      <td>1702</td>\n",
       "      <td>3784</td>\n",
       "      <td>3943</td>\n",
       "      <td>2588</td>\n",
       "      <td>5949</td>\n",
       "      <td>6535</td>\n",
       "      <td>10234</td>\n",
       "      <td>4234</td>\n",
       "    </tr>\n",
       "    <tr>\n",
       "      <th>2014년</th>\n",
       "      <td>1042</td>\n",
       "      <td>1711</td>\n",
       "      <td>2373</td>\n",
       "      <td>5271</td>\n",
       "      <td>2258</td>\n",
       "      <td>5573</td>\n",
       "      <td>5370</td>\n",
       "      <td>5299</td>\n",
       "      <td>2022</td>\n",
       "      <td>4011</td>\n",
       "      <td>...</td>\n",
       "      <td>9107</td>\n",
       "      <td>6272</td>\n",
       "      <td>2433</td>\n",
       "      <td>5137</td>\n",
       "      <td>3763</td>\n",
       "      <td>3487</td>\n",
       "      <td>9391</td>\n",
       "      <td>10870</td>\n",
       "      <td>8387</td>\n",
       "      <td>5540</td>\n",
       "    </tr>\n",
       "    <tr>\n",
       "      <th>2015년</th>\n",
       "      <td>1447</td>\n",
       "      <td>2483</td>\n",
       "      <td>2810</td>\n",
       "      <td>8479</td>\n",
       "      <td>2535</td>\n",
       "      <td>6405</td>\n",
       "      <td>4662</td>\n",
       "      <td>7585</td>\n",
       "      <td>2952</td>\n",
       "      <td>5569</td>\n",
       "      <td>...</td>\n",
       "      <td>9902</td>\n",
       "      <td>6928</td>\n",
       "      <td>3348</td>\n",
       "      <td>6709</td>\n",
       "      <td>5824</td>\n",
       "      <td>4621</td>\n",
       "      <td>7744</td>\n",
       "      <td>9765</td>\n",
       "      <td>9783</td>\n",
       "      <td>8052</td>\n",
       "    </tr>\n",
       "    <tr>\n",
       "      <th>2016년</th>\n",
       "      <td>1336</td>\n",
       "      <td>2493</td>\n",
       "      <td>3960</td>\n",
       "      <td>6814</td>\n",
       "      <td>2630</td>\n",
       "      <td>7011</td>\n",
       "      <td>4031</td>\n",
       "      <td>6471</td>\n",
       "      <td>2225</td>\n",
       "      <td>5133</td>\n",
       "      <td>...</td>\n",
       "      <td>9766</td>\n",
       "      <td>6884</td>\n",
       "      <td>2999</td>\n",
       "      <td>6499</td>\n",
       "      <td>6060</td>\n",
       "      <td>3702</td>\n",
       "      <td>7869</td>\n",
       "      <td>9531</td>\n",
       "      <td>12757</td>\n",
       "      <td>9004</td>\n",
       "    </tr>\n",
       "    <tr>\n",
       "      <th>2017년</th>\n",
       "      <td>2562</td>\n",
       "      <td>2257</td>\n",
       "      <td>5022</td>\n",
       "      <td>7036</td>\n",
       "      <td>3049</td>\n",
       "      <td>5782</td>\n",
       "      <td>4820</td>\n",
       "      <td>7874</td>\n",
       "      <td>3060</td>\n",
       "      <td>4519</td>\n",
       "      <td>...</td>\n",
       "      <td>8270</td>\n",
       "      <td>6351</td>\n",
       "      <td>3810</td>\n",
       "      <td>8860</td>\n",
       "      <td>6014</td>\n",
       "      <td>4355</td>\n",
       "      <td>8191</td>\n",
       "      <td>9157</td>\n",
       "      <td>12076</td>\n",
       "      <td>15422</td>\n",
       "    </tr>\n",
       "    <tr>\n",
       "      <th>2018년</th>\n",
       "      <td>1240</td>\n",
       "      <td>2107</td>\n",
       "      <td>4557</td>\n",
       "      <td>4740</td>\n",
       "      <td>2560</td>\n",
       "      <td>6096</td>\n",
       "      <td>5329</td>\n",
       "      <td>9181</td>\n",
       "      <td>2381</td>\n",
       "      <td>4806</td>\n",
       "      <td>...</td>\n",
       "      <td>6676</td>\n",
       "      <td>7483</td>\n",
       "      <td>4327</td>\n",
       "      <td>10770</td>\n",
       "      <td>6449</td>\n",
       "      <td>3729</td>\n",
       "      <td>8862</td>\n",
       "      <td>11545</td>\n",
       "      <td>9457</td>\n",
       "      <td>8831</td>\n",
       "    </tr>\n",
       "    <tr>\n",
       "      <th>2019년</th>\n",
       "      <td>966</td>\n",
       "      <td>1400</td>\n",
       "      <td>2119</td>\n",
       "      <td>3883</td>\n",
       "      <td>2957</td>\n",
       "      <td>9157</td>\n",
       "      <td>3944</td>\n",
       "      <td>10024</td>\n",
       "      <td>1493</td>\n",
       "      <td>2988</td>\n",
       "      <td>...</td>\n",
       "      <td>4524</td>\n",
       "      <td>5164</td>\n",
       "      <td>2158</td>\n",
       "      <td>4863</td>\n",
       "      <td>4383</td>\n",
       "      <td>3342</td>\n",
       "      <td>7944</td>\n",
       "      <td>7652</td>\n",
       "      <td>11350</td>\n",
       "      <td>8066</td>\n",
       "    </tr>\n",
       "    <tr>\n",
       "      <th>2020년</th>\n",
       "      <td>1181</td>\n",
       "      <td>2134</td>\n",
       "      <td>4103</td>\n",
       "      <td>4906</td>\n",
       "      <td>2886</td>\n",
       "      <td>6329</td>\n",
       "      <td>4128</td>\n",
       "      <td>6826</td>\n",
       "      <td>2836</td>\n",
       "      <td>5515</td>\n",
       "      <td>...</td>\n",
       "      <td>9083</td>\n",
       "      <td>6271</td>\n",
       "      <td>3143</td>\n",
       "      <td>7876</td>\n",
       "      <td>6694</td>\n",
       "      <td>4934</td>\n",
       "      <td>7461</td>\n",
       "      <td>13525</td>\n",
       "      <td>10934</td>\n",
       "      <td>11800</td>\n",
       "    </tr>\n",
       "    <tr>\n",
       "      <th>2021년</th>\n",
       "      <td>838</td>\n",
       "      <td>1654</td>\n",
       "      <td>1744</td>\n",
       "      <td>2632</td>\n",
       "      <td>1266</td>\n",
       "      <td>3213</td>\n",
       "      <td>2378</td>\n",
       "      <td>4317</td>\n",
       "      <td>1392</td>\n",
       "      <td>2736</td>\n",
       "      <td>...</td>\n",
       "      <td>4365</td>\n",
       "      <td>3521</td>\n",
       "      <td>2369</td>\n",
       "      <td>3835</td>\n",
       "      <td>2602</td>\n",
       "      <td>2284</td>\n",
       "      <td>7533</td>\n",
       "      <td>11533</td>\n",
       "      <td>8021</td>\n",
       "      <td>6314</td>\n",
       "    </tr>\n",
       "    <tr>\n",
       "      <th>2022년</th>\n",
       "      <td>345</td>\n",
       "      <td>1096</td>\n",
       "      <td>780</td>\n",
       "      <td>1724</td>\n",
       "      <td>805</td>\n",
       "      <td>3304</td>\n",
       "      <td>1387</td>\n",
       "      <td>1887</td>\n",
       "      <td>1895</td>\n",
       "      <td>675</td>\n",
       "      <td>...</td>\n",
       "      <td>1729</td>\n",
       "      <td>1567</td>\n",
       "      <td>731</td>\n",
       "      <td>1595</td>\n",
       "      <td>2751</td>\n",
       "      <td>1583</td>\n",
       "      <td>2600</td>\n",
       "      <td>4335</td>\n",
       "      <td>1845</td>\n",
       "      <td>2729</td>\n",
       "    </tr>\n",
       "    <tr>\n",
       "      <th>2023년</th>\n",
       "      <td>369</td>\n",
       "      <td>669</td>\n",
       "      <td>822</td>\n",
       "      <td>2948</td>\n",
       "      <td>1788</td>\n",
       "      <td>9185</td>\n",
       "      <td>1783</td>\n",
       "      <td>5399</td>\n",
       "      <td>1357</td>\n",
       "      <td>1288</td>\n",
       "      <td>...</td>\n",
       "      <td>2182</td>\n",
       "      <td>1951</td>\n",
       "      <td>622</td>\n",
       "      <td>3272</td>\n",
       "      <td>2184</td>\n",
       "      <td>1950</td>\n",
       "      <td>2978</td>\n",
       "      <td>3443</td>\n",
       "      <td>3313</td>\n",
       "      <td>18036</td>\n",
       "    </tr>\n",
       "  </tbody>\n",
       "</table>\n",
       "<p>13 rows × 25 columns</p>\n",
       "</div>"
      ],
      "text/plain": [
       "구별      종로구    중구   용산구   성동구   광진구  동대문구   중랑구    성북구   강북구   도봉구  ...   강서구  \\\n",
       "2011년   680  1274  1480  2615  1615  3326  2547   4671  1595  3169  ...  4029   \n",
       "2012년   628  1689   945  1726  1369  2556  2016   2934  1089  2247  ...  2536   \n",
       "2013년  1108  1085  1574  3020  1338  3784  2894   4157  1459  3745  ...  4774   \n",
       "2014년  1042  1711  2373  5271  2258  5573  5370   5299  2022  4011  ...  9107   \n",
       "2015년  1447  2483  2810  8479  2535  6405  4662   7585  2952  5569  ...  9902   \n",
       "2016년  1336  2493  3960  6814  2630  7011  4031   6471  2225  5133  ...  9766   \n",
       "2017년  2562  2257  5022  7036  3049  5782  4820   7874  3060  4519  ...  8270   \n",
       "2018년  1240  2107  4557  4740  2560  6096  5329   9181  2381  4806  ...  6676   \n",
       "2019년   966  1400  2119  3883  2957  9157  3944  10024  1493  2988  ...  4524   \n",
       "2020년  1181  2134  4103  4906  2886  6329  4128   6826  2836  5515  ...  9083   \n",
       "2021년   838  1654  1744  2632  1266  3213  2378   4317  1392  2736  ...  4365   \n",
       "2022년   345  1096   780  1724   805  3304  1387   1887  1895   675  ...  1729   \n",
       "2023년   369   669   822  2948  1788  9185  1783   5399  1357  1288  ...  2182   \n",
       "\n",
       "구별      구로구   금천구   영등포구   동작구   관악구   서초구    강남구    송파구    강동구  \n",
       "2011년  5163  1049   2763  3298  2270  3908   5610   5443   4919  \n",
       "2012년  2725  1006   2746  2782  2052  3538   5026   4648   3357  \n",
       "2013년  3931  1702   3784  3943  2588  5949   6535  10234   4234  \n",
       "2014년  6272  2433   5137  3763  3487  9391  10870   8387   5540  \n",
       "2015년  6928  3348   6709  5824  4621  7744   9765   9783   8052  \n",
       "2016년  6884  2999   6499  6060  3702  7869   9531  12757   9004  \n",
       "2017년  6351  3810   8860  6014  4355  8191   9157  12076  15422  \n",
       "2018년  7483  4327  10770  6449  3729  8862  11545   9457   8831  \n",
       "2019년  5164  2158   4863  4383  3342  7944   7652  11350   8066  \n",
       "2020년  6271  3143   7876  6694  4934  7461  13525  10934  11800  \n",
       "2021년  3521  2369   3835  2602  2284  7533  11533   8021   6314  \n",
       "2022년  1567   731   1595  2751  1583  2600   4335   1845   2729  \n",
       "2023년  1951   622   3272  2184  1950  2978   3443   3313  18036  \n",
       "\n",
       "[13 rows x 25 columns]"
      ]
     },
     "execution_count": 104,
     "metadata": {},
     "output_type": "execute_result"
    }
   ],
   "source": [
    "volume"
   ]
  }
 ],
 "metadata": {
  "kernelspec": {
   "display_name": "eda_venv",
   "language": "python",
   "name": "python3"
  },
  "language_info": {
   "codemirror_mode": {
    "name": "ipython",
    "version": 3
   },
   "file_extension": ".py",
   "mimetype": "text/x-python",
   "name": "python",
   "nbconvert_exporter": "python",
   "pygments_lexer": "ipython3",
   "version": "3.10.12"
  }
 },
 "nbformat": 4,
 "nbformat_minor": 2
}
