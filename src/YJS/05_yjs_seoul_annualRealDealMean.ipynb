{
 "cells": [
  {
   "cell_type": "markdown",
   "metadata": {},
   "source": [
    "# 자치구별 평균 실거래 매매가"
   ]
  },
  {
   "cell_type": "code",
   "execution_count": 1,
   "metadata": {},
   "outputs": [],
   "source": [
    "import pandas as pd\n",
    "\n",
    "tps = [] # transaction_price_seoul\n",
    "tps.append(pd.read_csv(\"../data/mean_price_seoul/2011년_서울_아파트(매매)_실거래가_지번주소.csv\", encoding='euc-kr' ,header=15))\n",
    "tps.append(pd.read_csv(\"../data/mean_price_seoul/2012년_서울_아파트(매매)_실거래가_지번주소.csv\", encoding='euc-kr' ,header=15))\n",
    "tps.append(pd.read_csv(\"../data/mean_price_seoul/2013년_서울_아파트(매매)_실거래가_지번주소.csv\", encoding='euc-kr' ,header=15))\n",
    "tps.append(pd.read_csv(\"../data/mean_price_seoul/2014년_서울_아파트(매매)_실거래가_지번주소.csv\", encoding='euc-kr' ,header=15))\n",
    "tps.append(pd.read_csv(\"../data/mean_price_seoul/2015년_서울_아파트(매매)_실거래가_지번주소.csv\", encoding='euc-kr' ,header=15))\n",
    "tps.append(pd.read_csv(\"../data/mean_price_seoul/2016년_서울_아파트(매매)_실거래가_지번주소.csv\", encoding='euc-kr' ,header=15))\n",
    "tps.append(pd.read_csv(\"../data/mean_price_seoul/2017년_서울_아파트(매매)_실거래가_지번주소.csv\", encoding='euc-kr' ,header=15))\n",
    "tps.append(pd.read_csv(\"../data/mean_price_seoul/2018년_서울_아파트(매매)_실거래가_지번주소.csv\", encoding='euc-kr' ,header=15))\n",
    "tps.append(pd.read_csv(\"../data/mean_price_seoul/2019년_서울_아파트(매매)_실거래가_지번주소.csv\", encoding='euc-kr' ,header=15))\n",
    "tps.append(pd.read_csv(\"../data/mean_price_seoul/2020년_서울_아파트(매매)_실거래가_지번주소.csv\", encoding='euc-kr' ,header=15))\n",
    "tps.append(pd.read_csv(\"../data/mean_price_seoul/2021년_서울_아파트(매매)_실거래가_지번주소.csv\", encoding='euc-kr' ,header=15))\n",
    "tps.append(pd.read_csv(\"../data/mean_price_seoul/2022년_서울_아파트(매매)_실거래가_지번주소.csv\", encoding='euc-kr' ,header=15))\n",
    "tps.append(pd.read_csv(\"../data/mean_price_seoul/2023년_서울_아파트(매매)_실거래가_지번주소.csv\", encoding='euc-kr' ,header=15))\n",
    "\n",
    "\n",
    "\n"
   ]
  },
  {
   "cell_type": "code",
   "execution_count": 2,
   "metadata": {},
   "outputs": [
    {
     "data": {
      "text/html": [
       "<div>\n",
       "<style scoped>\n",
       "    .dataframe tbody tr th:only-of-type {\n",
       "        vertical-align: middle;\n",
       "    }\n",
       "\n",
       "    .dataframe tbody tr th {\n",
       "        vertical-align: top;\n",
       "    }\n",
       "\n",
       "    .dataframe thead th {\n",
       "        text-align: right;\n",
       "    }\n",
       "</style>\n",
       "<table border=\"1\" class=\"dataframe\">\n",
       "  <thead>\n",
       "    <tr style=\"text-align: right;\">\n",
       "      <th></th>\n",
       "      <th>2011년</th>\n",
       "      <th>2012년</th>\n",
       "      <th>2013년</th>\n",
       "      <th>2014년</th>\n",
       "      <th>2015년</th>\n",
       "      <th>2016년</th>\n",
       "      <th>2017년</th>\n",
       "      <th>2018년</th>\n",
       "      <th>2019년</th>\n",
       "      <th>2020년</th>\n",
       "      <th>2021년</th>\n",
       "      <th>2022년</th>\n",
       "      <th>2023년</th>\n",
       "    </tr>\n",
       "    <tr>\n",
       "      <th>구</th>\n",
       "      <th></th>\n",
       "      <th></th>\n",
       "      <th></th>\n",
       "      <th></th>\n",
       "      <th></th>\n",
       "      <th></th>\n",
       "      <th></th>\n",
       "      <th></th>\n",
       "      <th></th>\n",
       "      <th></th>\n",
       "      <th></th>\n",
       "      <th></th>\n",
       "      <th></th>\n",
       "    </tr>\n",
       "  </thead>\n",
       "  <tbody>\n",
       "    <tr>\n",
       "      <th>강남구</th>\n",
       "      <td>84573.439288</td>\n",
       "      <td>82577.604089</td>\n",
       "      <td>83772.970641</td>\n",
       "      <td>88069.923758</td>\n",
       "      <td>94114.637715</td>\n",
       "      <td>107345.743863</td>\n",
       "      <td>127428.113756</td>\n",
       "      <td>153334.085584</td>\n",
       "      <td>171860.133333</td>\n",
       "      <td>183945.526358</td>\n",
       "      <td>207144.448980</td>\n",
       "      <td>199734.679267</td>\n",
       "      <td>217075.743601</td>\n",
       "    </tr>\n",
       "    <tr>\n",
       "      <th>강동구</th>\n",
       "      <td>43404.086628</td>\n",
       "      <td>43170.996424</td>\n",
       "      <td>41471.244745</td>\n",
       "      <td>41454.902934</td>\n",
       "      <td>45726.793499</td>\n",
       "      <td>50555.091263</td>\n",
       "      <td>58066.038418</td>\n",
       "      <td>64973.058298</td>\n",
       "      <td>70823.594378</td>\n",
       "      <td>83822.653365</td>\n",
       "      <td>93626.194037</td>\n",
       "      <td>85088.644689</td>\n",
       "      <td>100625.563645</td>\n",
       "    </tr>\n",
       "    <tr>\n",
       "      <th>강북구</th>\n",
       "      <td>30603.733706</td>\n",
       "      <td>29788.926708</td>\n",
       "      <td>30546.154255</td>\n",
       "      <td>31795.288599</td>\n",
       "      <td>32514.594753</td>\n",
       "      <td>35667.490246</td>\n",
       "      <td>36844.074906</td>\n",
       "      <td>42267.334846</td>\n",
       "      <td>50455.060729</td>\n",
       "      <td>55941.708774</td>\n",
       "      <td>66786.311230</td>\n",
       "      <td>50226.363636</td>\n",
       "      <td>50659.730047</td>\n",
       "    </tr>\n",
       "    <tr>\n",
       "      <th>강서구</th>\n",
       "      <td>33756.602273</td>\n",
       "      <td>31812.108925</td>\n",
       "      <td>32557.948651</td>\n",
       "      <td>34389.259458</td>\n",
       "      <td>36138.141514</td>\n",
       "      <td>42335.444335</td>\n",
       "      <td>46636.686225</td>\n",
       "      <td>53062.572860</td>\n",
       "      <td>62765.460030</td>\n",
       "      <td>67700.339295</td>\n",
       "      <td>79163.403564</td>\n",
       "      <td>65631.551111</td>\n",
       "      <td>74637.417035</td>\n",
       "    </tr>\n",
       "    <tr>\n",
       "      <th>관악구</th>\n",
       "      <td>35453.903628</td>\n",
       "      <td>32117.926632</td>\n",
       "      <td>32607.376671</td>\n",
       "      <td>34610.493629</td>\n",
       "      <td>36519.630295</td>\n",
       "      <td>38176.858757</td>\n",
       "      <td>40731.305946</td>\n",
       "      <td>47146.787539</td>\n",
       "      <td>57172.614841</td>\n",
       "      <td>61851.565089</td>\n",
       "      <td>72948.668005</td>\n",
       "      <td>63250.239234</td>\n",
       "      <td>67333.760933</td>\n",
       "    </tr>\n",
       "  </tbody>\n",
       "</table>\n",
       "</div>"
      ],
      "text/plain": [
       "            2011년         2012년         2013년         2014년         2015년  \\\n",
       "구                                                                           \n",
       "강남구  84573.439288  82577.604089  83772.970641  88069.923758  94114.637715   \n",
       "강동구  43404.086628  43170.996424  41471.244745  41454.902934  45726.793499   \n",
       "강북구  30603.733706  29788.926708  30546.154255  31795.288599  32514.594753   \n",
       "강서구  33756.602273  31812.108925  32557.948651  34389.259458  36138.141514   \n",
       "관악구  35453.903628  32117.926632  32607.376671  34610.493629  36519.630295   \n",
       "\n",
       "             2016년          2017년          2018년          2019년  \\\n",
       "구                                                                 \n",
       "강남구  107345.743863  127428.113756  153334.085584  171860.133333   \n",
       "강동구   50555.091263   58066.038418   64973.058298   70823.594378   \n",
       "강북구   35667.490246   36844.074906   42267.334846   50455.060729   \n",
       "강서구   42335.444335   46636.686225   53062.572860   62765.460030   \n",
       "관악구   38176.858757   40731.305946   47146.787539   57172.614841   \n",
       "\n",
       "             2020년          2021년          2022년          2023년  \n",
       "구                                                                \n",
       "강남구  183945.526358  207144.448980  199734.679267  217075.743601  \n",
       "강동구   83822.653365   93626.194037   85088.644689  100625.563645  \n",
       "강북구   55941.708774   66786.311230   50226.363636   50659.730047  \n",
       "강서구   67700.339295   79163.403564   65631.551111   74637.417035  \n",
       "관악구   61851.565089   72948.668005   63250.239234   67333.760933  "
      ]
     },
     "execution_count": 2,
     "metadata": {},
     "output_type": "execute_result"
    }
   ],
   "source": [
    "tps_mean = []\n",
    "\n",
    "for idx in range(len(tps)):\n",
    "    tps[idx]['거래금액(만원)'] = tps[idx]['거래금액(만원)'].str.replace(\",\",\"\").astype('int64')\n",
    "    tps[idx]['구'] = tps[idx]['시군구'].str.split().str[1]\n",
    "    tps_mean.append(tps[idx].groupby(\"구\")[\"거래금액(만원)\"].mean())\n",
    "    tps_mean[idx] = pd.DataFrame(tps_mean[idx])\n",
    "    tps_mean[idx] = tps_mean[idx].rename(columns={'거래금액(만원)': str(2011+idx)+'년'})\n",
    "    \n",
    "    #tps_mean[idx] = tps_mean[idx].sort_values(by=\"거래금액(만원)\", axis=0, ascending=True)\n",
    "    #tps_mean[idx]['순위'] = range(1, len(tps_mean[idx])+1 )\n",
    "    #tps_mean[idx][str(idx + 2018)+\"년\"] = range(1, len(tps_mean[idx])+1 )\n",
    "    #tps_mean[idx] = tps_mean[idx].drop('거래금액(만원)', axis=1)\n",
    "\n",
    "\n",
    "merge_tps = pd.concat(tps_mean, axis =1)\n",
    "merge_tps.head()\n"
   ]
  },
  {
   "cell_type": "code",
   "execution_count": 3,
   "metadata": {},
   "outputs": [
    {
     "data": {
      "text/html": [
       "<div>\n",
       "<style scoped>\n",
       "    .dataframe tbody tr th:only-of-type {\n",
       "        vertical-align: middle;\n",
       "    }\n",
       "\n",
       "    .dataframe tbody tr th {\n",
       "        vertical-align: top;\n",
       "    }\n",
       "\n",
       "    .dataframe thead th {\n",
       "        text-align: right;\n",
       "    }\n",
       "</style>\n",
       "<table border=\"1\" class=\"dataframe\">\n",
       "  <thead>\n",
       "    <tr style=\"text-align: right;\">\n",
       "      <th>구</th>\n",
       "      <th>강남구</th>\n",
       "      <th>강동구</th>\n",
       "      <th>강북구</th>\n",
       "      <th>강서구</th>\n",
       "      <th>관악구</th>\n",
       "      <th>광진구</th>\n",
       "      <th>구로구</th>\n",
       "      <th>금천구</th>\n",
       "      <th>노원구</th>\n",
       "      <th>도봉구</th>\n",
       "      <th>...</th>\n",
       "      <th>성동구</th>\n",
       "      <th>성북구</th>\n",
       "      <th>송파구</th>\n",
       "      <th>양천구</th>\n",
       "      <th>영등포구</th>\n",
       "      <th>용산구</th>\n",
       "      <th>은평구</th>\n",
       "      <th>종로구</th>\n",
       "      <th>중구</th>\n",
       "      <th>중랑구</th>\n",
       "    </tr>\n",
       "  </thead>\n",
       "  <tbody>\n",
       "    <tr>\n",
       "      <th>2011년</th>\n",
       "      <td>84573.439288</td>\n",
       "      <td>43404.086628</td>\n",
       "      <td>30603.733706</td>\n",
       "      <td>33756.602273</td>\n",
       "      <td>35453.903628</td>\n",
       "      <td>53639.918594</td>\n",
       "      <td>32034.843771</td>\n",
       "      <td>26394.790960</td>\n",
       "      <td>27568.325564</td>\n",
       "      <td>26834.547842</td>\n",
       "      <td>...</td>\n",
       "      <td>45470.146628</td>\n",
       "      <td>36689.328912</td>\n",
       "      <td>66350.499045</td>\n",
       "      <td>48318.359690</td>\n",
       "      <td>45480.084464</td>\n",
       "      <td>75028.889862</td>\n",
       "      <td>36872.206067</td>\n",
       "      <td>46480.565401</td>\n",
       "      <td>46075.471624</td>\n",
       "      <td>29972.140294</td>\n",
       "    </tr>\n",
       "    <tr>\n",
       "      <th>2012년</th>\n",
       "      <td>82577.604089</td>\n",
       "      <td>43170.996424</td>\n",
       "      <td>29788.926708</td>\n",
       "      <td>31812.108925</td>\n",
       "      <td>32117.926632</td>\n",
       "      <td>54066.690088</td>\n",
       "      <td>30305.687808</td>\n",
       "      <td>25514.827586</td>\n",
       "      <td>25179.003724</td>\n",
       "      <td>25240.773839</td>\n",
       "      <td>...</td>\n",
       "      <td>48748.873429</td>\n",
       "      <td>34142.936080</td>\n",
       "      <td>64345.354600</td>\n",
       "      <td>46526.634974</td>\n",
       "      <td>39083.177334</td>\n",
       "      <td>70802.301303</td>\n",
       "      <td>34580.576259</td>\n",
       "      <td>51728.917275</td>\n",
       "      <td>54232.934599</td>\n",
       "      <td>28718.235339</td>\n",
       "    </tr>\n",
       "    <tr>\n",
       "      <th>2013년</th>\n",
       "      <td>83772.970641</td>\n",
       "      <td>41471.244745</td>\n",
       "      <td>30546.154255</td>\n",
       "      <td>32557.948651</td>\n",
       "      <td>32607.376671</td>\n",
       "      <td>51657.925955</td>\n",
       "      <td>31092.390493</td>\n",
       "      <td>24854.171144</td>\n",
       "      <td>26367.272610</td>\n",
       "      <td>25922.967722</td>\n",
       "      <td>...</td>\n",
       "      <td>47154.332592</td>\n",
       "      <td>34371.128463</td>\n",
       "      <td>63571.797683</td>\n",
       "      <td>45034.504741</td>\n",
       "      <td>40368.125228</td>\n",
       "      <td>66238.950873</td>\n",
       "      <td>34026.370707</td>\n",
       "      <td>49679.541744</td>\n",
       "      <td>53921.450461</td>\n",
       "      <td>28724.380223</td>\n",
       "    </tr>\n",
       "    <tr>\n",
       "      <th>2014년</th>\n",
       "      <td>88069.923758</td>\n",
       "      <td>41454.902934</td>\n",
       "      <td>31795.288599</td>\n",
       "      <td>34389.259458</td>\n",
       "      <td>34610.493629</td>\n",
       "      <td>54583.124237</td>\n",
       "      <td>32182.634173</td>\n",
       "      <td>26043.176594</td>\n",
       "      <td>27097.861055</td>\n",
       "      <td>26551.093674</td>\n",
       "      <td>...</td>\n",
       "      <td>50525.617092</td>\n",
       "      <td>36195.691516</td>\n",
       "      <td>63398.261599</td>\n",
       "      <td>46779.091653</td>\n",
       "      <td>41389.458136</td>\n",
       "      <td>77198.141830</td>\n",
       "      <td>34446.918232</td>\n",
       "      <td>45113.061224</td>\n",
       "      <td>50270.178022</td>\n",
       "      <td>30329.973750</td>\n",
       "    </tr>\n",
       "    <tr>\n",
       "      <th>2015년</th>\n",
       "      <td>94114.637715</td>\n",
       "      <td>45726.793499</td>\n",
       "      <td>32514.594753</td>\n",
       "      <td>36138.141514</td>\n",
       "      <td>36519.630295</td>\n",
       "      <td>56313.125506</td>\n",
       "      <td>33595.133421</td>\n",
       "      <td>28466.564103</td>\n",
       "      <td>28689.521806</td>\n",
       "      <td>27713.384182</td>\n",
       "      <td>...</td>\n",
       "      <td>52456.848593</td>\n",
       "      <td>39236.501857</td>\n",
       "      <td>66872.152979</td>\n",
       "      <td>48073.042850</td>\n",
       "      <td>44217.391991</td>\n",
       "      <td>77455.773438</td>\n",
       "      <td>36225.513457</td>\n",
       "      <td>48893.827381</td>\n",
       "      <td>54591.111888</td>\n",
       "      <td>30069.114525</td>\n",
       "    </tr>\n",
       "    <tr>\n",
       "      <th>2016년</th>\n",
       "      <td>107345.743863</td>\n",
       "      <td>50555.091263</td>\n",
       "      <td>35667.490246</td>\n",
       "      <td>42335.444335</td>\n",
       "      <td>38176.858757</td>\n",
       "      <td>58852.701571</td>\n",
       "      <td>35768.079696</td>\n",
       "      <td>31654.528051</td>\n",
       "      <td>31041.986214</td>\n",
       "      <td>29806.195352</td>\n",
       "      <td>...</td>\n",
       "      <td>58172.121957</td>\n",
       "      <td>42902.890920</td>\n",
       "      <td>74066.552719</td>\n",
       "      <td>53586.476275</td>\n",
       "      <td>49775.028516</td>\n",
       "      <td>97188.942586</td>\n",
       "      <td>40660.049589</td>\n",
       "      <td>54521.529483</td>\n",
       "      <td>60607.086713</td>\n",
       "      <td>32332.040620</td>\n",
       "    </tr>\n",
       "    <tr>\n",
       "      <th>2017년</th>\n",
       "      <td>127428.113756</td>\n",
       "      <td>58066.038418</td>\n",
       "      <td>36844.074906</td>\n",
       "      <td>46636.686225</td>\n",
       "      <td>40731.305946</td>\n",
       "      <td>66547.224456</td>\n",
       "      <td>39117.495733</td>\n",
       "      <td>33414.036137</td>\n",
       "      <td>34202.898344</td>\n",
       "      <td>32529.004356</td>\n",
       "      <td>...</td>\n",
       "      <td>67076.131538</td>\n",
       "      <td>44413.727754</td>\n",
       "      <td>85185.478341</td>\n",
       "      <td>63403.069193</td>\n",
       "      <td>56196.386308</td>\n",
       "      <td>108361.708907</td>\n",
       "      <td>43267.234414</td>\n",
       "      <td>56530.076074</td>\n",
       "      <td>60951.578904</td>\n",
       "      <td>35101.753503</td>\n",
       "    </tr>\n",
       "    <tr>\n",
       "      <th>2018년</th>\n",
       "      <td>153334.085584</td>\n",
       "      <td>64973.058298</td>\n",
       "      <td>42267.334846</td>\n",
       "      <td>53062.572860</td>\n",
       "      <td>47146.787539</td>\n",
       "      <td>80293.564682</td>\n",
       "      <td>43341.293873</td>\n",
       "      <td>37864.283879</td>\n",
       "      <td>38807.882943</td>\n",
       "      <td>35758.010212</td>\n",
       "      <td>...</td>\n",
       "      <td>81914.599304</td>\n",
       "      <td>49755.966404</td>\n",
       "      <td>98797.662360</td>\n",
       "      <td>65974.948209</td>\n",
       "      <td>66620.986128</td>\n",
       "      <td>132350.548049</td>\n",
       "      <td>48517.378081</td>\n",
       "      <td>61515.447514</td>\n",
       "      <td>68925.857478</td>\n",
       "      <td>39454.510742</td>\n",
       "    </tr>\n",
       "    <tr>\n",
       "      <th>2019년</th>\n",
       "      <td>171860.133333</td>\n",
       "      <td>70823.594378</td>\n",
       "      <td>50455.060729</td>\n",
       "      <td>62765.460030</td>\n",
       "      <td>57172.614841</td>\n",
       "      <td>99855.681818</td>\n",
       "      <td>53065.272549</td>\n",
       "      <td>44284.962406</td>\n",
       "      <td>43256.025024</td>\n",
       "      <td>43606.190476</td>\n",
       "      <td>...</td>\n",
       "      <td>101021.176471</td>\n",
       "      <td>60545.678233</td>\n",
       "      <td>120185.180085</td>\n",
       "      <td>80146.139785</td>\n",
       "      <td>78141.905312</td>\n",
       "      <td>131820.952096</td>\n",
       "      <td>59257.206490</td>\n",
       "      <td>84162.771084</td>\n",
       "      <td>80766.569767</td>\n",
       "      <td>39134.465116</td>\n",
       "    </tr>\n",
       "    <tr>\n",
       "      <th>2020년</th>\n",
       "      <td>183945.526358</td>\n",
       "      <td>83822.653365</td>\n",
       "      <td>55941.708774</td>\n",
       "      <td>67700.339295</td>\n",
       "      <td>61851.565089</td>\n",
       "      <td>106705.457364</td>\n",
       "      <td>54439.536629</td>\n",
       "      <td>47037.735571</td>\n",
       "      <td>52201.001323</td>\n",
       "      <td>45698.306381</td>\n",
       "      <td>...</td>\n",
       "      <td>114341.003946</td>\n",
       "      <td>68692.091575</td>\n",
       "      <td>130260.409071</td>\n",
       "      <td>89062.088564</td>\n",
       "      <td>89835.664049</td>\n",
       "      <td>152260.597776</td>\n",
       "      <td>62448.387489</td>\n",
       "      <td>80060.838346</td>\n",
       "      <td>92392.271401</td>\n",
       "      <td>50945.041351</td>\n",
       "    </tr>\n",
       "    <tr>\n",
       "      <th>2021년</th>\n",
       "      <td>207144.448980</td>\n",
       "      <td>93626.194037</td>\n",
       "      <td>66786.311230</td>\n",
       "      <td>79163.403564</td>\n",
       "      <td>72948.668005</td>\n",
       "      <td>119721.447721</td>\n",
       "      <td>62036.694633</td>\n",
       "      <td>59569.069767</td>\n",
       "      <td>67273.907743</td>\n",
       "      <td>58481.827441</td>\n",
       "      <td>...</td>\n",
       "      <td>144546.348684</td>\n",
       "      <td>83987.360912</td>\n",
       "      <td>154346.286920</td>\n",
       "      <td>103119.236354</td>\n",
       "      <td>101948.649895</td>\n",
       "      <td>199105.796031</td>\n",
       "      <td>73154.587302</td>\n",
       "      <td>92944.505495</td>\n",
       "      <td>90108.240260</td>\n",
       "      <td>64493.791641</td>\n",
       "    </tr>\n",
       "    <tr>\n",
       "      <th>2022년</th>\n",
       "      <td>199734.679267</td>\n",
       "      <td>85088.644689</td>\n",
       "      <td>50226.363636</td>\n",
       "      <td>65631.551111</td>\n",
       "      <td>63250.239234</td>\n",
       "      <td>104770.147368</td>\n",
       "      <td>50468.002577</td>\n",
       "      <td>45720.861244</td>\n",
       "      <td>65201.852974</td>\n",
       "      <td>56234.350962</td>\n",
       "      <td>...</td>\n",
       "      <td>147679.490617</td>\n",
       "      <td>76544.975379</td>\n",
       "      <td>151423.488920</td>\n",
       "      <td>97136.177829</td>\n",
       "      <td>82477.618694</td>\n",
       "      <td>218756.614786</td>\n",
       "      <td>65031.059932</td>\n",
       "      <td>68235.912791</td>\n",
       "      <td>74649.178744</td>\n",
       "      <td>48723.508137</td>\n",
       "    </tr>\n",
       "    <tr>\n",
       "      <th>2023년</th>\n",
       "      <td>217075.743601</td>\n",
       "      <td>100625.563645</td>\n",
       "      <td>50659.730047</td>\n",
       "      <td>74637.417035</td>\n",
       "      <td>67333.760933</td>\n",
       "      <td>117949.565847</td>\n",
       "      <td>63502.180284</td>\n",
       "      <td>59683.781818</td>\n",
       "      <td>59664.615704</td>\n",
       "      <td>50596.573712</td>\n",
       "      <td>...</td>\n",
       "      <td>130573.700129</td>\n",
       "      <td>73444.566876</td>\n",
       "      <td>154599.415205</td>\n",
       "      <td>114429.089832</td>\n",
       "      <td>101524.293823</td>\n",
       "      <td>204744.434705</td>\n",
       "      <td>69181.803178</td>\n",
       "      <td>110457.572816</td>\n",
       "      <td>94385.495327</td>\n",
       "      <td>56991.829630</td>\n",
       "    </tr>\n",
       "  </tbody>\n",
       "</table>\n",
       "<p>13 rows × 25 columns</p>\n",
       "</div>"
      ],
      "text/plain": [
       "구                강남구            강동구           강북구           강서구           관악구  \\\n",
       "2011년   84573.439288   43404.086628  30603.733706  33756.602273  35453.903628   \n",
       "2012년   82577.604089   43170.996424  29788.926708  31812.108925  32117.926632   \n",
       "2013년   83772.970641   41471.244745  30546.154255  32557.948651  32607.376671   \n",
       "2014년   88069.923758   41454.902934  31795.288599  34389.259458  34610.493629   \n",
       "2015년   94114.637715   45726.793499  32514.594753  36138.141514  36519.630295   \n",
       "2016년  107345.743863   50555.091263  35667.490246  42335.444335  38176.858757   \n",
       "2017년  127428.113756   58066.038418  36844.074906  46636.686225  40731.305946   \n",
       "2018년  153334.085584   64973.058298  42267.334846  53062.572860  47146.787539   \n",
       "2019년  171860.133333   70823.594378  50455.060729  62765.460030  57172.614841   \n",
       "2020년  183945.526358   83822.653365  55941.708774  67700.339295  61851.565089   \n",
       "2021년  207144.448980   93626.194037  66786.311230  79163.403564  72948.668005   \n",
       "2022년  199734.679267   85088.644689  50226.363636  65631.551111  63250.239234   \n",
       "2023년  217075.743601  100625.563645  50659.730047  74637.417035  67333.760933   \n",
       "\n",
       "구                광진구           구로구           금천구           노원구           도봉구  \\\n",
       "2011년   53639.918594  32034.843771  26394.790960  27568.325564  26834.547842   \n",
       "2012년   54066.690088  30305.687808  25514.827586  25179.003724  25240.773839   \n",
       "2013년   51657.925955  31092.390493  24854.171144  26367.272610  25922.967722   \n",
       "2014년   54583.124237  32182.634173  26043.176594  27097.861055  26551.093674   \n",
       "2015년   56313.125506  33595.133421  28466.564103  28689.521806  27713.384182   \n",
       "2016년   58852.701571  35768.079696  31654.528051  31041.986214  29806.195352   \n",
       "2017년   66547.224456  39117.495733  33414.036137  34202.898344  32529.004356   \n",
       "2018년   80293.564682  43341.293873  37864.283879  38807.882943  35758.010212   \n",
       "2019년   99855.681818  53065.272549  44284.962406  43256.025024  43606.190476   \n",
       "2020년  106705.457364  54439.536629  47037.735571  52201.001323  45698.306381   \n",
       "2021년  119721.447721  62036.694633  59569.069767  67273.907743  58481.827441   \n",
       "2022년  104770.147368  50468.002577  45720.861244  65201.852974  56234.350962   \n",
       "2023년  117949.565847  63502.180284  59683.781818  59664.615704  50596.573712   \n",
       "\n",
       "구      ...            성동구           성북구            송파구            양천구  \\\n",
       "2011년  ...   45470.146628  36689.328912   66350.499045   48318.359690   \n",
       "2012년  ...   48748.873429  34142.936080   64345.354600   46526.634974   \n",
       "2013년  ...   47154.332592  34371.128463   63571.797683   45034.504741   \n",
       "2014년  ...   50525.617092  36195.691516   63398.261599   46779.091653   \n",
       "2015년  ...   52456.848593  39236.501857   66872.152979   48073.042850   \n",
       "2016년  ...   58172.121957  42902.890920   74066.552719   53586.476275   \n",
       "2017년  ...   67076.131538  44413.727754   85185.478341   63403.069193   \n",
       "2018년  ...   81914.599304  49755.966404   98797.662360   65974.948209   \n",
       "2019년  ...  101021.176471  60545.678233  120185.180085   80146.139785   \n",
       "2020년  ...  114341.003946  68692.091575  130260.409071   89062.088564   \n",
       "2021년  ...  144546.348684  83987.360912  154346.286920  103119.236354   \n",
       "2022년  ...  147679.490617  76544.975379  151423.488920   97136.177829   \n",
       "2023년  ...  130573.700129  73444.566876  154599.415205  114429.089832   \n",
       "\n",
       "구               영등포구            용산구           은평구            종로구  \\\n",
       "2011년   45480.084464   75028.889862  36872.206067   46480.565401   \n",
       "2012년   39083.177334   70802.301303  34580.576259   51728.917275   \n",
       "2013년   40368.125228   66238.950873  34026.370707   49679.541744   \n",
       "2014년   41389.458136   77198.141830  34446.918232   45113.061224   \n",
       "2015년   44217.391991   77455.773438  36225.513457   48893.827381   \n",
       "2016년   49775.028516   97188.942586  40660.049589   54521.529483   \n",
       "2017년   56196.386308  108361.708907  43267.234414   56530.076074   \n",
       "2018년   66620.986128  132350.548049  48517.378081   61515.447514   \n",
       "2019년   78141.905312  131820.952096  59257.206490   84162.771084   \n",
       "2020년   89835.664049  152260.597776  62448.387489   80060.838346   \n",
       "2021년  101948.649895  199105.796031  73154.587302   92944.505495   \n",
       "2022년   82477.618694  218756.614786  65031.059932   68235.912791   \n",
       "2023년  101524.293823  204744.434705  69181.803178  110457.572816   \n",
       "\n",
       "구                중구           중랑구  \n",
       "2011년  46075.471624  29972.140294  \n",
       "2012년  54232.934599  28718.235339  \n",
       "2013년  53921.450461  28724.380223  \n",
       "2014년  50270.178022  30329.973750  \n",
       "2015년  54591.111888  30069.114525  \n",
       "2016년  60607.086713  32332.040620  \n",
       "2017년  60951.578904  35101.753503  \n",
       "2018년  68925.857478  39454.510742  \n",
       "2019년  80766.569767  39134.465116  \n",
       "2020년  92392.271401  50945.041351  \n",
       "2021년  90108.240260  64493.791641  \n",
       "2022년  74649.178744  48723.508137  \n",
       "2023년  94385.495327  56991.829630  \n",
       "\n",
       "[13 rows x 25 columns]"
      ]
     },
     "execution_count": 3,
     "metadata": {},
     "output_type": "execute_result"
    }
   ],
   "source": [
    "merge_tps = merge_tps.transpose()\n",
    "#merge_tps = merge_tps.drop(columns=['강남구','서초구','용산구','송파구','성동구'])\n",
    "merge_tps.to_csv(\"../data/yjs/05_Gu_Seoul_MeanPrice_yjs.csv\")\n",
    "merge_tps"
   ]
  },
  {
   "cell_type": "code",
   "execution_count": 4,
   "metadata": {},
   "outputs": [
    {
     "data": {
      "image/png": "[encoded data removed]",
      "text/plain": [
       "<Figure size 1400x1000 with 1 Axes>"
      ]
     },
     "metadata": {},
     "output_type": "display_data"
    }
   ],
   "source": [
    "import matplotlib.pyplot as plt\n",
    "import seaborn as sns\n",
    "import koreanize_matplotlib\n",
    "\n",
    "plt.figure(figsize=(14, 10))\n",
    "sns.lineplot(data=merge_tps,markers=True, palette='Set3')\n",
    "plt.title('연도별 아파트 매매가 순위')\n",
    "plt.xlabel('연도')\n",
    "plt.ylabel('서울시 자치구')\n",
    "plt.legend(title='자치구별', bbox_to_anchor=(1.05, 1), loc='upper left')\n",
    "plt.show()"
   ]
  },
  {
   "cell_type": "code",
   "execution_count": 5,
   "metadata": {},
   "outputs": [
    {
     "data": {
      "application/vnd.plotly.v1+json": {
       "config": {
        "plotlyServerURL": "https://plot.ly"
       },
       "data": [
        {
         "hovertemplate": "구=강남구<br>index=%{x}<br>value=%{y}<extra></extra>",
         "legendgroup": "강남구",
         "line": {
          "color": "#636efa",
          "dash": "solid"
         },
         "marker": {
          "symbol": "circle"
         },
         "mode": "lines",
         "name": "강남구",
         "orientation": "v",
         "showlegend": true,
         "type": "scatter",
         "x": [
          "2011년",
          "2012년",
          "2013년",
          "2014년",
          "2015년",
          "2016년",
          "2017년",
          "2018년",
          "2019년",
          "2020년",
          "2021년",
          "2022년",
          "2023년"
         ],
         "xaxis": "x",
         "y": [
          84573.43928847641,
          82577.60408921933,
          83772.9706405694,
          88069.92375765827,
          94114.6377147532,
          107345.7438627625,
          127428.11375588154,
          153334.08558430482,
          171860.13333333333,
          183945.52635825714,
          207144.44897959183,
          199734.67926689575,
          217075.7436008677
         ],
         "yaxis": "y"
        },
        {
         "hovertemplate": "구=강동구<br>index=%{x}<br>value=%{y}<extra></extra>",
         "legendgroup": "강동구",
         "line": {
          "color": "#EF553B",
          "dash": "solid"
         },
         "marker": {
          "symbol": "circle"
         },
         "mode": "lines",
         "name": "강동구",
         "orientation": "v",
         "showlegend": true,
         "type": "scatter",
         "x": [
          "2011년",
          "2012년",
          "2013년",
          "2014년",
          "2015년",
          "2016년",
          "2017년",
          "2018년",
          "2019년",
          "2020년",
          "2021년",
          "2022년",
          "2023년"
         ],
         "xaxis": "x",
         "y": [
          43404.08662843344,
          43170.99642431466,
          41471.24474517708,
          41454.902934039266,
          45726.793499043975,
          50555.091263122245,
          58066.03841789593,
          64973.05829831933,
          70823.59437751005,
          83822.653364817,
          93626.19403714564,
          85088.6446886447,
          100625.56364468865
         ],
         "yaxis": "y"
        },
        {
         "hovertemplate": "구=강북구<br>index=%{x}<br>value=%{y}<extra></extra>",
         "legendgroup": "강북구",
         "line": {
          "color": "#00cc96",
          "dash": "solid"
         },
         "marker": {
          "symbol": "circle"
         },
         "mode": "lines",
         "name": "강북구",
         "orientation": "v",
         "showlegend": true,
         "type": "scatter",
         "x": [
          "2011년",
          "2012년",
          "2013년",
          "2014년",
          "2015년",
          "2016년",
          "2017년",
          "2018년",
          "2019년",
          "2020년",
          "2021년",
          "2022년",
          "2023년"
         ],
         "xaxis": "x",
         "y": [
          30603.73370577281,
          29788.926708074534,
          30546.15425531915,
          31795.288599348532,
          32514.594753328114,
          35667.490246406574,
          36844.074906367045,
          42267.334846192636,
          50455.06072874494,
          55941.70877354157,
          66786.31122994653,
          50226.36363636364,
          50659.73004694836
         ],
         "yaxis": "y"
        },
        {
         "hovertemplate": "구=강서구<br>index=%{x}<br>value=%{y}<extra></extra>",
         "legendgroup": "강서구",
         "line": {
          "color": "#ab63fa",
          "dash": "solid"
         },
         "marker": {
          "symbol": "circle"
         },
         "mode": "lines",
         "name": "강서구",
         "orientation": "v",
         "showlegend": true,
         "type": "scatter",
         "x": [
          "2011년",
          "2012년",
          "2013년",
          "2014년",
          "2015년",
          "2016년",
          "2017년",
          "2018년",
          "2019년",
          "2020년",
          "2021년",
          "2022년",
          "2023년"
         ],
         "xaxis": "x",
         "y": [
          33756.60227272727,
          31812.108925143955,
          32557.948651452283,
          34389.25945834195,
          36138.14151392526,
          42335.444335252,
          46636.68622491991,
          53062.57286044719,
          62765.460030165916,
          67700.33929492692,
          79163.4035639413,
          65631.55111111111,
          74637.41703539823
         ],
         "yaxis": "y"
        },
        {
         "hovertemplate": "구=관악구<br>index=%{x}<br>value=%{y}<extra></extra>",
         "legendgroup": "관악구",
         "line": {
          "color": "#FFA15A",
          "dash": "solid"
         },
         "marker": {
          "symbol": "circle"
         },
         "mode": "lines",
         "name": "관악구",
         "orientation": "v",
         "showlegend": true,
         "type": "scatter",
         "x": [
          "2011년",
          "2012년",
          "2013년",
          "2014년",
          "2015년",
          "2016년",
          "2017년",
          "2018년",
          "2019년",
          "2020년",
          "2021년",
          "2022년",
          "2023년"
         ],
         "xaxis": "x",
         "y": [
          35453.90362750406,
          32117.926632428465,
          32607.376671277085,
          34610.493629413904,
          36519.63029525032,
          38176.858757062146,
          40731.305945622946,
          47146.78753937697,
          57172.6148409894,
          61851.565088757394,
          72948.66800535475,
          63250.239234449764,
          67333.76093294461
         ],
         "yaxis": "y"
        },
        {
         "hovertemplate": "구=광진구<br>index=%{x}<br>value=%{y}<extra></extra>",
         "legendgroup": "광진구",
         "line": {
          "color": "#19d3f3",
          "dash": "solid"
         },
         "marker": {
          "symbol": "circle"
         },
         "mode": "lines",
         "name": "광진구",
         "orientation": "v",
         "showlegend": true,
         "type": "scatter",
         "x": [
          "2011년",
          "2012년",
          "2013년",
          "2014년",
          "2015년",
          "2016년",
          "2017년",
          "2018년",
          "2019년",
          "2020년",
          "2021년",
          "2022년",
          "2023년"
         ],
         "xaxis": "x",
         "y": [
          53639.918593894545,
          54066.69008782936,
          51657.925954793456,
          54583.124237382144,
          56313.12550607287,
          58852.70157068063,
          66547.22445561139,
          80293.56468172485,
          99855.68181818182,
          106705.45736434108,
          119721.44772117962,
          104770.14736842105,
          117949.56584659913
         ],
         "yaxis": "y"
        },
        {
         "hovertemplate": "구=구로구<br>index=%{x}<br>value=%{y}<extra></extra>",
         "legendgroup": "구로구",
         "line": {
          "color": "#FF6692",
          "dash": "solid"
         },
         "marker": {
          "symbol": "circle"
         },
         "mode": "lines",
         "name": "구로구",
         "orientation": "v",
         "showlegend": true,
         "type": "scatter",
         "x": [
          "2011년",
          "2012년",
          "2013년",
          "2014년",
          "2015년",
          "2016년",
          "2017년",
          "2018년",
          "2019년",
          "2020년",
          "2021년",
          "2022년",
          "2023년"
         ],
         "xaxis": "x",
         "y": [
          32034.843771043772,
          30305.687807545106,
          31092.39049285506,
          32182.63417305586,
          33595.1334205363,
          35768.07969605937,
          39117.49573344169,
          43341.29387308534,
          53065.27254901961,
          54439.53662859394,
          62036.69463340892,
          50468.00257731959,
          63502.18028359217
         ],
         "yaxis": "y"
        },
        {
         "hovertemplate": "구=금천구<br>index=%{x}<br>value=%{y}<extra></extra>",
         "legendgroup": "금천구",
         "line": {
          "color": "#B6E880",
          "dash": "solid"
         },
         "marker": {
          "symbol": "circle"
         },
         "mode": "lines",
         "name": "금천구",
         "orientation": "v",
         "showlegend": true,
         "type": "scatter",
         "x": [
          "2011년",
          "2012년",
          "2013년",
          "2014년",
          "2015년",
          "2016년",
          "2017년",
          "2018년",
          "2019년",
          "2020년",
          "2021년",
          "2022년",
          "2023년"
         ],
         "xaxis": "x",
         "y": [
          26394.790960451977,
          25514.827586206895,
          24854.171143514966,
          26043.17659425368,
          28466.5641025641,
          31654.52805089647,
          33414.03613666229,
          37864.28387925498,
          44284.96240601504,
          47037.73557126031,
          59569.06976744186,
          45720.861244019135,
          59683.781818181815
         ],
         "yaxis": "y"
        },
        {
         "hovertemplate": "구=노원구<br>index=%{x}<br>value=%{y}<extra></extra>",
         "legendgroup": "노원구",
         "line": {
          "color": "#FF97FF",
          "dash": "solid"
         },
         "marker": {
          "symbol": "circle"
         },
         "mode": "lines",
         "name": "노원구",
         "orientation": "v",
         "showlegend": true,
         "type": "scatter",
         "x": [
          "2011년",
          "2012년",
          "2013년",
          "2014년",
          "2015년",
          "2016년",
          "2017년",
          "2018년",
          "2019년",
          "2020년",
          "2021년",
          "2022년",
          "2023년"
         ],
         "xaxis": "x",
         "y": [
          27568.325564049974,
          25179.003723528043,
          26367.2726100043,
          27097.861055365363,
          28689.521805792163,
          31041.986213822696,
          34202.89834397446,
          38807.88294275387,
          43256.0250240616,
          52201.00132333481,
          67273.90774258421,
          65201.85297418631,
          59664.61570403926
         ],
         "yaxis": "y"
        },
        {
         "hovertemplate": "구=도봉구<br>index=%{x}<br>value=%{y}<extra></extra>",
         "legendgroup": "도봉구",
         "line": {
          "color": "#FECB52",
          "dash": "solid"
         },
         "marker": {
          "symbol": "circle"
         },
         "mode": "lines",
         "name": "도봉구",
         "orientation": "v",
         "showlegend": true,
         "type": "scatter",
         "x": [
          "2011년",
          "2012년",
          "2013년",
          "2014년",
          "2015년",
          "2016년",
          "2017년",
          "2018년",
          "2019년",
          "2020년",
          "2021년",
          "2022년",
          "2023년"
         ],
         "xaxis": "x",
         "y": [
          26834.547842401502,
          25240.773839241137,
          25922.967722102676,
          26551.093673635623,
          27713.384181888847,
          29806.195351758794,
          32529.00435624395,
          35758.01021189686,
          43606.19047619047,
          45698.306381118884,
          58481.82744063324,
          56234.35096153846,
          50596.57371225577
         ],
         "yaxis": "y"
        },
        {
         "hovertemplate": "구=동대문구<br>index=%{x}<br>value=%{y}<extra></extra>",
         "legendgroup": "동대문구",
         "line": {
          "color": "#636efa",
          "dash": "solid"
         },
         "marker": {
          "symbol": "circle"
         },
         "mode": "lines",
         "name": "동대문구",
         "orientation": "v",
         "showlegend": true,
         "type": "scatter",
         "x": [
          "2011년",
          "2012년",
          "2013년",
          "2014년",
          "2015년",
          "2016년",
          "2017년",
          "2018년",
          "2019년",
          "2020년",
          "2021년",
          "2022년",
          "2023년"
         ],
         "xaxis": "x",
         "y": [
          34932.779791323446,
          34306.83413626979,
          33437.936675461744,
          34016.86333227142,
          37491.83361879129,
          41805.78334198236,
          45225.15668559628,
          50623.83522175461,
          58620.54669703873,
          71188.8527418361,
          77543.25783972125,
          68745.88503649634,
          75226.25
         ],
         "yaxis": "y"
        },
        {
         "hovertemplate": "구=동작구<br>index=%{x}<br>value=%{y}<extra></extra>",
         "legendgroup": "동작구",
         "line": {
          "color": "#EF553B",
          "dash": "solid"
         },
         "marker": {
          "symbol": "circle"
         },
         "mode": "lines",
         "name": "동작구",
         "orientation": "v",
         "showlegend": true,
         "type": "scatter",
         "x": [
          "2011년",
          "2012년",
          "2013년",
          "2014년",
          "2015년",
          "2016년",
          "2017년",
          "2018년",
          "2019년",
          "2020년",
          "2021년",
          "2022년",
          "2023년"
         ],
         "xaxis": "x",
         "y": [
          46837.39006725298,
          47143.53739612189,
          48219.37232472325,
          47159.36886735312,
          48379.360390905465,
          56000.20580589255,
          61656.99806154591,
          70566.97762540598,
          88963.18327974276,
          97779.13885135135,
          111730.3793774319,
          82468.18181818182,
          101919.5435483871
         ],
         "yaxis": "y"
        },
        {
         "hovertemplate": "구=마포구<br>index=%{x}<br>value=%{y}<extra></extra>",
         "legendgroup": "마포구",
         "line": {
          "color": "#00cc96",
          "dash": "solid"
         },
         "marker": {
          "symbol": "circle"
         },
         "mode": "lines",
         "name": "마포구",
         "orientation": "v",
         "showlegend": true,
         "type": "scatter",
         "x": [
          "2011년",
          "2012년",
          "2013년",
          "2014년",
          "2015년",
          "2016년",
          "2017년",
          "2018년",
          "2019년",
          "2020년",
          "2021년",
          "2022년",
          "2023년"
         ],
         "xaxis": "x",
         "y": [
          46972.24696132597,
          53390.65472972973,
          54859.055111821086,
          46861.96897038082,
          53119.13722886233,
          59103.93952180028,
          65576.54719764012,
          78184.68480108806,
          95479.93915343915,
          101337.9568447117,
          116794.59309021113,
          106275.77319587629,
          115800.56603773584
         ],
         "yaxis": "y"
        },
        {
         "hovertemplate": "구=서대문구<br>index=%{x}<br>value=%{y}<extra></extra>",
         "legendgroup": "서대문구",
         "line": {
          "color": "#ab63fa",
          "dash": "solid"
         },
         "marker": {
          "symbol": "circle"
         },
         "mode": "lines",
         "name": "서대문구",
         "orientation": "v",
         "showlegend": true,
         "type": "scatter",
         "x": [
          "2011년",
          "2012년",
          "2013년",
          "2014년",
          "2015년",
          "2016년",
          "2017년",
          "2018년",
          "2019년",
          "2020년",
          "2021년",
          "2022년",
          "2023년"
         ],
         "xaxis": "x",
         "y": [
          34843.42426367461,
          34654.36889332004,
          34207.90617433414,
          35736.66152527849,
          38169.99254621348,
          44917.47816091954,
          49903.07692307692,
          56397.90665674972,
          72815.19174041298,
          78547.7470845481,
          90762.6135734072,
          83188.42525773196,
          84566.59305019306
         ],
         "yaxis": "y"
        },
        {
         "hovertemplate": "구=서초구<br>index=%{x}<br>value=%{y}<extra></extra>",
         "legendgroup": "서초구",
         "line": {
          "color": "#FFA15A",
          "dash": "solid"
         },
         "marker": {
          "symbol": "circle"
         },
         "mode": "lines",
         "name": "서초구",
         "orientation": "v",
         "showlegend": true,
         "type": "scatter",
         "x": [
          "2011년",
          "2012년",
          "2013년",
          "2014년",
          "2015년",
          "2016년",
          "2017년",
          "2018년",
          "2019년",
          "2020년",
          "2021년",
          "2022년",
          "2023년"
         ],
         "xaxis": "x",
         "y": [
          85416.92241687523,
          82634.59426447158,
          83994.05670103093,
          89289.37165660052,
          95786.08812884545,
          108279.9145510836,
          120618.38790644609,
          146786.48920399614,
          158805.39184952978,
          174956.06520432694,
          205079.34741144415,
          214051.6458635704,
          222111.4152652005
         ],
         "yaxis": "y"
        },
        {
         "hovertemplate": "구=성동구<br>index=%{x}<br>value=%{y}<extra></extra>",
         "legendgroup": "성동구",
         "line": {
          "color": "#19d3f3",
          "dash": "solid"
         },
         "marker": {
          "symbol": "circle"
         },
         "mode": "lines",
         "name": "성동구",
         "orientation": "v",
         "showlegend": true,
         "type": "scatter",
         "x": [
          "2011년",
          "2012년",
          "2013년",
          "2014년",
          "2015년",
          "2016년",
          "2017년",
          "2018년",
          "2019년",
          "2020년",
          "2021년",
          "2022년",
          "2023년"
         ],
         "xaxis": "x",
         "y": [
          45470.146627565984,
          48748.87342908438,
          47154.33259226323,
          50525.61709245742,
          52456.84859312193,
          58172.1219572777,
          67076.13153759821,
          81914.59930434782,
          101021.17647058824,
          114341.00394607037,
          144546.34868421053,
          147679.49061662197,
          130573.70012870013
         ],
         "yaxis": "y"
        },
        {
         "hovertemplate": "구=성북구<br>index=%{x}<br>value=%{y}<extra></extra>",
         "legendgroup": "성북구",
         "line": {
          "color": "#FF6692",
          "dash": "solid"
         },
         "marker": {
          "symbol": "circle"
         },
         "mode": "lines",
         "name": "성북구",
         "orientation": "v",
         "showlegend": true,
         "type": "scatter",
         "x": [
          "2011년",
          "2012년",
          "2013년",
          "2014년",
          "2015년",
          "2016년",
          "2017년",
          "2018년",
          "2019년",
          "2020년",
          "2021년",
          "2022년",
          "2023년"
         ],
         "xaxis": "x",
         "y": [
          36689.328912466844,
          34142.936079545456,
          34371.128463476074,
          36195.691516169674,
          39236.50185693525,
          42902.89091958445,
          44413.72775402159,
          49755.96640356203,
          60545.678233438484,
          68692.09157509157,
          83987.36091177713,
          76544.97537878787,
          73444.56687565308
         ],
         "yaxis": "y"
        },
        {
         "hovertemplate": "구=송파구<br>index=%{x}<br>value=%{y}<extra></extra>",
         "legendgroup": "송파구",
         "line": {
          "color": "#B6E880",
          "dash": "solid"
         },
         "marker": {
          "symbol": "circle"
         },
         "mode": "lines",
         "name": "송파구",
         "orientation": "v",
         "showlegend": true,
         "type": "scatter",
         "x": [
          "2011년",
          "2012년",
          "2013년",
          "2014년",
          "2015년",
          "2016년",
          "2017년",
          "2018년",
          "2019년",
          "2020년",
          "2021년",
          "2022년",
          "2023년"
         ],
         "xaxis": "x",
         "y": [
          66350.49904502046,
          64345.35459982911,
          63571.79768324346,
          63398.26159865847,
          66872.15297863871,
          74066.55271861357,
          85185.47834112725,
          98797.66236003445,
          120185.18008474576,
          130260.40907127429,
          154346.2869198312,
          151423.48891966758,
          154599.41520467837
         ],
         "yaxis": "y"
        },
        {
         "hovertemplate": "구=양천구<br>index=%{x}<br>value=%{y}<extra></extra>",
         "legendgroup": "양천구",
         "line": {
          "color": "#FF97FF",
          "dash": "solid"
         },
         "marker": {
          "symbol": "circle"
         },
         "mode": "lines",
         "name": "양천구",
         "orientation": "v",
         "showlegend": true,
         "type": "scatter",
         "x": [
          "2011년",
          "2012년",
          "2013년",
          "2014년",
          "2015년",
          "2016년",
          "2017년",
          "2018년",
          "2019년",
          "2020년",
          "2021년",
          "2022년",
          "2023년"
         ],
         "xaxis": "x",
         "y": [
          48318.35968992248,
          46526.63497372193,
          45034.50474083439,
          46779.09165302783,
          48073.042850106714,
          53586.476275102184,
          63403.06919275124,
          65974.94820922443,
          80146.13978494624,
          89062.08856405847,
          103119.23635400106,
          97136.17782909931,
          114429.08983156581
         ],
         "yaxis": "y"
        },
        {
         "hovertemplate": "구=영등포구<br>index=%{x}<br>value=%{y}<extra></extra>",
         "legendgroup": "영등포구",
         "line": {
          "color": "#FECB52",
          "dash": "solid"
         },
         "marker": {
          "symbol": "circle"
         },
         "mode": "lines",
         "name": "영등포구",
         "orientation": "v",
         "showlegend": true,
         "type": "scatter",
         "x": [
          "2011년",
          "2012년",
          "2013년",
          "2014년",
          "2015년",
          "2016년",
          "2017년",
          "2018년",
          "2019년",
          "2020년",
          "2021년",
          "2022년",
          "2023년"
         ],
         "xaxis": "x",
         "y": [
          45480.084463894964,
          39083.17733411626,
          40368.12522818547,
          41389.45813586098,
          44217.391990975746,
          49775.028516295024,
          56196.38630751964,
          66620.9861278649,
          78141.90531177829,
          89835.66404886563,
          101948.6498951782,
          82477.61869436201,
          101524.2938230384
         ],
         "yaxis": "y"
        },
        {
         "hovertemplate": "구=용산구<br>index=%{x}<br>value=%{y}<extra></extra>",
         "legendgroup": "용산구",
         "line": {
          "color": "#636efa",
          "dash": "solid"
         },
         "marker": {
          "symbol": "circle"
         },
         "mode": "lines",
         "name": "용산구",
         "orientation": "v",
         "showlegend": true,
         "type": "scatter",
         "x": [
          "2011년",
          "2012년",
          "2013년",
          "2014년",
          "2015년",
          "2016년",
          "2017년",
          "2018년",
          "2019년",
          "2020년",
          "2021년",
          "2022년",
          "2023년"
         ],
         "xaxis": "x",
         "y": [
          75028.88986232791,
          70802.30130293159,
          66238.95087336244,
          77198.14183006536,
          77455.7734375,
          97188.94258570838,
          108361.70890688259,
          132350.54804892253,
          131820.95209580837,
          152260.5977763244,
          199105.79603087102,
          218756.61478599222,
          204744.43470483006
         ],
         "yaxis": "y"
        },
        {
         "hovertemplate": "구=은평구<br>index=%{x}<br>value=%{y}<extra></extra>",
         "legendgroup": "은평구",
         "line": {
          "color": "#EF553B",
          "dash": "solid"
         },
         "marker": {
          "symbol": "circle"
         },
         "mode": "lines",
         "name": "은평구",
         "orientation": "v",
         "showlegend": true,
         "type": "scatter",
         "x": [
          "2011년",
          "2012년",
          "2013년",
          "2014년",
          "2015년",
          "2016년",
          "2017년",
          "2018년",
          "2019년",
          "2020년",
          "2021년",
          "2022년",
          "2023년"
         ],
         "xaxis": "x",
         "y": [
          36872.206066945604,
          34580.576258992805,
          34026.37070748862,
          34446.9182320442,
          36225.51345701594,
          40660.049588968446,
          43267.23441396509,
          48517.37808137808,
          59257.20648967552,
          62448.38748913988,
          73154.58730158731,
          65031.05993150685,
          69181.8031784841
         ],
         "yaxis": "y"
        },
        {
         "hovertemplate": "구=종로구<br>index=%{x}<br>value=%{y}<extra></extra>",
         "legendgroup": "종로구",
         "line": {
          "color": "#00cc96",
          "dash": "solid"
         },
         "marker": {
          "symbol": "circle"
         },
         "mode": "lines",
         "name": "종로구",
         "orientation": "v",
         "showlegend": true,
         "type": "scatter",
         "x": [
          "2011년",
          "2012년",
          "2013년",
          "2014년",
          "2015년",
          "2016년",
          "2017년",
          "2018년",
          "2019년",
          "2020년",
          "2021년",
          "2022년",
          "2023년"
         ],
         "xaxis": "x",
         "y": [
          46480.56540084388,
          51728.91727493917,
          49679.541743970316,
          45113.06122448979,
          48893.82738095238,
          54521.529482551145,
          56530.07607361963,
          61515.447513812156,
          84162.77108433735,
          80060.83834586466,
          92944.5054945055,
          68235.91279069768,
          110457.57281553397
         ],
         "yaxis": "y"
        },
        {
         "hovertemplate": "구=중구<br>index=%{x}<br>value=%{y}<extra></extra>",
         "legendgroup": "중구",
         "line": {
          "color": "#ab63fa",
          "dash": "solid"
         },
         "marker": {
          "symbol": "circle"
         },
         "mode": "lines",
         "name": "중구",
         "orientation": "v",
         "showlegend": true,
         "type": "scatter",
         "x": [
          "2011년",
          "2012년",
          "2013년",
          "2014년",
          "2015년",
          "2016년",
          "2017년",
          "2018년",
          "2019년",
          "2020년",
          "2021년",
          "2022년",
          "2023년"
         ],
         "xaxis": "x",
         "y": [
          46075.471624266145,
          54232.93459915612,
          53921.450460829496,
          50270.17802197802,
          54591.11188811189,
          60607.08671328671,
          60951.578904333604,
          68925.85747846516,
          80766.56976744186,
          92392.2714007782,
          90108.24025974025,
          74649.17874396135,
          94385.4953271028
         ],
         "yaxis": "y"
        },
        {
         "hovertemplate": "구=중랑구<br>index=%{x}<br>value=%{y}<extra></extra>",
         "legendgroup": "중랑구",
         "line": {
          "color": "#FFA15A",
          "dash": "solid"
         },
         "marker": {
          "symbol": "circle"
         },
         "mode": "lines",
         "name": "중랑구",
         "orientation": "v",
         "showlegend": true,
         "type": "scatter",
         "x": [
          "2011년",
          "2012년",
          "2013년",
          "2014년",
          "2015년",
          "2016년",
          "2017년",
          "2018년",
          "2019년",
          "2020년",
          "2021년",
          "2022년",
          "2023년"
         ],
         "xaxis": "x",
         "y": [
          29972.140293637847,
          28718.23533891851,
          28724.380222841224,
          30329.97375,
          30069.114525139667,
          32332.04062015504,
          35101.753503184715,
          39454.51074151074,
          39134.46511627907,
          50945.041350792555,
          64493.79164142944,
          48723.50813743219,
          56991.82962962963
         ],
         "yaxis": "y"
        }
       ],
       "layout": {
        "legend": {
         "title": {
          "text": "구"
         },
         "tracegroupgap": 0
        },
        "margin": {
         "t": 60
        },
        "template": {
         "data": {
          "bar": [
           {
            "error_x": {
             "color": "#2a3f5f"
            },
            "error_y": {
             "color": "#2a3f5f"
            },
            "marker": {
             "line": {
              "color": "#E5ECF6",
              "width": 0.5
             },
             "pattern": {
              "fillmode": "overlay",
              "size": 10,
              "solidity": 0.2
             }
            },
            "type": "bar"
           }
          ],
          "barpolar": [
           {
            "marker": {
             "line": {
              "color": "#E5ECF6",
              "width": 0.5
             },
             "pattern": {
              "fillmode": "overlay",
              "size": 10,
              "solidity": 0.2
             }
            },
            "type": "barpolar"
           }
          ],
          "carpet": [
           {
            "aaxis": {
             "endlinecolor": "#2a3f5f",
             "gridcolor": "white",
             "linecolor": "white",
             "minorgridcolor": "white",
             "startlinecolor": "#2a3f5f"
            },
            "baxis": {
             "endlinecolor": "#2a3f5f",
             "gridcolor": "white",
             "linecolor": "white",
             "minorgridcolor": "white",
             "startlinecolor": "#2a3f5f"
            },
            "type": "carpet"
           }
          ],
          "choropleth": [
           {
            "colorbar": {
             "outlinewidth": 0,
             "ticks": ""
            },
            "type": "choropleth"
           }
          ],
          "contour": [
           {
            "colorbar": {
             "outlinewidth": 0,
             "ticks": ""
            },
            "colorscale": [
             [
              0,
              "#0d0887"
             ],
             [
              0.1111111111111111,
              "#46039f"
             ],
             [
              0.2222222222222222,
              "#7201a8"
             ],
             [
              0.3333333333333333,
              "#9c179e"
             ],
             [
              0.4444444444444444,
              "#bd3786"
             ],
             [
              0.5555555555555556,
              "#d8576b"
             ],
             [
              0.6666666666666666,
              "#ed7953"
             ],
             [
              0.7777777777777778,
              "#fb9f3a"
             ],
             [
              0.8888888888888888,
              "#fdca26"
             ],
             [
              1,
              "#f0f921"
             ]
            ],
            "type": "contour"
           }
          ],
          "contourcarpet": [
           {
            "colorbar": {
             "outlinewidth": 0,
             "ticks": ""
            },
            "type": "contourcarpet"
           }
          ],
          "heatmap": [
           {
            "colorbar": {
             "outlinewidth": 0,
             "ticks": ""
            },
            "colorscale": [
             [
              0,
              "#0d0887"
             ],
             [
              0.1111111111111111,
              "#46039f"
             ],
             [
              0.2222222222222222,
              "#7201a8"
             ],
             [
              0.3333333333333333,
              "#9c179e"
             ],
             [
              0.4444444444444444,
              "#bd3786"
             ],
             [
              0.5555555555555556,
              "#d8576b"
             ],
             [
              0.6666666666666666,
              "#ed7953"
             ],
             [
              0.7777777777777778,
              "#fb9f3a"
             ],
             [
              0.8888888888888888,
              "#fdca26"
             ],
             [
              1,
              "#f0f921"
             ]
            ],
            "type": "heatmap"
           }
          ],
          "heatmapgl": [
           {
            "colorbar": {
             "outlinewidth": 0,
             "ticks": ""
            },
            "colorscale": [
             [
              0,
              "#0d0887"
             ],
             [
              0.1111111111111111,
              "#46039f"
             ],
             [
              0.2222222222222222,
              "#7201a8"
             ],
             [
              0.3333333333333333,
              "#9c179e"
             ],
             [
              0.4444444444444444,
              "#bd3786"
             ],
             [
              0.5555555555555556,
              "#d8576b"
             ],
             [
              0.6666666666666666,
              "#ed7953"
             ],
             [
              0.7777777777777778,
              "#fb9f3a"
             ],
             [
              0.8888888888888888,
              "#fdca26"
             ],
             [
              1,
              "#f0f921"
             ]
            ],
            "type": "heatmapgl"
           }
          ],
          "histogram": [
           {
            "marker": {
             "pattern": {
              "fillmode": "overlay",
              "size": 10,
              "solidity": 0.2
             }
            },
            "type": "histogram"
           }
          ],
          "histogram2d": [
           {
            "colorbar": {
             "outlinewidth": 0,
             "ticks": ""
            },
            "colorscale": [
             [
              0,
              "#0d0887"
             ],
             [
              0.1111111111111111,
              "#46039f"
             ],
             [
              0.2222222222222222,
              "#7201a8"
             ],
             [
              0.3333333333333333,
              "#9c179e"
             ],
             [
              0.4444444444444444,
              "#bd3786"
             ],
             [
              0.5555555555555556,
              "#d8576b"
             ],
             [
              0.6666666666666666,
              "#ed7953"
             ],
             [
              0.7777777777777778,
              "#fb9f3a"
             ],
             [
              0.8888888888888888,
              "#fdca26"
             ],
             [
              1,
              "#f0f921"
             ]
            ],
            "type": "histogram2d"
           }
          ],
          "histogram2dcontour": [
           {
            "colorbar": {
             "outlinewidth": 0,
             "ticks": ""
            },
            "colorscale": [
             [
              0,
              "#0d0887"
             ],
             [
              0.1111111111111111,
              "#46039f"
             ],
             [
              0.2222222222222222,
              "#7201a8"
             ],
             [
              0.3333333333333333,
              "#9c179e"
             ],
             [
              0.4444444444444444,
              "#bd3786"
             ],
             [
              0.5555555555555556,
              "#d8576b"
             ],
             [
              0.6666666666666666,
              "#ed7953"
             ],
             [
              0.7777777777777778,
              "#fb9f3a"
             ],
             [
              0.8888888888888888,
              "#fdca26"
             ],
             [
              1,
              "#f0f921"
             ]
            ],
            "type": "histogram2dcontour"
           }
          ],
          "mesh3d": [
           {
            "colorbar": {
             "outlinewidth": 0,
             "ticks": ""
            },
            "type": "mesh3d"
           }
          ],
          "parcoords": [
           {
            "line": {
             "colorbar": {
              "outlinewidth": 0,
              "ticks": ""
             }
            },
            "type": "parcoords"
           }
          ],
          "pie": [
           {
            "automargin": true,
            "type": "pie"
           }
          ],
          "scatter": [
           {
            "fillpattern": {
             "fillmode": "overlay",
             "size": 10,
             "solidity": 0.2
            },
            "type": "scatter"
           }
          ],
          "scatter3d": [
           {
            "line": {
             "colorbar": {
              "outlinewidth": 0,
              "ticks": ""
             }
            },
            "marker": {
             "colorbar": {
              "outlinewidth": 0,
              "ticks": ""
             }
            },
            "type": "scatter3d"
           }
          ],
          "scattercarpet": [
           {
            "marker": {
             "colorbar": {
              "outlinewidth": 0,
              "ticks": ""
             }
            },
            "type": "scattercarpet"
           }
          ],
          "scattergeo": [
           {
            "marker": {
             "colorbar": {
              "outlinewidth": 0,
              "ticks": ""
             }
            },
            "type": "scattergeo"
           }
          ],
          "scattergl": [
           {
            "marker": {
             "colorbar": {
              "outlinewidth": 0,
              "ticks": ""
             }
            },
            "type": "scattergl"
           }
          ],
          "scattermapbox": [
           {
            "marker": {
             "colorbar": {
              "outlinewidth": 0,
              "ticks": ""
             }
            },
            "type": "scattermapbox"
           }
          ],
          "scatterpolar": [
           {
            "marker": {
             "colorbar": {
              "outlinewidth": 0,
              "ticks": ""
             }
            },
            "type": "scatterpolar"
           }
          ],
          "scatterpolargl": [
           {
            "marker": {
             "colorbar": {
              "outlinewidth": 0,
              "ticks": ""
             }
            },
            "type": "scatterpolargl"
           }
          ],
          "scatterternary": [
           {
            "marker": {
             "colorbar": {
              "outlinewidth": 0,
              "ticks": ""
             }
            },
            "type": "scatterternary"
           }
          ],
          "surface": [
           {
            "colorbar": {
             "outlinewidth": 0,
             "ticks": ""
            },
            "colorscale": [
             [
              0,
              "#0d0887"
             ],
             [
              0.1111111111111111,
              "#46039f"
             ],
             [
              0.2222222222222222,
              "#7201a8"
             ],
             [
              0.3333333333333333,
              "#9c179e"
             ],
             [
              0.4444444444444444,
              "#bd3786"
             ],
             [
              0.5555555555555556,
              "#d8576b"
             ],
             [
              0.6666666666666666,
              "#ed7953"
             ],
             [
              0.7777777777777778,
              "#fb9f3a"
             ],
             [
              0.8888888888888888,
              "#fdca26"
             ],
             [
              1,
              "#f0f921"
             ]
            ],
            "type": "surface"
           }
          ],
          "table": [
           {
            "cells": {
             "fill": {
              "color": "#EBF0F8"
             },
             "line": {
              "color": "white"
             }
            },
            "header": {
             "fill": {
              "color": "#C8D4E3"
             },
             "line": {
              "color": "white"
             }
            },
            "type": "table"
           }
          ]
         },
         "layout": {
          "annotationdefaults": {
           "arrowcolor": "#2a3f5f",
           "arrowhead": 0,
           "arrowwidth": 1
          },
          "autotypenumbers": "strict",
          "coloraxis": {
           "colorbar": {
            "outlinewidth": 0,
            "ticks": ""
           }
          },
          "colorscale": {
           "diverging": [
            [
             0,
             "#8e0152"
            ],
            [
             0.1,
             "#c51b7d"
            ],
            [
             0.2,
             "#de77ae"
            ],
            [
             0.3,
             "#f1b6da"
            ],
            [
             0.4,
             "#fde0ef"
            ],
            [
             0.5,
             "#f7f7f7"
            ],
            [
             0.6,
             "#e6f5d0"
            ],
            [
             0.7,
             "#b8e186"
            ],
            [
             0.8,
             "#7fbc41"
            ],
            [
             0.9,
             "#4d9221"
            ],
            [
             1,
             "#276419"
            ]
           ],
           "sequential": [
            [
             0,
             "#0d0887"
            ],
            [
             0.1111111111111111,
             "#46039f"
            ],
            [
             0.2222222222222222,
             "#7201a8"
            ],
            [
             0.3333333333333333,
             "#9c179e"
            ],
            [
             0.4444444444444444,
             "#bd3786"
            ],
            [
             0.5555555555555556,
             "#d8576b"
            ],
            [
             0.6666666666666666,
             "#ed7953"
            ],
            [
             0.7777777777777778,
             "#fb9f3a"
            ],
            [
             0.8888888888888888,
             "#fdca26"
            ],
            [
             1,
             "#f0f921"
            ]
           ],
           "sequentialminus": [
            [
             0,
             "#0d0887"
            ],
            [
             0.1111111111111111,
             "#46039f"
            ],
            [
             0.2222222222222222,
             "#7201a8"
            ],
            [
             0.3333333333333333,
             "#9c179e"
            ],
            [
             0.4444444444444444,
             "#bd3786"
            ],
            [
             0.5555555555555556,
             "#d8576b"
            ],
            [
             0.6666666666666666,
             "#ed7953"
            ],
            [
             0.7777777777777778,
             "#fb9f3a"
            ],
            [
             0.8888888888888888,
             "#fdca26"
            ],
            [
             1,
             "#f0f921"
            ]
           ]
          },
          "colorway": [
           "#636efa",
           "#EF553B",
           "#00cc96",
           "#ab63fa",
           "#FFA15A",
           "#19d3f3",
           "#FF6692",
           "#B6E880",
           "#FF97FF",
           "#FECB52"
          ],
          "font": {
           "color": "#2a3f5f"
          },
          "geo": {
           "bgcolor": "white",
           "lakecolor": "white",
           "landcolor": "#E5ECF6",
           "showlakes": true,
           "showland": true,
           "subunitcolor": "white"
          },
          "hoverlabel": {
           "align": "left"
          },
          "hovermode": "closest",
          "mapbox": {
           "style": "light"
          },
          "paper_bgcolor": "white",
          "plot_bgcolor": "#E5ECF6",
          "polar": {
           "angularaxis": {
            "gridcolor": "white",
            "linecolor": "white",
            "ticks": ""
           },
           "bgcolor": "#E5ECF6",
           "radialaxis": {
            "gridcolor": "white",
            "linecolor": "white",
            "ticks": ""
           }
          },
          "scene": {
           "xaxis": {
            "backgroundcolor": "#E5ECF6",
            "gridcolor": "white",
            "gridwidth": 2,
            "linecolor": "white",
            "showbackground": true,
            "ticks": "",
            "zerolinecolor": "white"
           },
           "yaxis": {
            "backgroundcolor": "#E5ECF6",
            "gridcolor": "white",
            "gridwidth": 2,
            "linecolor": "white",
            "showbackground": true,
            "ticks": "",
            "zerolinecolor": "white"
           },
           "zaxis": {
            "backgroundcolor": "#E5ECF6",
            "gridcolor": "white",
            "gridwidth": 2,
            "linecolor": "white",
            "showbackground": true,
            "ticks": "",
            "zerolinecolor": "white"
           }
          },
          "shapedefaults": {
           "line": {
            "color": "#2a3f5f"
           }
          },
          "ternary": {
           "aaxis": {
            "gridcolor": "white",
            "linecolor": "white",
            "ticks": ""
           },
           "baxis": {
            "gridcolor": "white",
            "linecolor": "white",
            "ticks": ""
           },
           "bgcolor": "#E5ECF6",
           "caxis": {
            "gridcolor": "white",
            "linecolor": "white",
            "ticks": ""
           }
          },
          "title": {
           "x": 0.05
          },
          "xaxis": {
           "automargin": true,
           "gridcolor": "white",
           "linecolor": "white",
           "ticks": "",
           "title": {
            "standoff": 15
           },
           "zerolinecolor": "white",
           "zerolinewidth": 2
          },
          "yaxis": {
           "automargin": true,
           "gridcolor": "white",
           "linecolor": "white",
           "ticks": "",
           "title": {
            "standoff": 15
           },
           "zerolinecolor": "white",
           "zerolinewidth": 2
          }
         }
        },
        "xaxis": {
         "anchor": "y",
         "domain": [
          0,
          1
         ],
         "title": {
          "text": "index"
         }
        },
        "yaxis": {
         "anchor": "x",
         "domain": [
          0,
          1
         ],
         "title": {
          "text": "value"
         }
        }
       }
      }
     },
     "metadata": {},
     "output_type": "display_data"
    }
   ],
   "source": [
    "import plotly.express as px\n",
    "\n",
    "px.line(merge_tps)"
   ]
  },
  {
   "cell_type": "code",
   "execution_count": 6,
   "metadata": {},
   "outputs": [
    {
     "data": {
      "application/vnd.plotly.v1+json": {
       "config": {
        "plotlyServerURL": "https://plot.ly"
       },
       "data": [
        {
         "hovertemplate": "구=강동구<br>index=%{x}<br>value=%{y}<extra></extra>",
         "legendgroup": "강동구",
         "line": {
          "color": "#636efa",
          "dash": "solid"
         },
         "marker": {
          "symbol": "circle"
         },
         "mode": "lines",
         "name": "강동구",
         "orientation": "v",
         "showlegend": true,
         "type": "scatter",
         "x": [
          "2011년",
          "2012년",
          "2013년",
          "2014년",
          "2015년",
          "2016년",
          "2017년",
          "2018년",
          "2019년",
          "2020년",
          "2021년",
          "2022년",
          "2023년"
         ],
         "xaxis": "x",
         "y": [
          43404.08662843344,
          43170.99642431466,
          41471.24474517708,
          41454.902934039266,
          45726.793499043975,
          50555.091263122245,
          58066.03841789593,
          64973.05829831933,
          70823.59437751005,
          83822.653364817,
          93626.19403714564,
          85088.6446886447,
          100625.56364468865
         ],
         "yaxis": "y"
        },
        {
         "hovertemplate": "구=강북구<br>index=%{x}<br>value=%{y}<extra></extra>",
         "legendgroup": "강북구",
         "line": {
          "color": "#EF553B",
          "dash": "solid"
         },
         "marker": {
          "symbol": "circle"
         },
         "mode": "lines",
         "name": "강북구",
         "orientation": "v",
         "showlegend": true,
         "type": "scatter",
         "x": [
          "2011년",
          "2012년",
          "2013년",
          "2014년",
          "2015년",
          "2016년",
          "2017년",
          "2018년",
          "2019년",
          "2020년",
          "2021년",
          "2022년",
          "2023년"
         ],
         "xaxis": "x",
         "y": [
          30603.73370577281,
          29788.926708074534,
          30546.15425531915,
          31795.288599348532,
          32514.594753328114,
          35667.490246406574,
          36844.074906367045,
          42267.334846192636,
          50455.06072874494,
          55941.70877354157,
          66786.31122994653,
          50226.36363636364,
          50659.73004694836
         ],
         "yaxis": "y"
        },
        {
         "hovertemplate": "구=강서구<br>index=%{x}<br>value=%{y}<extra></extra>",
         "legendgroup": "강서구",
         "line": {
          "color": "#00cc96",
          "dash": "solid"
         },
         "marker": {
          "symbol": "circle"
         },
         "mode": "lines",
         "name": "강서구",
         "orientation": "v",
         "showlegend": true,
         "type": "scatter",
         "x": [
          "2011년",
          "2012년",
          "2013년",
          "2014년",
          "2015년",
          "2016년",
          "2017년",
          "2018년",
          "2019년",
          "2020년",
          "2021년",
          "2022년",
          "2023년"
         ],
         "xaxis": "x",
         "y": [
          33756.60227272727,
          31812.108925143955,
          32557.948651452283,
          34389.25945834195,
          36138.14151392526,
          42335.444335252,
          46636.68622491991,
          53062.57286044719,
          62765.460030165916,
          67700.33929492692,
          79163.4035639413,
          65631.55111111111,
          74637.41703539823
         ],
         "yaxis": "y"
        },
        {
         "hovertemplate": "구=관악구<br>index=%{x}<br>value=%{y}<extra></extra>",
         "legendgroup": "관악구",
         "line": {
          "color": "#ab63fa",
          "dash": "solid"
         },
         "marker": {
          "symbol": "circle"
         },
         "mode": "lines",
         "name": "관악구",
         "orientation": "v",
         "showlegend": true,
         "type": "scatter",
         "x": [
          "2011년",
          "2012년",
          "2013년",
          "2014년",
          "2015년",
          "2016년",
          "2017년",
          "2018년",
          "2019년",
          "2020년",
          "2021년",
          "2022년",
          "2023년"
         ],
         "xaxis": "x",
         "y": [
          35453.90362750406,
          32117.926632428465,
          32607.376671277085,
          34610.493629413904,
          36519.63029525032,
          38176.858757062146,
          40731.305945622946,
          47146.78753937697,
          57172.6148409894,
          61851.565088757394,
          72948.66800535475,
          63250.239234449764,
          67333.76093294461
         ],
         "yaxis": "y"
        },
        {
         "hovertemplate": "구=광진구<br>index=%{x}<br>value=%{y}<extra></extra>",
         "legendgroup": "광진구",
         "line": {
          "color": "#FFA15A",
          "dash": "solid"
         },
         "marker": {
          "symbol": "circle"
         },
         "mode": "lines",
         "name": "광진구",
         "orientation": "v",
         "showlegend": true,
         "type": "scatter",
         "x": [
          "2011년",
          "2012년",
          "2013년",
          "2014년",
          "2015년",
          "2016년",
          "2017년",
          "2018년",
          "2019년",
          "2020년",
          "2021년",
          "2022년",
          "2023년"
         ],
         "xaxis": "x",
         "y": [
          53639.918593894545,
          54066.69008782936,
          51657.925954793456,
          54583.124237382144,
          56313.12550607287,
          58852.70157068063,
          66547.22445561139,
          80293.56468172485,
          99855.68181818182,
          106705.45736434108,
          119721.44772117962,
          104770.14736842105,
          117949.56584659913
         ],
         "yaxis": "y"
        },
        {
         "hovertemplate": "구=구로구<br>index=%{x}<br>value=%{y}<extra></extra>",
         "legendgroup": "구로구",
         "line": {
          "color": "#19d3f3",
          "dash": "solid"
         },
         "marker": {
          "symbol": "circle"
         },
         "mode": "lines",
         "name": "구로구",
         "orientation": "v",
         "showlegend": true,
         "type": "scatter",
         "x": [
          "2011년",
          "2012년",
          "2013년",
          "2014년",
          "2015년",
          "2016년",
          "2017년",
          "2018년",
          "2019년",
          "2020년",
          "2021년",
          "2022년",
          "2023년"
         ],
         "xaxis": "x",
         "y": [
          32034.843771043772,
          30305.687807545106,
          31092.39049285506,
          32182.63417305586,
          33595.1334205363,
          35768.07969605937,
          39117.49573344169,
          43341.29387308534,
          53065.27254901961,
          54439.53662859394,
          62036.69463340892,
          50468.00257731959,
          63502.18028359217
         ],
         "yaxis": "y"
        },
        {
         "hovertemplate": "구=금천구<br>index=%{x}<br>value=%{y}<extra></extra>",
         "legendgroup": "금천구",
         "line": {
          "color": "#FF6692",
          "dash": "solid"
         },
         "marker": {
          "symbol": "circle"
         },
         "mode": "lines",
         "name": "금천구",
         "orientation": "v",
         "showlegend": true,
         "type": "scatter",
         "x": [
          "2011년",
          "2012년",
          "2013년",
          "2014년",
          "2015년",
          "2016년",
          "2017년",
          "2018년",
          "2019년",
          "2020년",
          "2021년",
          "2022년",
          "2023년"
         ],
         "xaxis": "x",
         "y": [
          26394.790960451977,
          25514.827586206895,
          24854.171143514966,
          26043.17659425368,
          28466.5641025641,
          31654.52805089647,
          33414.03613666229,
          37864.28387925498,
          44284.96240601504,
          47037.73557126031,
          59569.06976744186,
          45720.861244019135,
          59683.781818181815
         ],
         "yaxis": "y"
        },
        {
         "hovertemplate": "구=노원구<br>index=%{x}<br>value=%{y}<extra></extra>",
         "legendgroup": "노원구",
         "line": {
          "color": "#B6E880",
          "dash": "solid"
         },
         "marker": {
          "symbol": "circle"
         },
         "mode": "lines",
         "name": "노원구",
         "orientation": "v",
         "showlegend": true,
         "type": "scatter",
         "x": [
          "2011년",
          "2012년",
          "2013년",
          "2014년",
          "2015년",
          "2016년",
          "2017년",
          "2018년",
          "2019년",
          "2020년",
          "2021년",
          "2022년",
          "2023년"
         ],
         "xaxis": "x",
         "y": [
          27568.325564049974,
          25179.003723528043,
          26367.2726100043,
          27097.861055365363,
          28689.521805792163,
          31041.986213822696,
          34202.89834397446,
          38807.88294275387,
          43256.0250240616,
          52201.00132333481,
          67273.90774258421,
          65201.85297418631,
          59664.61570403926
         ],
         "yaxis": "y"
        },
        {
         "hovertemplate": "구=도봉구<br>index=%{x}<br>value=%{y}<extra></extra>",
         "legendgroup": "도봉구",
         "line": {
          "color": "#FF97FF",
          "dash": "solid"
         },
         "marker": {
          "symbol": "circle"
         },
         "mode": "lines",
         "name": "도봉구",
         "orientation": "v",
         "showlegend": true,
         "type": "scatter",
         "x": [
          "2011년",
          "2012년",
          "2013년",
          "2014년",
          "2015년",
          "2016년",
          "2017년",
          "2018년",
          "2019년",
          "2020년",
          "2021년",
          "2022년",
          "2023년"
         ],
         "xaxis": "x",
         "y": [
          26834.547842401502,
          25240.773839241137,
          25922.967722102676,
          26551.093673635623,
          27713.384181888847,
          29806.195351758794,
          32529.00435624395,
          35758.01021189686,
          43606.19047619047,
          45698.306381118884,
          58481.82744063324,
          56234.35096153846,
          50596.57371225577
         ],
         "yaxis": "y"
        },
        {
         "hovertemplate": "구=동대문구<br>index=%{x}<br>value=%{y}<extra></extra>",
         "legendgroup": "동대문구",
         "line": {
          "color": "#FECB52",
          "dash": "solid"
         },
         "marker": {
          "symbol": "circle"
         },
         "mode": "lines",
         "name": "동대문구",
         "orientation": "v",
         "showlegend": true,
         "type": "scatter",
         "x": [
          "2011년",
          "2012년",
          "2013년",
          "2014년",
          "2015년",
          "2016년",
          "2017년",
          "2018년",
          "2019년",
          "2020년",
          "2021년",
          "2022년",
          "2023년"
         ],
         "xaxis": "x",
         "y": [
          34932.779791323446,
          34306.83413626979,
          33437.936675461744,
          34016.86333227142,
          37491.83361879129,
          41805.78334198236,
          45225.15668559628,
          50623.83522175461,
          58620.54669703873,
          71188.8527418361,
          77543.25783972125,
          68745.88503649634,
          75226.25
         ],
         "yaxis": "y"
        },
        {
         "hovertemplate": "구=동작구<br>index=%{x}<br>value=%{y}<extra></extra>",
         "legendgroup": "동작구",
         "line": {
          "color": "#636efa",
          "dash": "solid"
         },
         "marker": {
          "symbol": "circle"
         },
         "mode": "lines",
         "name": "동작구",
         "orientation": "v",
         "showlegend": true,
         "type": "scatter",
         "x": [
          "2011년",
          "2012년",
          "2013년",
          "2014년",
          "2015년",
          "2016년",
          "2017년",
          "2018년",
          "2019년",
          "2020년",
          "2021년",
          "2022년",
          "2023년"
         ],
         "xaxis": "x",
         "y": [
          46837.39006725298,
          47143.53739612189,
          48219.37232472325,
          47159.36886735312,
          48379.360390905465,
          56000.20580589255,
          61656.99806154591,
          70566.97762540598,
          88963.18327974276,
          97779.13885135135,
          111730.3793774319,
          82468.18181818182,
          101919.5435483871
         ],
         "yaxis": "y"
        },
        {
         "hovertemplate": "구=마포구<br>index=%{x}<br>value=%{y}<extra></extra>",
         "legendgroup": "마포구",
         "line": {
          "color": "#EF553B",
          "dash": "solid"
         },
         "marker": {
          "symbol": "circle"
         },
         "mode": "lines",
         "name": "마포구",
         "orientation": "v",
         "showlegend": true,
         "type": "scatter",
         "x": [
          "2011년",
          "2012년",
          "2013년",
          "2014년",
          "2015년",
          "2016년",
          "2017년",
          "2018년",
          "2019년",
          "2020년",
          "2021년",
          "2022년",
          "2023년"
         ],
         "xaxis": "x",
         "y": [
          46972.24696132597,
          53390.65472972973,
          54859.055111821086,
          46861.96897038082,
          53119.13722886233,
          59103.93952180028,
          65576.54719764012,
          78184.68480108806,
          95479.93915343915,
          101337.9568447117,
          116794.59309021113,
          106275.77319587629,
          115800.56603773584
         ],
         "yaxis": "y"
        },
        {
         "hovertemplate": "구=서대문구<br>index=%{x}<br>value=%{y}<extra></extra>",
         "legendgroup": "서대문구",
         "line": {
          "color": "#00cc96",
          "dash": "solid"
         },
         "marker": {
          "symbol": "circle"
         },
         "mode": "lines",
         "name": "서대문구",
         "orientation": "v",
         "showlegend": true,
         "type": "scatter",
         "x": [
          "2011년",
          "2012년",
          "2013년",
          "2014년",
          "2015년",
          "2016년",
          "2017년",
          "2018년",
          "2019년",
          "2020년",
          "2021년",
          "2022년",
          "2023년"
         ],
         "xaxis": "x",
         "y": [
          34843.42426367461,
          34654.36889332004,
          34207.90617433414,
          35736.66152527849,
          38169.99254621348,
          44917.47816091954,
          49903.07692307692,
          56397.90665674972,
          72815.19174041298,
          78547.7470845481,
          90762.6135734072,
          83188.42525773196,
          84566.59305019306
         ],
         "yaxis": "y"
        },
        {
         "hovertemplate": "구=성북구<br>index=%{x}<br>value=%{y}<extra></extra>",
         "legendgroup": "성북구",
         "line": {
          "color": "#ab63fa",
          "dash": "solid"
         },
         "marker": {
          "symbol": "circle"
         },
         "mode": "lines",
         "name": "성북구",
         "orientation": "v",
         "showlegend": true,
         "type": "scatter",
         "x": [
          "2011년",
          "2012년",
          "2013년",
          "2014년",
          "2015년",
          "2016년",
          "2017년",
          "2018년",
          "2019년",
          "2020년",
          "2021년",
          "2022년",
          "2023년"
         ],
         "xaxis": "x",
         "y": [
          36689.328912466844,
          34142.936079545456,
          34371.128463476074,
          36195.691516169674,
          39236.50185693525,
          42902.89091958445,
          44413.72775402159,
          49755.96640356203,
          60545.678233438484,
          68692.09157509157,
          83987.36091177713,
          76544.97537878787,
          73444.56687565308
         ],
         "yaxis": "y"
        },
        {
         "hovertemplate": "구=양천구<br>index=%{x}<br>value=%{y}<extra></extra>",
         "legendgroup": "양천구",
         "line": {
          "color": "#FFA15A",
          "dash": "solid"
         },
         "marker": {
          "symbol": "circle"
         },
         "mode": "lines",
         "name": "양천구",
         "orientation": "v",
         "showlegend": true,
         "type": "scatter",
         "x": [
          "2011년",
          "2012년",
          "2013년",
          "2014년",
          "2015년",
          "2016년",
          "2017년",
          "2018년",
          "2019년",
          "2020년",
          "2021년",
          "2022년",
          "2023년"
         ],
         "xaxis": "x",
         "y": [
          48318.35968992248,
          46526.63497372193,
          45034.50474083439,
          46779.09165302783,
          48073.042850106714,
          53586.476275102184,
          63403.06919275124,
          65974.94820922443,
          80146.13978494624,
          89062.08856405847,
          103119.23635400106,
          97136.17782909931,
          114429.08983156581
         ],
         "yaxis": "y"
        },
        {
         "hovertemplate": "구=영등포구<br>index=%{x}<br>value=%{y}<extra></extra>",
         "legendgroup": "영등포구",
         "line": {
          "color": "#19d3f3",
          "dash": "solid"
         },
         "marker": {
          "symbol": "circle"
         },
         "mode": "lines",
         "name": "영등포구",
         "orientation": "v",
         "showlegend": true,
         "type": "scatter",
         "x": [
          "2011년",
          "2012년",
          "2013년",
          "2014년",
          "2015년",
          "2016년",
          "2017년",
          "2018년",
          "2019년",
          "2020년",
          "2021년",
          "2022년",
          "2023년"
         ],
         "xaxis": "x",
         "y": [
          45480.084463894964,
          39083.17733411626,
          40368.12522818547,
          41389.45813586098,
          44217.391990975746,
          49775.028516295024,
          56196.38630751964,
          66620.9861278649,
          78141.90531177829,
          89835.66404886563,
          101948.6498951782,
          82477.61869436201,
          101524.2938230384
         ],
         "yaxis": "y"
        },
        {
         "hovertemplate": "구=은평구<br>index=%{x}<br>value=%{y}<extra></extra>",
         "legendgroup": "은평구",
         "line": {
          "color": "#FF6692",
          "dash": "solid"
         },
         "marker": {
          "symbol": "circle"
         },
         "mode": "lines",
         "name": "은평구",
         "orientation": "v",
         "showlegend": true,
         "type": "scatter",
         "x": [
          "2011년",
          "2012년",
          "2013년",
          "2014년",
          "2015년",
          "2016년",
          "2017년",
          "2018년",
          "2019년",
          "2020년",
          "2021년",
          "2022년",
          "2023년"
         ],
         "xaxis": "x",
         "y": [
          36872.206066945604,
          34580.576258992805,
          34026.37070748862,
          34446.9182320442,
          36225.51345701594,
          40660.049588968446,
          43267.23441396509,
          48517.37808137808,
          59257.20648967552,
          62448.38748913988,
          73154.58730158731,
          65031.05993150685,
          69181.8031784841
         ],
         "yaxis": "y"
        },
        {
         "hovertemplate": "구=종로구<br>index=%{x}<br>value=%{y}<extra></extra>",
         "legendgroup": "종로구",
         "line": {
          "color": "#B6E880",
          "dash": "solid"
         },
         "marker": {
          "symbol": "circle"
         },
         "mode": "lines",
         "name": "종로구",
         "orientation": "v",
         "showlegend": true,
         "type": "scatter",
         "x": [
          "2011년",
          "2012년",
          "2013년",
          "2014년",
          "2015년",
          "2016년",
          "2017년",
          "2018년",
          "2019년",
          "2020년",
          "2021년",
          "2022년",
          "2023년"
         ],
         "xaxis": "x",
         "y": [
          46480.56540084388,
          51728.91727493917,
          49679.541743970316,
          45113.06122448979,
          48893.82738095238,
          54521.529482551145,
          56530.07607361963,
          61515.447513812156,
          84162.77108433735,
          80060.83834586466,
          92944.5054945055,
          68235.91279069768,
          110457.57281553397
         ],
         "yaxis": "y"
        },
        {
         "hovertemplate": "구=중구<br>index=%{x}<br>value=%{y}<extra></extra>",
         "legendgroup": "중구",
         "line": {
          "color": "#FF97FF",
          "dash": "solid"
         },
         "marker": {
          "symbol": "circle"
         },
         "mode": "lines",
         "name": "중구",
         "orientation": "v",
         "showlegend": true,
         "type": "scatter",
         "x": [
          "2011년",
          "2012년",
          "2013년",
          "2014년",
          "2015년",
          "2016년",
          "2017년",
          "2018년",
          "2019년",
          "2020년",
          "2021년",
          "2022년",
          "2023년"
         ],
         "xaxis": "x",
         "y": [
          46075.471624266145,
          54232.93459915612,
          53921.450460829496,
          50270.17802197802,
          54591.11188811189,
          60607.08671328671,
          60951.578904333604,
          68925.85747846516,
          80766.56976744186,
          92392.2714007782,
          90108.24025974025,
          74649.17874396135,
          94385.4953271028
         ],
         "yaxis": "y"
        },
        {
         "hovertemplate": "구=중랑구<br>index=%{x}<br>value=%{y}<extra></extra>",
         "legendgroup": "중랑구",
         "line": {
          "color": "#FECB52",
          "dash": "solid"
         },
         "marker": {
          "symbol": "circle"
         },
         "mode": "lines",
         "name": "중랑구",
         "orientation": "v",
         "showlegend": true,
         "type": "scatter",
         "x": [
          "2011년",
          "2012년",
          "2013년",
          "2014년",
          "2015년",
          "2016년",
          "2017년",
          "2018년",
          "2019년",
          "2020년",
          "2021년",
          "2022년",
          "2023년"
         ],
         "xaxis": "x",
         "y": [
          29972.140293637847,
          28718.23533891851,
          28724.380222841224,
          30329.97375,
          30069.114525139667,
          32332.04062015504,
          35101.753503184715,
          39454.51074151074,
          39134.46511627907,
          50945.041350792555,
          64493.79164142944,
          48723.50813743219,
          56991.82962962963
         ],
         "yaxis": "y"
        }
       ],
       "layout": {
        "legend": {
         "title": {
          "text": "구"
         },
         "tracegroupgap": 0
        },
        "margin": {
         "t": 60
        },
        "template": {
         "data": {
          "bar": [
           {
            "error_x": {
             "color": "#2a3f5f"
            },
            "error_y": {
             "color": "#2a3f5f"
            },
            "marker": {
             "line": {
              "color": "#E5ECF6",
              "width": 0.5
             },
             "pattern": {
              "fillmode": "overlay",
              "size": 10,
              "solidity": 0.2
             }
            },
            "type": "bar"
           }
          ],
          "barpolar": [
           {
            "marker": {
             "line": {
              "color": "#E5ECF6",
              "width": 0.5
             },
             "pattern": {
              "fillmode": "overlay",
              "size": 10,
              "solidity": 0.2
             }
            },
            "type": "barpolar"
           }
          ],
          "carpet": [
           {
            "aaxis": {
             "endlinecolor": "#2a3f5f",
             "gridcolor": "white",
             "linecolor": "white",
             "minorgridcolor": "white",
             "startlinecolor": "#2a3f5f"
            },
            "baxis": {
             "endlinecolor": "#2a3f5f",
             "gridcolor": "white",
             "linecolor": "white",
             "minorgridcolor": "white",
             "startlinecolor": "#2a3f5f"
            },
            "type": "carpet"
           }
          ],
          "choropleth": [
           {
            "colorbar": {
             "outlinewidth": 0,
             "ticks": ""
            },
            "type": "choropleth"
           }
          ],
          "contour": [
           {
            "colorbar": {
             "outlinewidth": 0,
             "ticks": ""
            },
            "colorscale": [
             [
              0,
              "#0d0887"
             ],
             [
              0.1111111111111111,
              "#46039f"
             ],
             [
              0.2222222222222222,
              "#7201a8"
             ],
             [
              0.3333333333333333,
              "#9c179e"
             ],
             [
              0.4444444444444444,
              "#bd3786"
             ],
             [
              0.5555555555555556,
              "#d8576b"
             ],
             [
              0.6666666666666666,
              "#ed7953"
             ],
             [
              0.7777777777777778,
              "#fb9f3a"
             ],
             [
              0.8888888888888888,
              "#fdca26"
             ],
             [
              1,
              "#f0f921"
             ]
            ],
            "type": "contour"
           }
          ],
          "contourcarpet": [
           {
            "colorbar": {
             "outlinewidth": 0,
             "ticks": ""
            },
            "type": "contourcarpet"
           }
          ],
          "heatmap": [
           {
            "colorbar": {
             "outlinewidth": 0,
             "ticks": ""
            },
            "colorscale": [
             [
              0,
              "#0d0887"
             ],
             [
              0.1111111111111111,
              "#46039f"
             ],
             [
              0.2222222222222222,
              "#7201a8"
             ],
             [
              0.3333333333333333,
              "#9c179e"
             ],
             [
              0.4444444444444444,
              "#bd3786"
             ],
             [
              0.5555555555555556,
              "#d8576b"
             ],
             [
              0.6666666666666666,
              "#ed7953"
             ],
             [
              0.7777777777777778,
              "#fb9f3a"
             ],
             [
              0.8888888888888888,
              "#fdca26"
             ],
             [
              1,
              "#f0f921"
             ]
            ],
            "type": "heatmap"
           }
          ],
          "heatmapgl": [
           {
            "colorbar": {
             "outlinewidth": 0,
             "ticks": ""
            },
            "colorscale": [
             [
              0,
              "#0d0887"
             ],
             [
              0.1111111111111111,
              "#46039f"
             ],
             [
              0.2222222222222222,
              "#7201a8"
             ],
             [
              0.3333333333333333,
              "#9c179e"
             ],
             [
              0.4444444444444444,
              "#bd3786"
             ],
             [
              0.5555555555555556,
              "#d8576b"
             ],
             [
              0.6666666666666666,
              "#ed7953"
             ],
             [
              0.7777777777777778,
              "#fb9f3a"
             ],
             [
              0.8888888888888888,
              "#fdca26"
             ],
             [
              1,
              "#f0f921"
             ]
            ],
            "type": "heatmapgl"
           }
          ],
          "histogram": [
           {
            "marker": {
             "pattern": {
              "fillmode": "overlay",
              "size": 10,
              "solidity": 0.2
             }
            },
            "type": "histogram"
           }
          ],
          "histogram2d": [
           {
            "colorbar": {
             "outlinewidth": 0,
             "ticks": ""
            },
            "colorscale": [
             [
              0,
              "#0d0887"
             ],
             [
              0.1111111111111111,
              "#46039f"
             ],
             [
              0.2222222222222222,
              "#7201a8"
             ],
             [
              0.3333333333333333,
              "#9c179e"
             ],
             [
              0.4444444444444444,
              "#bd3786"
             ],
             [
              0.5555555555555556,
              "#d8576b"
             ],
             [
              0.6666666666666666,
              "#ed7953"
             ],
             [
              0.7777777777777778,
              "#fb9f3a"
             ],
             [
              0.8888888888888888,
              "#fdca26"
             ],
             [
              1,
              "#f0f921"
             ]
            ],
            "type": "histogram2d"
           }
          ],
          "histogram2dcontour": [
           {
            "colorbar": {
             "outlinewidth": 0,
             "ticks": ""
            },
            "colorscale": [
             [
              0,
              "#0d0887"
             ],
             [
              0.1111111111111111,
              "#46039f"
             ],
             [
              0.2222222222222222,
              "#7201a8"
             ],
             [
              0.3333333333333333,
              "#9c179e"
             ],
             [
              0.4444444444444444,
              "#bd3786"
             ],
             [
              0.5555555555555556,
              "#d8576b"
             ],
             [
              0.6666666666666666,
              "#ed7953"
             ],
             [
              0.7777777777777778,
              "#fb9f3a"
             ],
             [
              0.8888888888888888,
              "#fdca26"
             ],
             [
              1,
              "#f0f921"
             ]
            ],
            "type": "histogram2dcontour"
           }
          ],
          "mesh3d": [
           {
            "colorbar": {
             "outlinewidth": 0,
             "ticks": ""
            },
            "type": "mesh3d"
           }
          ],
          "parcoords": [
           {
            "line": {
             "colorbar": {
              "outlinewidth": 0,
              "ticks": ""
             }
            },
            "type": "parcoords"
           }
          ],
          "pie": [
           {
            "automargin": true,
            "type": "pie"
           }
          ],
          "scatter": [
           {
            "fillpattern": {
             "fillmode": "overlay",
             "size": 10,
             "solidity": 0.2
            },
            "type": "scatter"
           }
          ],
          "scatter3d": [
           {
            "line": {
             "colorbar": {
              "outlinewidth": 0,
              "ticks": ""
             }
            },
            "marker": {
             "colorbar": {
              "outlinewidth": 0,
              "ticks": ""
             }
            },
            "type": "scatter3d"
           }
          ],
          "scattercarpet": [
           {
            "marker": {
             "colorbar": {
              "outlinewidth": 0,
              "ticks": ""
             }
            },
            "type": "scattercarpet"
           }
          ],
          "scattergeo": [
           {
            "marker": {
             "colorbar": {
              "outlinewidth": 0,
              "ticks": ""
             }
            },
            "type": "scattergeo"
           }
          ],
          "scattergl": [
           {
            "marker": {
             "colorbar": {
              "outlinewidth": 0,
              "ticks": ""
             }
            },
            "type": "scattergl"
           }
          ],
          "scattermapbox": [
           {
            "marker": {
             "colorbar": {
              "outlinewidth": 0,
              "ticks": ""
             }
            },
            "type": "scattermapbox"
           }
          ],
          "scatterpolar": [
           {
            "marker": {
             "colorbar": {
              "outlinewidth": 0,
              "ticks": ""
             }
            },
            "type": "scatterpolar"
           }
          ],
          "scatterpolargl": [
           {
            "marker": {
             "colorbar": {
              "outlinewidth": 0,
              "ticks": ""
             }
            },
            "type": "scatterpolargl"
           }
          ],
          "scatterternary": [
           {
            "marker": {
             "colorbar": {
              "outlinewidth": 0,
              "ticks": ""
             }
            },
            "type": "scatterternary"
           }
          ],
          "surface": [
           {
            "colorbar": {
             "outlinewidth": 0,
             "ticks": ""
            },
            "colorscale": [
             [
              0,
              "#0d0887"
             ],
             [
              0.1111111111111111,
              "#46039f"
             ],
             [
              0.2222222222222222,
              "#7201a8"
             ],
             [
              0.3333333333333333,
              "#9c179e"
             ],
             [
              0.4444444444444444,
              "#bd3786"
             ],
             [
              0.5555555555555556,
              "#d8576b"
             ],
             [
              0.6666666666666666,
              "#ed7953"
             ],
             [
              0.7777777777777778,
              "#fb9f3a"
             ],
             [
              0.8888888888888888,
              "#fdca26"
             ],
             [
              1,
              "#f0f921"
             ]
            ],
            "type": "surface"
           }
          ],
          "table": [
           {
            "cells": {
             "fill": {
              "color": "#EBF0F8"
             },
             "line": {
              "color": "white"
             }
            },
            "header": {
             "fill": {
              "color": "#C8D4E3"
             },
             "line": {
              "color": "white"
             }
            },
            "type": "table"
           }
          ]
         },
         "layout": {
          "annotationdefaults": {
           "arrowcolor": "#2a3f5f",
           "arrowhead": 0,
           "arrowwidth": 1
          },
          "autotypenumbers": "strict",
          "coloraxis": {
           "colorbar": {
            "outlinewidth": 0,
            "ticks": ""
           }
          },
          "colorscale": {
           "diverging": [
            [
             0,
             "#8e0152"
            ],
            [
             0.1,
             "#c51b7d"
            ],
            [
             0.2,
             "#de77ae"
            ],
            [
             0.3,
             "#f1b6da"
            ],
            [
             0.4,
             "#fde0ef"
            ],
            [
             0.5,
             "#f7f7f7"
            ],
            [
             0.6,
             "#e6f5d0"
            ],
            [
             0.7,
             "#b8e186"
            ],
            [
             0.8,
             "#7fbc41"
            ],
            [
             0.9,
             "#4d9221"
            ],
            [
             1,
             "#276419"
            ]
           ],
           "sequential": [
            [
             0,
             "#0d0887"
            ],
            [
             0.1111111111111111,
             "#46039f"
            ],
            [
             0.2222222222222222,
             "#7201a8"
            ],
            [
             0.3333333333333333,
             "#9c179e"
            ],
            [
             0.4444444444444444,
             "#bd3786"
            ],
            [
             0.5555555555555556,
             "#d8576b"
            ],
            [
             0.6666666666666666,
             "#ed7953"
            ],
            [
             0.7777777777777778,
             "#fb9f3a"
            ],
            [
             0.8888888888888888,
             "#fdca26"
            ],
            [
             1,
             "#f0f921"
            ]
           ],
           "sequentialminus": [
            [
             0,
             "#0d0887"
            ],
            [
             0.1111111111111111,
             "#46039f"
            ],
            [
             0.2222222222222222,
             "#7201a8"
            ],
            [
             0.3333333333333333,
             "#9c179e"
            ],
            [
             0.4444444444444444,
             "#bd3786"
            ],
            [
             0.5555555555555556,
             "#d8576b"
            ],
            [
             0.6666666666666666,
             "#ed7953"
            ],
            [
             0.7777777777777778,
             "#fb9f3a"
            ],
            [
             0.8888888888888888,
             "#fdca26"
            ],
            [
             1,
             "#f0f921"
            ]
           ]
          },
          "colorway": [
           "#636efa",
           "#EF553B",
           "#00cc96",
           "#ab63fa",
           "#FFA15A",
           "#19d3f3",
           "#FF6692",
           "#B6E880",
           "#FF97FF",
           "#FECB52"
          ],
          "font": {
           "color": "#2a3f5f"
          },
          "geo": {
           "bgcolor": "white",
           "lakecolor": "white",
           "landcolor": "#E5ECF6",
           "showlakes": true,
           "showland": true,
           "subunitcolor": "white"
          },
          "hoverlabel": {
           "align": "left"
          },
          "hovermode": "closest",
          "mapbox": {
           "style": "light"
          },
          "paper_bgcolor": "white",
          "plot_bgcolor": "#E5ECF6",
          "polar": {
           "angularaxis": {
            "gridcolor": "white",
            "linecolor": "white",
            "ticks": ""
           },
           "bgcolor": "#E5ECF6",
           "radialaxis": {
            "gridcolor": "white",
            "linecolor": "white",
            "ticks": ""
           }
          },
          "scene": {
           "xaxis": {
            "backgroundcolor": "#E5ECF6",
            "gridcolor": "white",
            "gridwidth": 2,
            "linecolor": "white",
            "showbackground": true,
            "ticks": "",
            "zerolinecolor": "white"
           },
           "yaxis": {
            "backgroundcolor": "#E5ECF6",
            "gridcolor": "white",
            "gridwidth": 2,
            "linecolor": "white",
            "showbackground": true,
            "ticks": "",
            "zerolinecolor": "white"
           },
           "zaxis": {
            "backgroundcolor": "#E5ECF6",
            "gridcolor": "white",
            "gridwidth": 2,
            "linecolor": "white",
            "showbackground": true,
            "ticks": "",
            "zerolinecolor": "white"
           }
          },
          "shapedefaults": {
           "line": {
            "color": "#2a3f5f"
           }
          },
          "ternary": {
           "aaxis": {
            "gridcolor": "white",
            "linecolor": "white",
            "ticks": ""
           },
           "baxis": {
            "gridcolor": "white",
            "linecolor": "white",
            "ticks": ""
           },
           "bgcolor": "#E5ECF6",
           "caxis": {
            "gridcolor": "white",
            "linecolor": "white",
            "ticks": ""
           }
          },
          "title": {
           "x": 0.05
          },
          "xaxis": {
           "automargin": true,
           "gridcolor": "white",
           "linecolor": "white",
           "ticks": "",
           "title": {
            "standoff": 15
           },
           "zerolinecolor": "white",
           "zerolinewidth": 2
          },
          "yaxis": {
           "automargin": true,
           "gridcolor": "white",
           "linecolor": "white",
           "ticks": "",
           "title": {
            "standoff": 15
           },
           "zerolinecolor": "white",
           "zerolinewidth": 2
          }
         }
        },
        "xaxis": {
         "anchor": "y",
         "domain": [
          0,
          1
         ],
         "title": {
          "text": "index"
         }
        },
        "yaxis": {
         "anchor": "x",
         "domain": [
          0,
          1
         ],
         "title": {
          "text": "value"
         }
        }
       }
      }
     },
     "metadata": {},
     "output_type": "display_data"
    }
   ],
   "source": [
    "merge_tps2 = merge_tps.drop(columns=['강남구','서초구','용산구','송파구','성동구'])\n",
    "px.line(merge_tps2)"
   ]
  },
  {
   "cell_type": "markdown",
   "metadata": {},
   "source": [
    "# 자치구별 거래량"
   ]
  },
  {
   "cell_type": "code",
   "execution_count": 7,
   "metadata": {},
   "outputs": [
    {
     "data": {
      "text/html": [
       "<div>\n",
       "<style scoped>\n",
       "    .dataframe tbody tr th:only-of-type {\n",
       "        vertical-align: middle;\n",
       "    }\n",
       "\n",
       "    .dataframe tbody tr th {\n",
       "        vertical-align: top;\n",
       "    }\n",
       "\n",
       "    .dataframe thead th {\n",
       "        text-align: right;\n",
       "    }\n",
       "</style>\n",
       "<table border=\"1\" class=\"dataframe\">\n",
       "  <thead>\n",
       "    <tr style=\"text-align: right;\">\n",
       "      <th></th>\n",
       "      <th>지 역</th>\n",
       "      <th>Unnamed: 1</th>\n",
       "      <th>2006년</th>\n",
       "      <th>2007년</th>\n",
       "      <th>2008년</th>\n",
       "      <th>2009년</th>\n",
       "      <th>2010년</th>\n",
       "      <th>2011년</th>\n",
       "      <th>2012년</th>\n",
       "      <th>2013년</th>\n",
       "      <th>2014년</th>\n",
       "      <th>2015년</th>\n",
       "      <th>2016년</th>\n",
       "      <th>2017년</th>\n",
       "      <th>2018년</th>\n",
       "      <th>2019년</th>\n",
       "      <th>2020년</th>\n",
       "      <th>2021년</th>\n",
       "      <th>2022년</th>\n",
       "      <th>2023년</th>\n",
       "    </tr>\n",
       "  </thead>\n",
       "  <tbody>\n",
       "    <tr>\n",
       "      <th>0</th>\n",
       "      <td>서울</td>\n",
       "      <td>NaN</td>\n",
       "      <td>182299</td>\n",
       "      <td>88448</td>\n",
       "      <td>88171</td>\n",
       "      <td>104452</td>\n",
       "      <td>66301</td>\n",
       "      <td>80537</td>\n",
       "      <td>60840</td>\n",
       "      <td>91017</td>\n",
       "      <td>124778</td>\n",
       "      <td>156337</td>\n",
       "      <td>155052</td>\n",
       "      <td>165213</td>\n",
       "      <td>161086</td>\n",
       "      <td>129610</td>\n",
       "      <td>166847</td>\n",
       "      <td>93648</td>\n",
       "      <td>41207</td>\n",
       "      <td>77917</td>\n",
       "    </tr>\n",
       "    <tr>\n",
       "      <th>1</th>\n",
       "      <td>NaN</td>\n",
       "      <td>종로구</td>\n",
       "      <td>1297</td>\n",
       "      <td>953</td>\n",
       "      <td>1517</td>\n",
       "      <td>829</td>\n",
       "      <td>498</td>\n",
       "      <td>680</td>\n",
       "      <td>628</td>\n",
       "      <td>1108</td>\n",
       "      <td>1042</td>\n",
       "      <td>1447</td>\n",
       "      <td>1336</td>\n",
       "      <td>2562</td>\n",
       "      <td>1240</td>\n",
       "      <td>966</td>\n",
       "      <td>1181</td>\n",
       "      <td>838</td>\n",
       "      <td>345</td>\n",
       "      <td>369</td>\n",
       "    </tr>\n",
       "    <tr>\n",
       "      <th>2</th>\n",
       "      <td>NaN</td>\n",
       "      <td>중구</td>\n",
       "      <td>2004</td>\n",
       "      <td>996</td>\n",
       "      <td>824</td>\n",
       "      <td>2045</td>\n",
       "      <td>1696</td>\n",
       "      <td>1274</td>\n",
       "      <td>1689</td>\n",
       "      <td>1085</td>\n",
       "      <td>1711</td>\n",
       "      <td>2483</td>\n",
       "      <td>2493</td>\n",
       "      <td>2257</td>\n",
       "      <td>2107</td>\n",
       "      <td>1400</td>\n",
       "      <td>2134</td>\n",
       "      <td>1654</td>\n",
       "      <td>1096</td>\n",
       "      <td>669</td>\n",
       "    </tr>\n",
       "    <tr>\n",
       "      <th>3</th>\n",
       "      <td>NaN</td>\n",
       "      <td>용산구</td>\n",
       "      <td>3869</td>\n",
       "      <td>2955</td>\n",
       "      <td>1426</td>\n",
       "      <td>2123</td>\n",
       "      <td>1691</td>\n",
       "      <td>1480</td>\n",
       "      <td>945</td>\n",
       "      <td>1574</td>\n",
       "      <td>2373</td>\n",
       "      <td>2810</td>\n",
       "      <td>3960</td>\n",
       "      <td>5022</td>\n",
       "      <td>4557</td>\n",
       "      <td>2119</td>\n",
       "      <td>4103</td>\n",
       "      <td>1744</td>\n",
       "      <td>780</td>\n",
       "      <td>822</td>\n",
       "    </tr>\n",
       "    <tr>\n",
       "      <th>4</th>\n",
       "      <td>NaN</td>\n",
       "      <td>성동구</td>\n",
       "      <td>5994</td>\n",
       "      <td>1889</td>\n",
       "      <td>2328</td>\n",
       "      <td>3730</td>\n",
       "      <td>1785</td>\n",
       "      <td>2615</td>\n",
       "      <td>1726</td>\n",
       "      <td>3020</td>\n",
       "      <td>5271</td>\n",
       "      <td>8479</td>\n",
       "      <td>6814</td>\n",
       "      <td>7036</td>\n",
       "      <td>4740</td>\n",
       "      <td>3883</td>\n",
       "      <td>4906</td>\n",
       "      <td>2632</td>\n",
       "      <td>1724</td>\n",
       "      <td>2948</td>\n",
       "    </tr>\n",
       "  </tbody>\n",
       "</table>\n",
       "</div>"
      ],
      "text/plain": [
       "   지 역 Unnamed: 1   2006년  2007년  2008년   2009년  2010년  2011년  2012년  2013년  \\\n",
       "0   서울        NaN  182299  88448  88171  104452  66301  80537  60840  91017   \n",
       "1  NaN        종로구    1297    953   1517     829    498    680    628   1108   \n",
       "2  NaN         중구    2004    996    824    2045   1696   1274   1689   1085   \n",
       "3  NaN        용산구    3869   2955   1426    2123   1691   1480    945   1574   \n",
       "4  NaN        성동구    5994   1889   2328    3730   1785   2615   1726   3020   \n",
       "\n",
       "    2014년   2015년   2016년   2017년   2018년   2019년   2020년  2021년  2022년  2023년  \n",
       "0  124778  156337  155052  165213  161086  129610  166847  93648  41207  77917  \n",
       "1    1042    1447    1336    2562    1240     966    1181    838    345    369  \n",
       "2    1711    2483    2493    2257    2107    1400    2134   1654   1096    669  \n",
       "3    2373    2810    3960    5022    4557    2119    4103   1744    780    822  \n",
       "4    5271    8479    6814    7036    4740    3883    4906   2632   1724   2948  "
      ]
     },
     "execution_count": 7,
     "metadata": {},
     "output_type": "execute_result"
    }
   ],
   "source": [
    "import pandas as pd\n",
    "\n",
    "volume = pd.read_excel(\"../data/서울_아파트거래량_연도별.xlsx\", engine='openpyxl', header=10)\n",
    "volume.head()"
   ]
  },
  {
   "cell_type": "code",
   "execution_count": 8,
   "metadata": {},
   "outputs": [
    {
     "data": {
      "text/html": [
       "<div>\n",
       "<style scoped>\n",
       "    .dataframe tbody tr th:only-of-type {\n",
       "        vertical-align: middle;\n",
       "    }\n",
       "\n",
       "    .dataframe tbody tr th {\n",
       "        vertical-align: top;\n",
       "    }\n",
       "\n",
       "    .dataframe thead th {\n",
       "        text-align: right;\n",
       "    }\n",
       "</style>\n",
       "<table border=\"1\" class=\"dataframe\">\n",
       "  <thead>\n",
       "    <tr style=\"text-align: right;\">\n",
       "      <th></th>\n",
       "      <th>2011년</th>\n",
       "      <th>2012년</th>\n",
       "      <th>2013년</th>\n",
       "      <th>2014년</th>\n",
       "      <th>2015년</th>\n",
       "      <th>2016년</th>\n",
       "      <th>2017년</th>\n",
       "      <th>2018년</th>\n",
       "      <th>2019년</th>\n",
       "      <th>2020년</th>\n",
       "      <th>2021년</th>\n",
       "      <th>2022년</th>\n",
       "      <th>2023년</th>\n",
       "    </tr>\n",
       "    <tr>\n",
       "      <th>구별</th>\n",
       "      <th></th>\n",
       "      <th></th>\n",
       "      <th></th>\n",
       "      <th></th>\n",
       "      <th></th>\n",
       "      <th></th>\n",
       "      <th></th>\n",
       "      <th></th>\n",
       "      <th></th>\n",
       "      <th></th>\n",
       "      <th></th>\n",
       "      <th></th>\n",
       "      <th></th>\n",
       "    </tr>\n",
       "  </thead>\n",
       "  <tbody>\n",
       "    <tr>\n",
       "      <th>종로구</th>\n",
       "      <td>680</td>\n",
       "      <td>628</td>\n",
       "      <td>1108</td>\n",
       "      <td>1042</td>\n",
       "      <td>1447</td>\n",
       "      <td>1336</td>\n",
       "      <td>2562</td>\n",
       "      <td>1240</td>\n",
       "      <td>966</td>\n",
       "      <td>1181</td>\n",
       "      <td>838</td>\n",
       "      <td>345</td>\n",
       "      <td>369</td>\n",
       "    </tr>\n",
       "    <tr>\n",
       "      <th>중구</th>\n",
       "      <td>1274</td>\n",
       "      <td>1689</td>\n",
       "      <td>1085</td>\n",
       "      <td>1711</td>\n",
       "      <td>2483</td>\n",
       "      <td>2493</td>\n",
       "      <td>2257</td>\n",
       "      <td>2107</td>\n",
       "      <td>1400</td>\n",
       "      <td>2134</td>\n",
       "      <td>1654</td>\n",
       "      <td>1096</td>\n",
       "      <td>669</td>\n",
       "    </tr>\n",
       "    <tr>\n",
       "      <th>용산구</th>\n",
       "      <td>1480</td>\n",
       "      <td>945</td>\n",
       "      <td>1574</td>\n",
       "      <td>2373</td>\n",
       "      <td>2810</td>\n",
       "      <td>3960</td>\n",
       "      <td>5022</td>\n",
       "      <td>4557</td>\n",
       "      <td>2119</td>\n",
       "      <td>4103</td>\n",
       "      <td>1744</td>\n",
       "      <td>780</td>\n",
       "      <td>822</td>\n",
       "    </tr>\n",
       "    <tr>\n",
       "      <th>성동구</th>\n",
       "      <td>2615</td>\n",
       "      <td>1726</td>\n",
       "      <td>3020</td>\n",
       "      <td>5271</td>\n",
       "      <td>8479</td>\n",
       "      <td>6814</td>\n",
       "      <td>7036</td>\n",
       "      <td>4740</td>\n",
       "      <td>3883</td>\n",
       "      <td>4906</td>\n",
       "      <td>2632</td>\n",
       "      <td>1724</td>\n",
       "      <td>2948</td>\n",
       "    </tr>\n",
       "    <tr>\n",
       "      <th>광진구</th>\n",
       "      <td>1615</td>\n",
       "      <td>1369</td>\n",
       "      <td>1338</td>\n",
       "      <td>2258</td>\n",
       "      <td>2535</td>\n",
       "      <td>2630</td>\n",
       "      <td>3049</td>\n",
       "      <td>2560</td>\n",
       "      <td>2957</td>\n",
       "      <td>2886</td>\n",
       "      <td>1266</td>\n",
       "      <td>805</td>\n",
       "      <td>1788</td>\n",
       "    </tr>\n",
       "  </tbody>\n",
       "</table>\n",
       "</div>"
      ],
      "text/plain": [
       "     2011년  2012년  2013년  2014년  2015년  2016년  2017년  2018년  2019년  2020년  \\\n",
       "구별                                                                          \n",
       "종로구    680    628   1108   1042   1447   1336   2562   1240    966   1181   \n",
       "중구    1274   1689   1085   1711   2483   2493   2257   2107   1400   2134   \n",
       "용산구   1480    945   1574   2373   2810   3960   5022   4557   2119   4103   \n",
       "성동구   2615   1726   3020   5271   8479   6814   7036   4740   3883   4906   \n",
       "광진구   1615   1369   1338   2258   2535   2630   3049   2560   2957   2886   \n",
       "\n",
       "     2021년  2022년  2023년  \n",
       "구별                        \n",
       "종로구    838    345    369  \n",
       "중구    1654   1096    669  \n",
       "용산구   1744    780    822  \n",
       "성동구   2632   1724   2948  \n",
       "광진구   1266    805   1788  "
      ]
     },
     "execution_count": 8,
     "metadata": {},
     "output_type": "execute_result"
    }
   ],
   "source": [
    "volume.drop(index=0, inplace=True)\n",
    "volume.drop(columns=['지 역'], inplace=True)\n",
    "volume.drop(columns=volume.columns[1:6], inplace=True)\n",
    "volume.set_index('Unnamed: 1', inplace=True)\n",
    "volume.rename_axis('구별', inplace=True)\n",
    "#volume.rename(columns={'Unnamed: 1' : '연도별'}, inplace=True)\n",
    "#volume.index\n",
    "volume.head()"
   ]
  },
  {
   "cell_type": "code",
   "execution_count": 9,
   "metadata": {},
   "outputs": [
    {
     "data": {
      "text/html": [
       "<div>\n",
       "<style scoped>\n",
       "    .dataframe tbody tr th:only-of-type {\n",
       "        vertical-align: middle;\n",
       "    }\n",
       "\n",
       "    .dataframe tbody tr th {\n",
       "        vertical-align: top;\n",
       "    }\n",
       "\n",
       "    .dataframe thead th {\n",
       "        text-align: right;\n",
       "    }\n",
       "</style>\n",
       "<table border=\"1\" class=\"dataframe\">\n",
       "  <thead>\n",
       "    <tr style=\"text-align: right;\">\n",
       "      <th>구별</th>\n",
       "      <th>종로구</th>\n",
       "      <th>중구</th>\n",
       "      <th>용산구</th>\n",
       "      <th>성동구</th>\n",
       "      <th>광진구</th>\n",
       "      <th>동대문구</th>\n",
       "      <th>중랑구</th>\n",
       "      <th>성북구</th>\n",
       "      <th>강북구</th>\n",
       "      <th>도봉구</th>\n",
       "      <th>...</th>\n",
       "      <th>강서구</th>\n",
       "      <th>구로구</th>\n",
       "      <th>금천구</th>\n",
       "      <th>영등포구</th>\n",
       "      <th>동작구</th>\n",
       "      <th>관악구</th>\n",
       "      <th>서초구</th>\n",
       "      <th>강남구</th>\n",
       "      <th>송파구</th>\n",
       "      <th>강동구</th>\n",
       "    </tr>\n",
       "  </thead>\n",
       "  <tbody>\n",
       "    <tr>\n",
       "      <th>2011년</th>\n",
       "      <td>680</td>\n",
       "      <td>1274</td>\n",
       "      <td>1480</td>\n",
       "      <td>2615</td>\n",
       "      <td>1615</td>\n",
       "      <td>3326</td>\n",
       "      <td>2547</td>\n",
       "      <td>4671</td>\n",
       "      <td>1595</td>\n",
       "      <td>3169</td>\n",
       "      <td>...</td>\n",
       "      <td>4029</td>\n",
       "      <td>5163</td>\n",
       "      <td>1049</td>\n",
       "      <td>2763</td>\n",
       "      <td>3298</td>\n",
       "      <td>2270</td>\n",
       "      <td>3908</td>\n",
       "      <td>5610</td>\n",
       "      <td>5443</td>\n",
       "      <td>4919</td>\n",
       "    </tr>\n",
       "    <tr>\n",
       "      <th>2012년</th>\n",
       "      <td>628</td>\n",
       "      <td>1689</td>\n",
       "      <td>945</td>\n",
       "      <td>1726</td>\n",
       "      <td>1369</td>\n",
       "      <td>2556</td>\n",
       "      <td>2016</td>\n",
       "      <td>2934</td>\n",
       "      <td>1089</td>\n",
       "      <td>2247</td>\n",
       "      <td>...</td>\n",
       "      <td>2536</td>\n",
       "      <td>2725</td>\n",
       "      <td>1006</td>\n",
       "      <td>2746</td>\n",
       "      <td>2782</td>\n",
       "      <td>2052</td>\n",
       "      <td>3538</td>\n",
       "      <td>5026</td>\n",
       "      <td>4648</td>\n",
       "      <td>3357</td>\n",
       "    </tr>\n",
       "    <tr>\n",
       "      <th>2013년</th>\n",
       "      <td>1108</td>\n",
       "      <td>1085</td>\n",
       "      <td>1574</td>\n",
       "      <td>3020</td>\n",
       "      <td>1338</td>\n",
       "      <td>3784</td>\n",
       "      <td>2894</td>\n",
       "      <td>4157</td>\n",
       "      <td>1459</td>\n",
       "      <td>3745</td>\n",
       "      <td>...</td>\n",
       "      <td>4774</td>\n",
       "      <td>3931</td>\n",
       "      <td>1702</td>\n",
       "      <td>3784</td>\n",
       "      <td>3943</td>\n",
       "      <td>2588</td>\n",
       "      <td>5949</td>\n",
       "      <td>6535</td>\n",
       "      <td>10234</td>\n",
       "      <td>4234</td>\n",
       "    </tr>\n",
       "    <tr>\n",
       "      <th>2014년</th>\n",
       "      <td>1042</td>\n",
       "      <td>1711</td>\n",
       "      <td>2373</td>\n",
       "      <td>5271</td>\n",
       "      <td>2258</td>\n",
       "      <td>5573</td>\n",
       "      <td>5370</td>\n",
       "      <td>5299</td>\n",
       "      <td>2022</td>\n",
       "      <td>4011</td>\n",
       "      <td>...</td>\n",
       "      <td>9107</td>\n",
       "      <td>6272</td>\n",
       "      <td>2433</td>\n",
       "      <td>5137</td>\n",
       "      <td>3763</td>\n",
       "      <td>3487</td>\n",
       "      <td>9391</td>\n",
       "      <td>10870</td>\n",
       "      <td>8387</td>\n",
       "      <td>5540</td>\n",
       "    </tr>\n",
       "    <tr>\n",
       "      <th>2015년</th>\n",
       "      <td>1447</td>\n",
       "      <td>2483</td>\n",
       "      <td>2810</td>\n",
       "      <td>8479</td>\n",
       "      <td>2535</td>\n",
       "      <td>6405</td>\n",
       "      <td>4662</td>\n",
       "      <td>7585</td>\n",
       "      <td>2952</td>\n",
       "      <td>5569</td>\n",
       "      <td>...</td>\n",
       "      <td>9902</td>\n",
       "      <td>6928</td>\n",
       "      <td>3348</td>\n",
       "      <td>6709</td>\n",
       "      <td>5824</td>\n",
       "      <td>4621</td>\n",
       "      <td>7744</td>\n",
       "      <td>9765</td>\n",
       "      <td>9783</td>\n",
       "      <td>8052</td>\n",
       "    </tr>\n",
       "  </tbody>\n",
       "</table>\n",
       "<p>5 rows × 25 columns</p>\n",
       "</div>"
      ],
      "text/plain": [
       "구별      종로구    중구   용산구   성동구   광진구  동대문구   중랑구   성북구   강북구   도봉구  ...   강서구  \\\n",
       "2011년   680  1274  1480  2615  1615  3326  2547  4671  1595  3169  ...  4029   \n",
       "2012년   628  1689   945  1726  1369  2556  2016  2934  1089  2247  ...  2536   \n",
       "2013년  1108  1085  1574  3020  1338  3784  2894  4157  1459  3745  ...  4774   \n",
       "2014년  1042  1711  2373  5271  2258  5573  5370  5299  2022  4011  ...  9107   \n",
       "2015년  1447  2483  2810  8479  2535  6405  4662  7585  2952  5569  ...  9902   \n",
       "\n",
       "구별      구로구   금천구  영등포구   동작구   관악구   서초구    강남구    송파구   강동구  \n",
       "2011년  5163  1049  2763  3298  2270  3908   5610   5443  4919  \n",
       "2012년  2725  1006  2746  2782  2052  3538   5026   4648  3357  \n",
       "2013년  3931  1702  3784  3943  2588  5949   6535  10234  4234  \n",
       "2014년  6272  2433  5137  3763  3487  9391  10870   8387  5540  \n",
       "2015년  6928  3348  6709  5824  4621  7744   9765   9783  8052  \n",
       "\n",
       "[5 rows x 25 columns]"
      ]
     },
     "execution_count": 9,
     "metadata": {},
     "output_type": "execute_result"
    }
   ],
   "source": [
    "volume = volume.transpose()\n",
    "volume.to_csv(\"../data/yjs/06_GU_Seoul_Volume_yjs.csv\")\n",
    "volume.head()"
   ]
  },
  {
   "cell_type": "code",
   "execution_count": 11,
   "metadata": {},
   "outputs": [
    {
     "data": {
      "application/vnd.plotly.v1+json": {
       "config": {
        "plotlyServerURL": "https://plot.ly"
       },
       "data": [
        {
         "hovertemplate": "구별=종로구<br>index=%{x}<br>value=%{y}<extra></extra>",
         "legendgroup": "종로구",
         "line": {
          "color": "#636efa",
          "dash": "solid"
         },
         "marker": {
          "symbol": "circle"
         },
         "mode": "lines",
         "name": "종로구",
         "orientation": "v",
         "showlegend": true,
         "type": "scatter",
         "x": [
          "2011년",
          "2012년",
          "2013년",
          "2014년",
          "2015년",
          "2016년",
          "2017년",
          "2018년",
          "2019년",
          "2020년",
          "2021년",
          "2022년",
          "2023년"
         ],
         "xaxis": "x",
         "y": [
          680,
          628,
          1108,
          1042,
          1447,
          1336,
          2562,
          1240,
          966,
          1181,
          838,
          345,
          369
         ],
         "yaxis": "y"
        },
        {
         "hovertemplate": "구별=중구<br>index=%{x}<br>value=%{y}<extra></extra>",
         "legendgroup": "중구",
         "line": {
          "color": "#EF553B",
          "dash": "solid"
         },
         "marker": {
          "symbol": "circle"
         },
         "mode": "lines",
         "name": "중구",
         "orientation": "v",
         "showlegend": true,
         "type": "scatter",
         "x": [
          "2011년",
          "2012년",
          "2013년",
          "2014년",
          "2015년",
          "2016년",
          "2017년",
          "2018년",
          "2019년",
          "2020년",
          "2021년",
          "2022년",
          "2023년"
         ],
         "xaxis": "x",
         "y": [
          1274,
          1689,
          1085,
          1711,
          2483,
          2493,
          2257,
          2107,
          1400,
          2134,
          1654,
          1096,
          669
         ],
         "yaxis": "y"
        },
        {
         "hovertemplate": "구별=용산구<br>index=%{x}<br>value=%{y}<extra></extra>",
         "legendgroup": "용산구",
         "line": {
          "color": "#00cc96",
          "dash": "solid"
         },
         "marker": {
          "symbol": "circle"
         },
         "mode": "lines",
         "name": "용산구",
         "orientation": "v",
         "showlegend": true,
         "type": "scatter",
         "x": [
          "2011년",
          "2012년",
          "2013년",
          "2014년",
          "2015년",
          "2016년",
          "2017년",
          "2018년",
          "2019년",
          "2020년",
          "2021년",
          "2022년",
          "2023년"
         ],
         "xaxis": "x",
         "y": [
          1480,
          945,
          1574,
          2373,
          2810,
          3960,
          5022,
          4557,
          2119,
          4103,
          1744,
          780,
          822
         ],
         "yaxis": "y"
        },
        {
         "hovertemplate": "구별=성동구<br>index=%{x}<br>value=%{y}<extra></extra>",
         "legendgroup": "성동구",
         "line": {
          "color": "#ab63fa",
          "dash": "solid"
         },
         "marker": {
          "symbol": "circle"
         },
         "mode": "lines",
         "name": "성동구",
         "orientation": "v",
         "showlegend": true,
         "type": "scatter",
         "x": [
          "2011년",
          "2012년",
          "2013년",
          "2014년",
          "2015년",
          "2016년",
          "2017년",
          "2018년",
          "2019년",
          "2020년",
          "2021년",
          "2022년",
          "2023년"
         ],
         "xaxis": "x",
         "y": [
          2615,
          1726,
          3020,
          5271,
          8479,
          6814,
          7036,
          4740,
          3883,
          4906,
          2632,
          1724,
          2948
         ],
         "yaxis": "y"
        },
        {
         "hovertemplate": "구별=광진구<br>index=%{x}<br>value=%{y}<extra></extra>",
         "legendgroup": "광진구",
         "line": {
          "color": "#FFA15A",
          "dash": "solid"
         },
         "marker": {
          "symbol": "circle"
         },
         "mode": "lines",
         "name": "광진구",
         "orientation": "v",
         "showlegend": true,
         "type": "scatter",
         "x": [
          "2011년",
          "2012년",
          "2013년",
          "2014년",
          "2015년",
          "2016년",
          "2017년",
          "2018년",
          "2019년",
          "2020년",
          "2021년",
          "2022년",
          "2023년"
         ],
         "xaxis": "x",
         "y": [
          1615,
          1369,
          1338,
          2258,
          2535,
          2630,
          3049,
          2560,
          2957,
          2886,
          1266,
          805,
          1788
         ],
         "yaxis": "y"
        },
        {
         "hovertemplate": "구별=동대문구<br>index=%{x}<br>value=%{y}<extra></extra>",
         "legendgroup": "동대문구",
         "line": {
          "color": "#19d3f3",
          "dash": "solid"
         },
         "marker": {
          "symbol": "circle"
         },
         "mode": "lines",
         "name": "동대문구",
         "orientation": "v",
         "showlegend": true,
         "type": "scatter",
         "x": [
          "2011년",
          "2012년",
          "2013년",
          "2014년",
          "2015년",
          "2016년",
          "2017년",
          "2018년",
          "2019년",
          "2020년",
          "2021년",
          "2022년",
          "2023년"
         ],
         "xaxis": "x",
         "y": [
          3326,
          2556,
          3784,
          5573,
          6405,
          7011,
          5782,
          6096,
          9157,
          6329,
          3213,
          3304,
          9185
         ],
         "yaxis": "y"
        },
        {
         "hovertemplate": "구별=중랑구<br>index=%{x}<br>value=%{y}<extra></extra>",
         "legendgroup": "중랑구",
         "line": {
          "color": "#FF6692",
          "dash": "solid"
         },
         "marker": {
          "symbol": "circle"
         },
         "mode": "lines",
         "name": "중랑구",
         "orientation": "v",
         "showlegend": true,
         "type": "scatter",
         "x": [
          "2011년",
          "2012년",
          "2013년",
          "2014년",
          "2015년",
          "2016년",
          "2017년",
          "2018년",
          "2019년",
          "2020년",
          "2021년",
          "2022년",
          "2023년"
         ],
         "xaxis": "x",
         "y": [
          2547,
          2016,
          2894,
          5370,
          4662,
          4031,
          4820,
          5329,
          3944,
          4128,
          2378,
          1387,
          1783
         ],
         "yaxis": "y"
        },
        {
         "hovertemplate": "구별=성북구<br>index=%{x}<br>value=%{y}<extra></extra>",
         "legendgroup": "성북구",
         "line": {
          "color": "#B6E880",
          "dash": "solid"
         },
         "marker": {
          "symbol": "circle"
         },
         "mode": "lines",
         "name": "성북구",
         "orientation": "v",
         "showlegend": true,
         "type": "scatter",
         "x": [
          "2011년",
          "2012년",
          "2013년",
          "2014년",
          "2015년",
          "2016년",
          "2017년",
          "2018년",
          "2019년",
          "2020년",
          "2021년",
          "2022년",
          "2023년"
         ],
         "xaxis": "x",
         "y": [
          4671,
          2934,
          4157,
          5299,
          7585,
          6471,
          7874,
          9181,
          10024,
          6826,
          4317,
          1887,
          5399
         ],
         "yaxis": "y"
        },
        {
         "hovertemplate": "구별=강북구<br>index=%{x}<br>value=%{y}<extra></extra>",
         "legendgroup": "강북구",
         "line": {
          "color": "#FF97FF",
          "dash": "solid"
         },
         "marker": {
          "symbol": "circle"
         },
         "mode": "lines",
         "name": "강북구",
         "orientation": "v",
         "showlegend": true,
         "type": "scatter",
         "x": [
          "2011년",
          "2012년",
          "2013년",
          "2014년",
          "2015년",
          "2016년",
          "2017년",
          "2018년",
          "2019년",
          "2020년",
          "2021년",
          "2022년",
          "2023년"
         ],
         "xaxis": "x",
         "y": [
          1595,
          1089,
          1459,
          2022,
          2952,
          2225,
          3060,
          2381,
          1493,
          2836,
          1392,
          1895,
          1357
         ],
         "yaxis": "y"
        },
        {
         "hovertemplate": "구별=도봉구<br>index=%{x}<br>value=%{y}<extra></extra>",
         "legendgroup": "도봉구",
         "line": {
          "color": "#FECB52",
          "dash": "solid"
         },
         "marker": {
          "symbol": "circle"
         },
         "mode": "lines",
         "name": "도봉구",
         "orientation": "v",
         "showlegend": true,
         "type": "scatter",
         "x": [
          "2011년",
          "2012년",
          "2013년",
          "2014년",
          "2015년",
          "2016년",
          "2017년",
          "2018년",
          "2019년",
          "2020년",
          "2021년",
          "2022년",
          "2023년"
         ],
         "xaxis": "x",
         "y": [
          3169,
          2247,
          3745,
          4011,
          5569,
          5133,
          4519,
          4806,
          2988,
          5515,
          2736,
          675,
          1288
         ],
         "yaxis": "y"
        },
        {
         "hovertemplate": "구별=노원구<br>index=%{x}<br>value=%{y}<extra></extra>",
         "legendgroup": "노원구",
         "line": {
          "color": "#636efa",
          "dash": "solid"
         },
         "marker": {
          "symbol": "circle"
         },
         "mode": "lines",
         "name": "노원구",
         "orientation": "v",
         "showlegend": true,
         "type": "scatter",
         "x": [
          "2011년",
          "2012년",
          "2013년",
          "2014년",
          "2015년",
          "2016년",
          "2017년",
          "2018년",
          "2019년",
          "2020년",
          "2021년",
          "2022년",
          "2023년"
         ],
         "xaxis": "x",
         "y": [
          6397,
          4841,
          7249,
          9458,
          13017,
          13346,
          12576,
          11480,
          8917,
          13162,
          5682,
          1493,
          2834
         ],
         "yaxis": "y"
        },
        {
         "hovertemplate": "구별=은평구<br>index=%{x}<br>value=%{y}<extra></extra>",
         "legendgroup": "은평구",
         "line": {
          "color": "#EF553B",
          "dash": "solid"
         },
         "marker": {
          "symbol": "circle"
         },
         "mode": "lines",
         "name": "은평구",
         "orientation": "v",
         "showlegend": true,
         "type": "scatter",
         "x": [
          "2011년",
          "2012년",
          "2013년",
          "2014년",
          "2015년",
          "2016년",
          "2017년",
          "2018년",
          "2019년",
          "2020년",
          "2021년",
          "2022년",
          "2023년"
         ],
         "xaxis": "x",
         "y": [
          3242,
          2098,
          2965,
          3382,
          4824,
          5087,
          6279,
          8782,
          6531,
          9233,
          5731,
          1120,
          3582
         ],
         "yaxis": "y"
        },
        {
         "hovertemplate": "구별=서대문구<br>index=%{x}<br>value=%{y}<extra></extra>",
         "legendgroup": "서대문구",
         "line": {
          "color": "#00cc96",
          "dash": "solid"
         },
         "marker": {
          "symbol": "circle"
         },
         "mode": "lines",
         "name": "서대문구",
         "orientation": "v",
         "showlegend": true,
         "type": "scatter",
         "x": [
          "2011년",
          "2012년",
          "2013년",
          "2014년",
          "2015년",
          "2016년",
          "2017년",
          "2018년",
          "2019년",
          "2020년",
          "2021년",
          "2022년",
          "2023년"
         ],
         "xaxis": "x",
         "y": [
          1990,
          1800,
          2260,
          3368,
          6076,
          5651,
          6557,
          6097,
          6214,
          7798,
          2254,
          898,
          2254
         ],
         "yaxis": "y"
        },
        {
         "hovertemplate": "구별=마포구<br>index=%{x}<br>value=%{y}<extra></extra>",
         "legendgroup": "마포구",
         "line": {
          "color": "#ab63fa",
          "dash": "solid"
         },
         "marker": {
          "symbol": "circle"
         },
         "mode": "lines",
         "name": "마포구",
         "orientation": "v",
         "showlegend": true,
         "type": "scatter",
         "x": [
          "2011년",
          "2012년",
          "2013년",
          "2014년",
          "2015년",
          "2016년",
          "2017년",
          "2018년",
          "2019년",
          "2020년",
          "2021년",
          "2022년",
          "2023년"
         ],
         "xaxis": "x",
         "y": [
          3471,
          2048,
          3345,
          4790,
          7601,
          6248,
          5804,
          7208,
          4223,
          7014,
          2629,
          1509,
          1981
         ],
         "yaxis": "y"
        },
        {
         "hovertemplate": "구별=양천구<br>index=%{x}<br>value=%{y}<extra></extra>",
         "legendgroup": "양천구",
         "line": {
          "color": "#FFA15A",
          "dash": "solid"
         },
         "marker": {
          "symbol": "circle"
         },
         "mode": "lines",
         "name": "양천구",
         "orientation": "v",
         "showlegend": true,
         "type": "scatter",
         "x": [
          "2011년",
          "2012년",
          "2013년",
          "2014년",
          "2015년",
          "2016년",
          "2017년",
          "2018년",
          "2019년",
          "2020년",
          "2021년",
          "2022년",
          "2023년"
         ],
         "xaxis": "x",
         "y": [
          4013,
          2438,
          3360,
          4463,
          7216,
          7545,
          5510,
          6393,
          5348,
          7075,
          2805,
          824,
          1727
         ],
         "yaxis": "y"
        },
        {
         "hovertemplate": "구별=강서구<br>index=%{x}<br>value=%{y}<extra></extra>",
         "legendgroup": "강서구",
         "line": {
          "color": "#19d3f3",
          "dash": "solid"
         },
         "marker": {
          "symbol": "circle"
         },
         "mode": "lines",
         "name": "강서구",
         "orientation": "v",
         "showlegend": true,
         "type": "scatter",
         "x": [
          "2011년",
          "2012년",
          "2013년",
          "2014년",
          "2015년",
          "2016년",
          "2017년",
          "2018년",
          "2019년",
          "2020년",
          "2021년",
          "2022년",
          "2023년"
         ],
         "xaxis": "x",
         "y": [
          4029,
          2536,
          4774,
          9107,
          9902,
          9766,
          8270,
          6676,
          4524,
          9083,
          4365,
          1729,
          2182
         ],
         "yaxis": "y"
        },
        {
         "hovertemplate": "구별=구로구<br>index=%{x}<br>value=%{y}<extra></extra>",
         "legendgroup": "구로구",
         "line": {
          "color": "#FF6692",
          "dash": "solid"
         },
         "marker": {
          "symbol": "circle"
         },
         "mode": "lines",
         "name": "구로구",
         "orientation": "v",
         "showlegend": true,
         "type": "scatter",
         "x": [
          "2011년",
          "2012년",
          "2013년",
          "2014년",
          "2015년",
          "2016년",
          "2017년",
          "2018년",
          "2019년",
          "2020년",
          "2021년",
          "2022년",
          "2023년"
         ],
         "xaxis": "x",
         "y": [
          5163,
          2725,
          3931,
          6272,
          6928,
          6884,
          6351,
          7483,
          5164,
          6271,
          3521,
          1567,
          1951
         ],
         "yaxis": "y"
        },
        {
         "hovertemplate": "구별=금천구<br>index=%{x}<br>value=%{y}<extra></extra>",
         "legendgroup": "금천구",
         "line": {
          "color": "#B6E880",
          "dash": "solid"
         },
         "marker": {
          "symbol": "circle"
         },
         "mode": "lines",
         "name": "금천구",
         "orientation": "v",
         "showlegend": true,
         "type": "scatter",
         "x": [
          "2011년",
          "2012년",
          "2013년",
          "2014년",
          "2015년",
          "2016년",
          "2017년",
          "2018년",
          "2019년",
          "2020년",
          "2021년",
          "2022년",
          "2023년"
         ],
         "xaxis": "x",
         "y": [
          1049,
          1006,
          1702,
          2433,
          3348,
          2999,
          3810,
          4327,
          2158,
          3143,
          2369,
          731,
          622
         ],
         "yaxis": "y"
        },
        {
         "hovertemplate": "구별=영등포구<br>index=%{x}<br>value=%{y}<extra></extra>",
         "legendgroup": "영등포구",
         "line": {
          "color": "#FF97FF",
          "dash": "solid"
         },
         "marker": {
          "symbol": "circle"
         },
         "mode": "lines",
         "name": "영등포구",
         "orientation": "v",
         "showlegend": true,
         "type": "scatter",
         "x": [
          "2011년",
          "2012년",
          "2013년",
          "2014년",
          "2015년",
          "2016년",
          "2017년",
          "2018년",
          "2019년",
          "2020년",
          "2021년",
          "2022년",
          "2023년"
         ],
         "xaxis": "x",
         "y": [
          2763,
          2746,
          3784,
          5137,
          6709,
          6499,
          8860,
          10770,
          4863,
          7876,
          3835,
          1595,
          3272
         ],
         "yaxis": "y"
        },
        {
         "hovertemplate": "구별=동작구<br>index=%{x}<br>value=%{y}<extra></extra>",
         "legendgroup": "동작구",
         "line": {
          "color": "#FECB52",
          "dash": "solid"
         },
         "marker": {
          "symbol": "circle"
         },
         "mode": "lines",
         "name": "동작구",
         "orientation": "v",
         "showlegend": true,
         "type": "scatter",
         "x": [
          "2011년",
          "2012년",
          "2013년",
          "2014년",
          "2015년",
          "2016년",
          "2017년",
          "2018년",
          "2019년",
          "2020년",
          "2021년",
          "2022년",
          "2023년"
         ],
         "xaxis": "x",
         "y": [
          3298,
          2782,
          3943,
          3763,
          5824,
          6060,
          6014,
          6449,
          4383,
          6694,
          2602,
          2751,
          2184
         ],
         "yaxis": "y"
        },
        {
         "hovertemplate": "구별=관악구<br>index=%{x}<br>value=%{y}<extra></extra>",
         "legendgroup": "관악구",
         "line": {
          "color": "#636efa",
          "dash": "solid"
         },
         "marker": {
          "symbol": "circle"
         },
         "mode": "lines",
         "name": "관악구",
         "orientation": "v",
         "showlegend": true,
         "type": "scatter",
         "x": [
          "2011년",
          "2012년",
          "2013년",
          "2014년",
          "2015년",
          "2016년",
          "2017년",
          "2018년",
          "2019년",
          "2020년",
          "2021년",
          "2022년",
          "2023년"
         ],
         "xaxis": "x",
         "y": [
          2270,
          2052,
          2588,
          3487,
          4621,
          3702,
          4355,
          3729,
          3342,
          4934,
          2284,
          1583,
          1950
         ],
         "yaxis": "y"
        },
        {
         "hovertemplate": "구별=서초구<br>index=%{x}<br>value=%{y}<extra></extra>",
         "legendgroup": "서초구",
         "line": {
          "color": "#EF553B",
          "dash": "solid"
         },
         "marker": {
          "symbol": "circle"
         },
         "mode": "lines",
         "name": "서초구",
         "orientation": "v",
         "showlegend": true,
         "type": "scatter",
         "x": [
          "2011년",
          "2012년",
          "2013년",
          "2014년",
          "2015년",
          "2016년",
          "2017년",
          "2018년",
          "2019년",
          "2020년",
          "2021년",
          "2022년",
          "2023년"
         ],
         "xaxis": "x",
         "y": [
          3908,
          3538,
          5949,
          9391,
          7744,
          7869,
          8191,
          8862,
          7944,
          7461,
          7533,
          2600,
          2978
         ],
         "yaxis": "y"
        },
        {
         "hovertemplate": "구별=강남구<br>index=%{x}<br>value=%{y}<extra></extra>",
         "legendgroup": "강남구",
         "line": {
          "color": "#00cc96",
          "dash": "solid"
         },
         "marker": {
          "symbol": "circle"
         },
         "mode": "lines",
         "name": "강남구",
         "orientation": "v",
         "showlegend": true,
         "type": "scatter",
         "x": [
          "2011년",
          "2012년",
          "2013년",
          "2014년",
          "2015년",
          "2016년",
          "2017년",
          "2018년",
          "2019년",
          "2020년",
          "2021년",
          "2022년",
          "2023년"
         ],
         "xaxis": "x",
         "y": [
          5610,
          5026,
          6535,
          10870,
          9765,
          9531,
          9157,
          11545,
          7652,
          13525,
          11533,
          4335,
          3443
         ],
         "yaxis": "y"
        },
        {
         "hovertemplate": "구별=송파구<br>index=%{x}<br>value=%{y}<extra></extra>",
         "legendgroup": "송파구",
         "line": {
          "color": "#ab63fa",
          "dash": "solid"
         },
         "marker": {
          "symbol": "circle"
         },
         "mode": "lines",
         "name": "송파구",
         "orientation": "v",
         "showlegend": true,
         "type": "scatter",
         "x": [
          "2011년",
          "2012년",
          "2013년",
          "2014년",
          "2015년",
          "2016년",
          "2017년",
          "2018년",
          "2019년",
          "2020년",
          "2021년",
          "2022년",
          "2023년"
         ],
         "xaxis": "x",
         "y": [
          5443,
          4648,
          10234,
          8387,
          9783,
          12757,
          12076,
          9457,
          11350,
          10934,
          8021,
          1845,
          3313
         ],
         "yaxis": "y"
        },
        {
         "hovertemplate": "구별=강동구<br>index=%{x}<br>value=%{y}<extra></extra>",
         "legendgroup": "강동구",
         "line": {
          "color": "#FFA15A",
          "dash": "solid"
         },
         "marker": {
          "symbol": "circle"
         },
         "mode": "lines",
         "name": "강동구",
         "orientation": "v",
         "showlegend": true,
         "type": "scatter",
         "x": [
          "2011년",
          "2012년",
          "2013년",
          "2014년",
          "2015년",
          "2016년",
          "2017년",
          "2018년",
          "2019년",
          "2020년",
          "2021년",
          "2022년",
          "2023년"
         ],
         "xaxis": "x",
         "y": [
          4919,
          3357,
          4234,
          5540,
          8052,
          9004,
          15422,
          8831,
          8066,
          11800,
          6314,
          2729,
          18036
         ],
         "yaxis": "y"
        }
       ],
       "layout": {
        "legend": {
         "title": {
          "text": "구별"
         },
         "tracegroupgap": 0
        },
        "margin": {
         "t": 60
        },
        "template": {
         "data": {
          "bar": [
           {
            "error_x": {
             "color": "#2a3f5f"
            },
            "error_y": {
             "color": "#2a3f5f"
            },
            "marker": {
             "line": {
              "color": "#E5ECF6",
              "width": 0.5
             },
             "pattern": {
              "fillmode": "overlay",
              "size": 10,
              "solidity": 0.2
             }
            },
            "type": "bar"
           }
          ],
          "barpolar": [
           {
            "marker": {
             "line": {
              "color": "#E5ECF6",
              "width": 0.5
             },
             "pattern": {
              "fillmode": "overlay",
              "size": 10,
              "solidity": 0.2
             }
            },
            "type": "barpolar"
           }
          ],
          "carpet": [
           {
            "aaxis": {
             "endlinecolor": "#2a3f5f",
             "gridcolor": "white",
             "linecolor": "white",
             "minorgridcolor": "white",
             "startlinecolor": "#2a3f5f"
            },
            "baxis": {
             "endlinecolor": "#2a3f5f",
             "gridcolor": "white",
             "linecolor": "white",
             "minorgridcolor": "white",
             "startlinecolor": "#2a3f5f"
            },
            "type": "carpet"
           }
          ],
          "choropleth": [
           {
            "colorbar": {
             "outlinewidth": 0,
             "ticks": ""
            },
            "type": "choropleth"
           }
          ],
          "contour": [
           {
            "colorbar": {
             "outlinewidth": 0,
             "ticks": ""
            },
            "colorscale": [
             [
              0,
              "#0d0887"
             ],
             [
              0.1111111111111111,
              "#46039f"
             ],
             [
              0.2222222222222222,
              "#7201a8"
             ],
             [
              0.3333333333333333,
              "#9c179e"
             ],
             [
              0.4444444444444444,
              "#bd3786"
             ],
             [
              0.5555555555555556,
              "#d8576b"
             ],
             [
              0.6666666666666666,
              "#ed7953"
             ],
             [
              0.7777777777777778,
              "#fb9f3a"
             ],
             [
              0.8888888888888888,
              "#fdca26"
             ],
             [
              1,
              "#f0f921"
             ]
            ],
            "type": "contour"
           }
          ],
          "contourcarpet": [
           {
            "colorbar": {
             "outlinewidth": 0,
             "ticks": ""
            },
            "type": "contourcarpet"
           }
          ],
          "heatmap": [
           {
            "colorbar": {
             "outlinewidth": 0,
             "ticks": ""
            },
            "colorscale": [
             [
              0,
              "#0d0887"
             ],
             [
              0.1111111111111111,
              "#46039f"
             ],
             [
              0.2222222222222222,
              "#7201a8"
             ],
             [
              0.3333333333333333,
              "#9c179e"
             ],
             [
              0.4444444444444444,
              "#bd3786"
             ],
             [
              0.5555555555555556,
              "#d8576b"
             ],
             [
              0.6666666666666666,
              "#ed7953"
             ],
             [
              0.7777777777777778,
              "#fb9f3a"
             ],
             [
              0.8888888888888888,
              "#fdca26"
             ],
             [
              1,
              "#f0f921"
             ]
            ],
            "type": "heatmap"
           }
          ],
          "heatmapgl": [
           {
            "colorbar": {
             "outlinewidth": 0,
             "ticks": ""
            },
            "colorscale": [
             [
              0,
              "#0d0887"
             ],
             [
              0.1111111111111111,
              "#46039f"
             ],
             [
              0.2222222222222222,
              "#7201a8"
             ],
             [
              0.3333333333333333,
              "#9c179e"
             ],
             [
              0.4444444444444444,
              "#bd3786"
             ],
             [
              0.5555555555555556,
              "#d8576b"
             ],
             [
              0.6666666666666666,
              "#ed7953"
             ],
             [
              0.7777777777777778,
              "#fb9f3a"
             ],
             [
              0.8888888888888888,
              "#fdca26"
             ],
             [
              1,
              "#f0f921"
             ]
            ],
            "type": "heatmapgl"
           }
          ],
          "histogram": [
           {
            "marker": {
             "pattern": {
              "fillmode": "overlay",
              "size": 10,
              "solidity": 0.2
             }
            },
            "type": "histogram"
           }
          ],
          "histogram2d": [
           {
            "colorbar": {
             "outlinewidth": 0,
             "ticks": ""
            },
            "colorscale": [
             [
              0,
              "#0d0887"
             ],
             [
              0.1111111111111111,
              "#46039f"
             ],
             [
              0.2222222222222222,
              "#7201a8"
             ],
             [
              0.3333333333333333,
              "#9c179e"
             ],
             [
              0.4444444444444444,
              "#bd3786"
             ],
             [
              0.5555555555555556,
              "#d8576b"
             ],
             [
              0.6666666666666666,
              "#ed7953"
             ],
             [
              0.7777777777777778,
              "#fb9f3a"
             ],
             [
              0.8888888888888888,
              "#fdca26"
             ],
             [
              1,
              "#f0f921"
             ]
            ],
            "type": "histogram2d"
           }
          ],
          "histogram2dcontour": [
           {
            "colorbar": {
             "outlinewidth": 0,
             "ticks": ""
            },
            "colorscale": [
             [
              0,
              "#0d0887"
             ],
             [
              0.1111111111111111,
              "#46039f"
             ],
             [
              0.2222222222222222,
              "#7201a8"
             ],
             [
              0.3333333333333333,
              "#9c179e"
             ],
             [
              0.4444444444444444,
              "#bd3786"
             ],
             [
              0.5555555555555556,
              "#d8576b"
             ],
             [
              0.6666666666666666,
              "#ed7953"
             ],
             [
              0.7777777777777778,
              "#fb9f3a"
             ],
             [
              0.8888888888888888,
              "#fdca26"
             ],
             [
              1,
              "#f0f921"
             ]
            ],
            "type": "histogram2dcontour"
           }
          ],
          "mesh3d": [
           {
            "colorbar": {
             "outlinewidth": 0,
             "ticks": ""
            },
            "type": "mesh3d"
           }
          ],
          "parcoords": [
           {
            "line": {
             "colorbar": {
              "outlinewidth": 0,
              "ticks": ""
             }
            },
            "type": "parcoords"
           }
          ],
          "pie": [
           {
            "automargin": true,
            "type": "pie"
           }
          ],
          "scatter": [
           {
            "fillpattern": {
             "fillmode": "overlay",
             "size": 10,
             "solidity": 0.2
            },
            "type": "scatter"
           }
          ],
          "scatter3d": [
           {
            "line": {
             "colorbar": {
              "outlinewidth": 0,
              "ticks": ""
             }
            },
            "marker": {
             "colorbar": {
              "outlinewidth": 0,
              "ticks": ""
             }
            },
            "type": "scatter3d"
           }
          ],
          "scattercarpet": [
           {
            "marker": {
             "colorbar": {
              "outlinewidth": 0,
              "ticks": ""
             }
            },
            "type": "scattercarpet"
           }
          ],
          "scattergeo": [
           {
            "marker": {
             "colorbar": {
              "outlinewidth": 0,
              "ticks": ""
             }
            },
            "type": "scattergeo"
           }
          ],
          "scattergl": [
           {
            "marker": {
             "colorbar": {
              "outlinewidth": 0,
              "ticks": ""
             }
            },
            "type": "scattergl"
           }
          ],
          "scattermapbox": [
           {
            "marker": {
             "colorbar": {
              "outlinewidth": 0,
              "ticks": ""
             }
            },
            "type": "scattermapbox"
           }
          ],
          "scatterpolar": [
           {
            "marker": {
             "colorbar": {
              "outlinewidth": 0,
              "ticks": ""
             }
            },
            "type": "scatterpolar"
           }
          ],
          "scatterpolargl": [
           {
            "marker": {
             "colorbar": {
              "outlinewidth": 0,
              "ticks": ""
             }
            },
            "type": "scatterpolargl"
           }
          ],
          "scatterternary": [
           {
            "marker": {
             "colorbar": {
              "outlinewidth": 0,
              "ticks": ""
             }
            },
            "type": "scatterternary"
           }
          ],
          "surface": [
           {
            "colorbar": {
             "outlinewidth": 0,
             "ticks": ""
            },
            "colorscale": [
             [
              0,
              "#0d0887"
             ],
             [
              0.1111111111111111,
              "#46039f"
             ],
             [
              0.2222222222222222,
              "#7201a8"
             ],
             [
              0.3333333333333333,
              "#9c179e"
             ],
             [
              0.4444444444444444,
              "#bd3786"
             ],
             [
              0.5555555555555556,
              "#d8576b"
             ],
             [
              0.6666666666666666,
              "#ed7953"
             ],
             [
              0.7777777777777778,
              "#fb9f3a"
             ],
             [
              0.8888888888888888,
              "#fdca26"
             ],
             [
              1,
              "#f0f921"
             ]
            ],
            "type": "surface"
           }
          ],
          "table": [
           {
            "cells": {
             "fill": {
              "color": "#EBF0F8"
             },
             "line": {
              "color": "white"
             }
            },
            "header": {
             "fill": {
              "color": "#C8D4E3"
             },
             "line": {
              "color": "white"
             }
            },
            "type": "table"
           }
          ]
         },
         "layout": {
          "annotationdefaults": {
           "arrowcolor": "#2a3f5f",
           "arrowhead": 0,
           "arrowwidth": 1
          },
          "autotypenumbers": "strict",
          "coloraxis": {
           "colorbar": {
            "outlinewidth": 0,
            "ticks": ""
           }
          },
          "colorscale": {
           "diverging": [
            [
             0,
             "#8e0152"
            ],
            [
             0.1,
             "#c51b7d"
            ],
            [
             0.2,
             "#de77ae"
            ],
            [
             0.3,
             "#f1b6da"
            ],
            [
             0.4,
             "#fde0ef"
            ],
            [
             0.5,
             "#f7f7f7"
            ],
            [
             0.6,
             "#e6f5d0"
            ],
            [
             0.7,
             "#b8e186"
            ],
            [
             0.8,
             "#7fbc41"
            ],
            [
             0.9,
             "#4d9221"
            ],
            [
             1,
             "#276419"
            ]
           ],
           "sequential": [
            [
             0,
             "#0d0887"
            ],
            [
             0.1111111111111111,
             "#46039f"
            ],
            [
             0.2222222222222222,
             "#7201a8"
            ],
            [
             0.3333333333333333,
             "#9c179e"
            ],
            [
             0.4444444444444444,
             "#bd3786"
            ],
            [
             0.5555555555555556,
             "#d8576b"
            ],
            [
             0.6666666666666666,
             "#ed7953"
            ],
            [
             0.7777777777777778,
             "#fb9f3a"
            ],
            [
             0.8888888888888888,
             "#fdca26"
            ],
            [
             1,
             "#f0f921"
            ]
           ],
           "sequentialminus": [
            [
             0,
             "#0d0887"
            ],
            [
             0.1111111111111111,
             "#46039f"
            ],
            [
             0.2222222222222222,
             "#7201a8"
            ],
            [
             0.3333333333333333,
             "#9c179e"
            ],
            [
             0.4444444444444444,
             "#bd3786"
            ],
            [
             0.5555555555555556,
             "#d8576b"
            ],
            [
             0.6666666666666666,
             "#ed7953"
            ],
            [
             0.7777777777777778,
             "#fb9f3a"
            ],
            [
             0.8888888888888888,
             "#fdca26"
            ],
            [
             1,
             "#f0f921"
            ]
           ]
          },
          "colorway": [
           "#636efa",
           "#EF553B",
           "#00cc96",
           "#ab63fa",
           "#FFA15A",
           "#19d3f3",
           "#FF6692",
           "#B6E880",
           "#FF97FF",
           "#FECB52"
          ],
          "font": {
           "color": "#2a3f5f"
          },
          "geo": {
           "bgcolor": "white",
           "lakecolor": "white",
           "landcolor": "#E5ECF6",
           "showlakes": true,
           "showland": true,
           "subunitcolor": "white"
          },
          "hoverlabel": {
           "align": "left"
          },
          "hovermode": "closest",
          "mapbox": {
           "style": "light"
          },
          "paper_bgcolor": "white",
          "plot_bgcolor": "#E5ECF6",
          "polar": {
           "angularaxis": {
            "gridcolor": "white",
            "linecolor": "white",
            "ticks": ""
           },
           "bgcolor": "#E5ECF6",
           "radialaxis": {
            "gridcolor": "white",
            "linecolor": "white",
            "ticks": ""
           }
          },
          "scene": {
           "xaxis": {
            "backgroundcolor": "#E5ECF6",
            "gridcolor": "white",
            "gridwidth": 2,
            "linecolor": "white",
            "showbackground": true,
            "ticks": "",
            "zerolinecolor": "white"
           },
           "yaxis": {
            "backgroundcolor": "#E5ECF6",
            "gridcolor": "white",
            "gridwidth": 2,
            "linecolor": "white",
            "showbackground": true,
            "ticks": "",
            "zerolinecolor": "white"
           },
           "zaxis": {
            "backgroundcolor": "#E5ECF6",
            "gridcolor": "white",
            "gridwidth": 2,
            "linecolor": "white",
            "showbackground": true,
            "ticks": "",
            "zerolinecolor": "white"
           }
          },
          "shapedefaults": {
           "line": {
            "color": "#2a3f5f"
           }
          },
          "ternary": {
           "aaxis": {
            "gridcolor": "white",
            "linecolor": "white",
            "ticks": ""
           },
           "baxis": {
            "gridcolor": "white",
            "linecolor": "white",
            "ticks": ""
           },
           "bgcolor": "#E5ECF6",
           "caxis": {
            "gridcolor": "white",
            "linecolor": "white",
            "ticks": ""
           }
          },
          "title": {
           "x": 0.05
          },
          "xaxis": {
           "automargin": true,
           "gridcolor": "white",
           "linecolor": "white",
           "ticks": "",
           "title": {
            "standoff": 15
           },
           "zerolinecolor": "white",
           "zerolinewidth": 2
          },
          "yaxis": {
           "automargin": true,
           "gridcolor": "white",
           "linecolor": "white",
           "ticks": "",
           "title": {
            "standoff": 15
           },
           "zerolinecolor": "white",
           "zerolinewidth": 2
          }
         }
        },
        "xaxis": {
         "anchor": "y",
         "domain": [
          0,
          1
         ],
         "title": {
          "text": "index"
         }
        },
        "yaxis": {
         "anchor": "x",
         "domain": [
          0,
          1
         ],
         "title": {
          "text": "value"
         }
        }
       }
      }
     },
     "metadata": {},
     "output_type": "display_data"
    }
   ],
   "source": [
    "import plotly.express as px\n",
    "\n",
    "px.line(volume)\n",
    "#plt.ylabel('거래량')"
   ]
  },
  {
   "cell_type": "code",
   "execution_count": 12,
   "metadata": {},
   "outputs": [
    {
     "data": {
      "text/html": [
       "<div>\n",
       "<style scoped>\n",
       "    .dataframe tbody tr th:only-of-type {\n",
       "        vertical-align: middle;\n",
       "    }\n",
       "\n",
       "    .dataframe tbody tr th {\n",
       "        vertical-align: top;\n",
       "    }\n",
       "\n",
       "    .dataframe thead th {\n",
       "        text-align: right;\n",
       "    }\n",
       "</style>\n",
       "<table border=\"1\" class=\"dataframe\">\n",
       "  <thead>\n",
       "    <tr style=\"text-align: right;\">\n",
       "      <th></th>\n",
       "      <th>매매가</th>\n",
       "      <th>거래량</th>\n",
       "    </tr>\n",
       "  </thead>\n",
       "  <tbody>\n",
       "    <tr>\n",
       "      <th>2011년</th>\n",
       "      <td>27568.325564</td>\n",
       "      <td>6397</td>\n",
       "    </tr>\n",
       "    <tr>\n",
       "      <th>2012년</th>\n",
       "      <td>25179.003724</td>\n",
       "      <td>4841</td>\n",
       "    </tr>\n",
       "    <tr>\n",
       "      <th>2013년</th>\n",
       "      <td>26367.272610</td>\n",
       "      <td>7249</td>\n",
       "    </tr>\n",
       "    <tr>\n",
       "      <th>2014년</th>\n",
       "      <td>27097.861055</td>\n",
       "      <td>9458</td>\n",
       "    </tr>\n",
       "    <tr>\n",
       "      <th>2015년</th>\n",
       "      <td>28689.521806</td>\n",
       "      <td>13017</td>\n",
       "    </tr>\n",
       "    <tr>\n",
       "      <th>2016년</th>\n",
       "      <td>31041.986214</td>\n",
       "      <td>13346</td>\n",
       "    </tr>\n",
       "    <tr>\n",
       "      <th>2017년</th>\n",
       "      <td>34202.898344</td>\n",
       "      <td>12576</td>\n",
       "    </tr>\n",
       "    <tr>\n",
       "      <th>2018년</th>\n",
       "      <td>38807.882943</td>\n",
       "      <td>11480</td>\n",
       "    </tr>\n",
       "    <tr>\n",
       "      <th>2019년</th>\n",
       "      <td>43256.025024</td>\n",
       "      <td>8917</td>\n",
       "    </tr>\n",
       "    <tr>\n",
       "      <th>2020년</th>\n",
       "      <td>52201.001323</td>\n",
       "      <td>13162</td>\n",
       "    </tr>\n",
       "    <tr>\n",
       "      <th>2021년</th>\n",
       "      <td>67273.907743</td>\n",
       "      <td>5682</td>\n",
       "    </tr>\n",
       "    <tr>\n",
       "      <th>2022년</th>\n",
       "      <td>65201.852974</td>\n",
       "      <td>1493</td>\n",
       "    </tr>\n",
       "    <tr>\n",
       "      <th>2023년</th>\n",
       "      <td>59664.615704</td>\n",
       "      <td>2834</td>\n",
       "    </tr>\n",
       "  </tbody>\n",
       "</table>\n",
       "</div>"
      ],
      "text/plain": [
       "                매매가    거래량\n",
       "2011년  27568.325564   6397\n",
       "2012년  25179.003724   4841\n",
       "2013년  26367.272610   7249\n",
       "2014년  27097.861055   9458\n",
       "2015년  28689.521806  13017\n",
       "2016년  31041.986214  13346\n",
       "2017년  34202.898344  12576\n",
       "2018년  38807.882943  11480\n",
       "2019년  43256.025024   8917\n",
       "2020년  52201.001323  13162\n",
       "2021년  67273.907743   5682\n",
       "2022년  65201.852974   1493\n",
       "2023년  59664.615704   2834"
      ]
     },
     "execution_count": 12,
     "metadata": {},
     "output_type": "execute_result"
    }
   ],
   "source": [
    "df_nowon = pd.concat([merge_tps['노원구'], volume['노원구']], axis=1, keys=['매매가','거래량'])\n",
    "df_nowon.to_csv(\"../data/yjs/07_GU_Nowon_Volume_yjs.csv\")\n",
    "df_nowon"
   ]
  },
  {
   "cell_type": "code",
   "execution_count": 13,
   "metadata": {},
   "outputs": [
    {
     "data": {
      "text/html": [
       "<div>\n",
       "<style scoped>\n",
       "    .dataframe tbody tr th:only-of-type {\n",
       "        vertical-align: middle;\n",
       "    }\n",
       "\n",
       "    .dataframe tbody tr th {\n",
       "        vertical-align: top;\n",
       "    }\n",
       "\n",
       "    .dataframe thead th {\n",
       "        text-align: right;\n",
       "    }\n",
       "</style>\n",
       "<table border=\"1\" class=\"dataframe\">\n",
       "  <thead>\n",
       "    <tr style=\"text-align: right;\">\n",
       "      <th></th>\n",
       "      <th>매매가</th>\n",
       "      <th>거래량</th>\n",
       "    </tr>\n",
       "  </thead>\n",
       "  <tbody>\n",
       "    <tr>\n",
       "      <th>2011년</th>\n",
       "      <td>46480.565401</td>\n",
       "      <td>680</td>\n",
       "    </tr>\n",
       "    <tr>\n",
       "      <th>2012년</th>\n",
       "      <td>51728.917275</td>\n",
       "      <td>628</td>\n",
       "    </tr>\n",
       "    <tr>\n",
       "      <th>2013년</th>\n",
       "      <td>49679.541744</td>\n",
       "      <td>1108</td>\n",
       "    </tr>\n",
       "    <tr>\n",
       "      <th>2014년</th>\n",
       "      <td>45113.061224</td>\n",
       "      <td>1042</td>\n",
       "    </tr>\n",
       "    <tr>\n",
       "      <th>2015년</th>\n",
       "      <td>48893.827381</td>\n",
       "      <td>1447</td>\n",
       "    </tr>\n",
       "    <tr>\n",
       "      <th>2016년</th>\n",
       "      <td>54521.529483</td>\n",
       "      <td>1336</td>\n",
       "    </tr>\n",
       "    <tr>\n",
       "      <th>2017년</th>\n",
       "      <td>56530.076074</td>\n",
       "      <td>2562</td>\n",
       "    </tr>\n",
       "    <tr>\n",
       "      <th>2018년</th>\n",
       "      <td>61515.447514</td>\n",
       "      <td>1240</td>\n",
       "    </tr>\n",
       "    <tr>\n",
       "      <th>2019년</th>\n",
       "      <td>84162.771084</td>\n",
       "      <td>966</td>\n",
       "    </tr>\n",
       "    <tr>\n",
       "      <th>2020년</th>\n",
       "      <td>80060.838346</td>\n",
       "      <td>1181</td>\n",
       "    </tr>\n",
       "    <tr>\n",
       "      <th>2021년</th>\n",
       "      <td>92944.505495</td>\n",
       "      <td>838</td>\n",
       "    </tr>\n",
       "    <tr>\n",
       "      <th>2022년</th>\n",
       "      <td>68235.912791</td>\n",
       "      <td>345</td>\n",
       "    </tr>\n",
       "    <tr>\n",
       "      <th>2023년</th>\n",
       "      <td>110457.572816</td>\n",
       "      <td>369</td>\n",
       "    </tr>\n",
       "  </tbody>\n",
       "</table>\n",
       "</div>"
      ],
      "text/plain": [
       "                 매매가   거래량\n",
       "2011년   46480.565401   680\n",
       "2012년   51728.917275   628\n",
       "2013년   49679.541744  1108\n",
       "2014년   45113.061224  1042\n",
       "2015년   48893.827381  1447\n",
       "2016년   54521.529483  1336\n",
       "2017년   56530.076074  2562\n",
       "2018년   61515.447514  1240\n",
       "2019년   84162.771084   966\n",
       "2020년   80060.838346  1181\n",
       "2021년   92944.505495   838\n",
       "2022년   68235.912791   345\n",
       "2023년  110457.572816   369"
      ]
     },
     "execution_count": 13,
     "metadata": {},
     "output_type": "execute_result"
    }
   ],
   "source": [
    "df_jongro = pd.concat([merge_tps['종로구'], volume['종로구']], axis=1, keys=['매매가','거래량'])\n",
    "df_jongro.to_csv(\"../data/yjs/08_GU_Jongro_Volume_yjs.csv\")\n",
    "df_jongro"
   ]
  },
  {
   "cell_type": "code",
   "execution_count": 14,
   "metadata": {},
   "outputs": [
    {
     "data": {
      "text/plain": [
       "Text(0, 0.5, '종로 거래량')"
      ]
     },
     "execution_count": 14,
     "metadata": {},
     "output_type": "execute_result"
    },
    {
     "data": {
      "image/png": "[encoded data removed]",
      "text/plain": [
       "<Figure size 1000x1000 with 4 Axes>"
      ]
     },
     "metadata": {},
     "output_type": "display_data"
    }
   ],
   "source": [
    "fig, axs = plt.subplots(4,1,figsize=(10,10))\n",
    "#axs2 = axs.twinx()\n",
    "\n",
    "#color = 'tab:red'\n",
    "axs[0].plot(df_nowon.index, df_nowon['매매가'])\n",
    "axs[0].set_ylabel('노원 매매가')\n",
    "\n",
    "axs[1].plot(df_nowon.index, df_nowon['거래량'],color='tab:red')\n",
    "axs[1].set_ylabel('노원 거래량')\n",
    "#axs2[0].plot(df_nowon.index, df_nowon['거래량'])\n",
    "\n",
    "axs[2].plot(df_jongro.index, df_jongro['매매가'])\n",
    "axs[2].set_ylabel('종로 매매가')\n",
    "\n",
    "axs[3].plot(df_jongro.index, df_jongro['거래량'],color='tab:red')\n",
    "axs[3].set_ylabel('종로 거래량')\n",
    "#ax2 = ax1.twinx()\n",
    "#ax2.plot(data=df)"
   ]
  },
  {
   "cell_type": "code",
   "execution_count": 15,
   "metadata": {},
   "outputs": [
    {
     "data": {
      "application/vnd.plotly.v1+json": {
       "config": {
        "plotlyServerURL": "https://plot.ly"
       },
       "data": [
        {
         "hovertemplate": "variable=매매가<br>index=%{x}<br>value=%{y}<extra></extra>",
         "legendgroup": "매매가",
         "line": {
          "color": "#636efa",
          "dash": "solid"
         },
         "marker": {
          "symbol": "circle"
         },
         "mode": "lines",
         "name": "매매가",
         "orientation": "v",
         "showlegend": true,
         "type": "scatter",
         "x": [
          "2011년",
          "2012년",
          "2013년",
          "2014년",
          "2015년",
          "2016년",
          "2017년",
          "2018년",
          "2019년",
          "2020년",
          "2021년",
          "2022년",
          "2023년"
         ],
         "xaxis": "x",
         "y": [
          46480.56540084388,
          51728.91727493917,
          49679.541743970316,
          45113.06122448979,
          48893.82738095238,
          54521.529482551145,
          56530.07607361963,
          61515.447513812156,
          84162.77108433735,
          80060.83834586466,
          92944.5054945055,
          68235.91279069768,
          110457.57281553397
         ],
         "yaxis": "y"
        },
        {
         "hovertemplate": "variable=거래량<br>index=%{x}<br>value=%{y}<extra></extra>",
         "legendgroup": "거래량",
         "line": {
          "color": "#EF553B",
          "dash": "solid"
         },
         "marker": {
          "symbol": "circle"
         },
         "mode": "lines",
         "name": "거래량",
         "orientation": "v",
         "showlegend": true,
         "type": "scatter",
         "x": [
          "2011년",
          "2012년",
          "2013년",
          "2014년",
          "2015년",
          "2016년",
          "2017년",
          "2018년",
          "2019년",
          "2020년",
          "2021년",
          "2022년",
          "2023년"
         ],
         "xaxis": "x",
         "y": [
          680,
          628,
          1108,
          1042,
          1447,
          1336,
          2562,
          1240,
          966,
          1181,
          838,
          345,
          369
         ],
         "yaxis": "y"
        }
       ],
       "layout": {
        "legend": {
         "title": {
          "text": "variable"
         },
         "tracegroupgap": 0
        },
        "margin": {
         "t": 60
        },
        "template": {
         "data": {
          "bar": [
           {
            "error_x": {
             "color": "#2a3f5f"
            },
            "error_y": {
             "color": "#2a3f5f"
            },
            "marker": {
             "line": {
              "color": "#E5ECF6",
              "width": 0.5
             },
             "pattern": {
              "fillmode": "overlay",
              "size": 10,
              "solidity": 0.2
             }
            },
            "type": "bar"
           }
          ],
          "barpolar": [
           {
            "marker": {
             "line": {
              "color": "#E5ECF6",
              "width": 0.5
             },
             "pattern": {
              "fillmode": "overlay",
              "size": 10,
              "solidity": 0.2
             }
            },
            "type": "barpolar"
           }
          ],
          "carpet": [
           {
            "aaxis": {
             "endlinecolor": "#2a3f5f",
             "gridcolor": "white",
             "linecolor": "white",
             "minorgridcolor": "white",
             "startlinecolor": "#2a3f5f"
            },
            "baxis": {
             "endlinecolor": "#2a3f5f",
             "gridcolor": "white",
             "linecolor": "white",
             "minorgridcolor": "white",
             "startlinecolor": "#2a3f5f"
            },
            "type": "carpet"
           }
          ],
          "choropleth": [
           {
            "colorbar": {
             "outlinewidth": 0,
             "ticks": ""
            },
            "type": "choropleth"
           }
          ],
          "contour": [
           {
            "colorbar": {
             "outlinewidth": 0,
             "ticks": ""
            },
            "colorscale": [
             [
              0,
              "#0d0887"
             ],
             [
              0.1111111111111111,
              "#46039f"
             ],
             [
              0.2222222222222222,
              "#7201a8"
             ],
             [
              0.3333333333333333,
              "#9c179e"
             ],
             [
              0.4444444444444444,
              "#bd3786"
             ],
             [
              0.5555555555555556,
              "#d8576b"
             ],
             [
              0.6666666666666666,
              "#ed7953"
             ],
             [
              0.7777777777777778,
              "#fb9f3a"
             ],
             [
              0.8888888888888888,
              "#fdca26"
             ],
             [
              1,
              "#f0f921"
             ]
            ],
            "type": "contour"
           }
          ],
          "contourcarpet": [
           {
            "colorbar": {
             "outlinewidth": 0,
             "ticks": ""
            },
            "type": "contourcarpet"
           }
          ],
          "heatmap": [
           {
            "colorbar": {
             "outlinewidth": 0,
             "ticks": ""
            },
            "colorscale": [
             [
              0,
              "#0d0887"
             ],
             [
              0.1111111111111111,
              "#46039f"
             ],
             [
              0.2222222222222222,
              "#7201a8"
             ],
             [
              0.3333333333333333,
              "#9c179e"
             ],
             [
              0.4444444444444444,
              "#bd3786"
             ],
             [
              0.5555555555555556,
              "#d8576b"
             ],
             [
              0.6666666666666666,
              "#ed7953"
             ],
             [
              0.7777777777777778,
              "#fb9f3a"
             ],
             [
              0.8888888888888888,
              "#fdca26"
             ],
             [
              1,
              "#f0f921"
             ]
            ],
            "type": "heatmap"
           }
          ],
          "heatmapgl": [
           {
            "colorbar": {
             "outlinewidth": 0,
             "ticks": ""
            },
            "colorscale": [
             [
              0,
              "#0d0887"
             ],
             [
              0.1111111111111111,
              "#46039f"
             ],
             [
              0.2222222222222222,
              "#7201a8"
             ],
             [
              0.3333333333333333,
              "#9c179e"
             ],
             [
              0.4444444444444444,
              "#bd3786"
             ],
             [
              0.5555555555555556,
              "#d8576b"
             ],
             [
              0.6666666666666666,
              "#ed7953"
             ],
             [
              0.7777777777777778,
              "#fb9f3a"
             ],
             [
              0.8888888888888888,
              "#fdca26"
             ],
             [
              1,
              "#f0f921"
             ]
            ],
            "type": "heatmapgl"
           }
          ],
          "histogram": [
           {
            "marker": {
             "pattern": {
              "fillmode": "overlay",
              "size": 10,
              "solidity": 0.2
             }
            },
            "type": "histogram"
           }
          ],
          "histogram2d": [
           {
            "colorbar": {
             "outlinewidth": 0,
             "ticks": ""
            },
            "colorscale": [
             [
              0,
              "#0d0887"
             ],
             [
              0.1111111111111111,
              "#46039f"
             ],
             [
              0.2222222222222222,
              "#7201a8"
             ],
             [
              0.3333333333333333,
              "#9c179e"
             ],
             [
              0.4444444444444444,
              "#bd3786"
             ],
             [
              0.5555555555555556,
              "#d8576b"
             ],
             [
              0.6666666666666666,
              "#ed7953"
             ],
             [
              0.7777777777777778,
              "#fb9f3a"
             ],
             [
              0.8888888888888888,
              "#fdca26"
             ],
             [
              1,
              "#f0f921"
             ]
            ],
            "type": "histogram2d"
           }
          ],
          "histogram2dcontour": [
           {
            "colorbar": {
             "outlinewidth": 0,
             "ticks": ""
            },
            "colorscale": [
             [
              0,
              "#0d0887"
             ],
             [
              0.1111111111111111,
              "#46039f"
             ],
             [
              0.2222222222222222,
              "#7201a8"
             ],
             [
              0.3333333333333333,
              "#9c179e"
             ],
             [
              0.4444444444444444,
              "#bd3786"
             ],
             [
              0.5555555555555556,
              "#d8576b"
             ],
             [
              0.6666666666666666,
              "#ed7953"
             ],
             [
              0.7777777777777778,
              "#fb9f3a"
             ],
             [
              0.8888888888888888,
              "#fdca26"
             ],
             [
              1,
              "#f0f921"
             ]
            ],
            "type": "histogram2dcontour"
           }
          ],
          "mesh3d": [
           {
            "colorbar": {
             "outlinewidth": 0,
             "ticks": ""
            },
            "type": "mesh3d"
           }
          ],
          "parcoords": [
           {
            "line": {
             "colorbar": {
              "outlinewidth": 0,
              "ticks": ""
             }
            },
            "type": "parcoords"
           }
          ],
          "pie": [
           {
            "automargin": true,
            "type": "pie"
           }
          ],
          "scatter": [
           {
            "fillpattern": {
             "fillmode": "overlay",
             "size": 10,
             "solidity": 0.2
            },
            "type": "scatter"
           }
          ],
          "scatter3d": [
           {
            "line": {
             "colorbar": {
              "outlinewidth": 0,
              "ticks": ""
             }
            },
            "marker": {
             "colorbar": {
              "outlinewidth": 0,
              "ticks": ""
             }
            },
            "type": "scatter3d"
           }
          ],
          "scattercarpet": [
           {
            "marker": {
             "colorbar": {
              "outlinewidth": 0,
              "ticks": ""
             }
            },
            "type": "scattercarpet"
           }
          ],
          "scattergeo": [
           {
            "marker": {
             "colorbar": {
              "outlinewidth": 0,
              "ticks": ""
             }
            },
            "type": "scattergeo"
           }
          ],
          "scattergl": [
           {
            "marker": {
             "colorbar": {
              "outlinewidth": 0,
              "ticks": ""
             }
            },
            "type": "scattergl"
           }
          ],
          "scattermapbox": [
           {
            "marker": {
             "colorbar": {
              "outlinewidth": 0,
              "ticks": ""
             }
            },
            "type": "scattermapbox"
           }
          ],
          "scatterpolar": [
           {
            "marker": {
             "colorbar": {
              "outlinewidth": 0,
              "ticks": ""
             }
            },
            "type": "scatterpolar"
           }
          ],
          "scatterpolargl": [
           {
            "marker": {
             "colorbar": {
              "outlinewidth": 0,
              "ticks": ""
             }
            },
            "type": "scatterpolargl"
           }
          ],
          "scatterternary": [
           {
            "marker": {
             "colorbar": {
              "outlinewidth": 0,
              "ticks": ""
             }
            },
            "type": "scatterternary"
           }
          ],
          "surface": [
           {
            "colorbar": {
             "outlinewidth": 0,
             "ticks": ""
            },
            "colorscale": [
             [
              0,
              "#0d0887"
             ],
             [
              0.1111111111111111,
              "#46039f"
             ],
             [
              0.2222222222222222,
              "#7201a8"
             ],
             [
              0.3333333333333333,
              "#9c179e"
             ],
             [
              0.4444444444444444,
              "#bd3786"
             ],
             [
              0.5555555555555556,
              "#d8576b"
             ],
             [
              0.6666666666666666,
              "#ed7953"
             ],
             [
              0.7777777777777778,
              "#fb9f3a"
             ],
             [
              0.8888888888888888,
              "#fdca26"
             ],
             [
              1,
              "#f0f921"
             ]
            ],
            "type": "surface"
           }
          ],
          "table": [
           {
            "cells": {
             "fill": {
              "color": "#EBF0F8"
             },
             "line": {
              "color": "white"
             }
            },
            "header": {
             "fill": {
              "color": "#C8D4E3"
             },
             "line": {
              "color": "white"
             }
            },
            "type": "table"
           }
          ]
         },
         "layout": {
          "annotationdefaults": {
           "arrowcolor": "#2a3f5f",
           "arrowhead": 0,
           "arrowwidth": 1
          },
          "autotypenumbers": "strict",
          "coloraxis": {
           "colorbar": {
            "outlinewidth": 0,
            "ticks": ""
           }
          },
          "colorscale": {
           "diverging": [
            [
             0,
             "#8e0152"
            ],
            [
             0.1,
             "#c51b7d"
            ],
            [
             0.2,
             "#de77ae"
            ],
            [
             0.3,
             "#f1b6da"
            ],
            [
             0.4,
             "#fde0ef"
            ],
            [
             0.5,
             "#f7f7f7"
            ],
            [
             0.6,
             "#e6f5d0"
            ],
            [
             0.7,
             "#b8e186"
            ],
            [
             0.8,
             "#7fbc41"
            ],
            [
             0.9,
             "#4d9221"
            ],
            [
             1,
             "#276419"
            ]
           ],
           "sequential": [
            [
             0,
             "#0d0887"
            ],
            [
             0.1111111111111111,
             "#46039f"
            ],
            [
             0.2222222222222222,
             "#7201a8"
            ],
            [
             0.3333333333333333,
             "#9c179e"
            ],
            [
             0.4444444444444444,
             "#bd3786"
            ],
            [
             0.5555555555555556,
             "#d8576b"
            ],
            [
             0.6666666666666666,
             "#ed7953"
            ],
            [
             0.7777777777777778,
             "#fb9f3a"
            ],
            [
             0.8888888888888888,
             "#fdca26"
            ],
            [
             1,
             "#f0f921"
            ]
           ],
           "sequentialminus": [
            [
             0,
             "#0d0887"
            ],
            [
             0.1111111111111111,
             "#46039f"
            ],
            [
             0.2222222222222222,
             "#7201a8"
            ],
            [
             0.3333333333333333,
             "#9c179e"
            ],
            [
             0.4444444444444444,
             "#bd3786"
            ],
            [
             0.5555555555555556,
             "#d8576b"
            ],
            [
             0.6666666666666666,
             "#ed7953"
            ],
            [
             0.7777777777777778,
             "#fb9f3a"
            ],
            [
             0.8888888888888888,
             "#fdca26"
            ],
            [
             1,
             "#f0f921"
            ]
           ]
          },
          "colorway": [
           "#636efa",
           "#EF553B",
           "#00cc96",
           "#ab63fa",
           "#FFA15A",
           "#19d3f3",
           "#FF6692",
           "#B6E880",
           "#FF97FF",
           "#FECB52"
          ],
          "font": {
           "color": "#2a3f5f"
          },
          "geo": {
           "bgcolor": "white",
           "lakecolor": "white",
           "landcolor": "#E5ECF6",
           "showlakes": true,
           "showland": true,
           "subunitcolor": "white"
          },
          "hoverlabel": {
           "align": "left"
          },
          "hovermode": "closest",
          "mapbox": {
           "style": "light"
          },
          "paper_bgcolor": "white",
          "plot_bgcolor": "#E5ECF6",
          "polar": {
           "angularaxis": {
            "gridcolor": "white",
            "linecolor": "white",
            "ticks": ""
           },
           "bgcolor": "#E5ECF6",
           "radialaxis": {
            "gridcolor": "white",
            "linecolor": "white",
            "ticks": ""
           }
          },
          "scene": {
           "xaxis": {
            "backgroundcolor": "#E5ECF6",
            "gridcolor": "white",
            "gridwidth": 2,
            "linecolor": "white",
            "showbackground": true,
            "ticks": "",
            "zerolinecolor": "white"
           },
           "yaxis": {
            "backgroundcolor": "#E5ECF6",
            "gridcolor": "white",
            "gridwidth": 2,
            "linecolor": "white",
            "showbackground": true,
            "ticks": "",
            "zerolinecolor": "white"
           },
           "zaxis": {
            "backgroundcolor": "#E5ECF6",
            "gridcolor": "white",
            "gridwidth": 2,
            "linecolor": "white",
            "showbackground": true,
            "ticks": "",
            "zerolinecolor": "white"
           }
          },
          "shapedefaults": {
           "line": {
            "color": "#2a3f5f"
           }
          },
          "ternary": {
           "aaxis": {
            "gridcolor": "white",
            "linecolor": "white",
            "ticks": ""
           },
           "baxis": {
            "gridcolor": "white",
            "linecolor": "white",
            "ticks": ""
           },
           "bgcolor": "#E5ECF6",
           "caxis": {
            "gridcolor": "white",
            "linecolor": "white",
            "ticks": ""
           }
          },
          "title": {
           "x": 0.05
          },
          "xaxis": {
           "automargin": true,
           "gridcolor": "white",
           "linecolor": "white",
           "ticks": "",
           "title": {
            "standoff": 15
           },
           "zerolinecolor": "white",
           "zerolinewidth": 2
          },
          "yaxis": {
           "automargin": true,
           "gridcolor": "white",
           "linecolor": "white",
           "ticks": "",
           "title": {
            "standoff": 15
           },
           "zerolinecolor": "white",
           "zerolinewidth": 2
          }
         }
        },
        "xaxis": {
         "anchor": "y",
         "domain": [
          0,
          1
         ],
         "title": {
          "text": "index"
         }
        },
        "yaxis": {
         "anchor": "x",
         "domain": [
          0,
          1
         ],
         "title": {
          "text": "value"
         }
        }
       }
      }
     },
     "metadata": {},
     "output_type": "display_data"
    }
   ],
   "source": [
    "px.line(df_jongro)"
   ]
  }
 ],
 "metadata": {
  "kernelspec": {
   "display_name": "eda_venv",
   "language": "python",
   "name": "python3"
  },
  "language_info": {
   "codemirror_mode": {
    "name": "ipython",
    "version": 3
   },
   "file_extension": ".py",
   "mimetype": "text/x-python",
   "name": "python",
   "nbconvert_exporter": "python",
   "pygments_lexer": "ipython3",
   "version": "3.10.12"
  }
 },
 "nbformat": 4,
 "nbformat_minor": 2
}
